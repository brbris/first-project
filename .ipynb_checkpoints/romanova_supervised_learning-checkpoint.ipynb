{
 "cells": [
  {
   "cell_type": "markdown",
   "metadata": {
    "toc": true
   },
   "source": [
    "<h1>Содержание<span class=\"tocSkip\"></span></h1>\n",
    "<div class=\"toc\"><ul class=\"toc-item\"><li><span><a href=\"#Описание-задачи\" data-toc-modified-id=\"Описание-задачи-1\"><span class=\"toc-item-num\">1&nbsp;&nbsp;</span>Описание задачи</a></span></li><li><span><a href=\"#Подготовка-данных\" data-toc-modified-id=\"Подготовка-данных-2\"><span class=\"toc-item-num\">2&nbsp;&nbsp;</span>Подготовка данных</a></span><ul class=\"toc-item\"><li><span><a href=\"#Изучение-файла\" data-toc-modified-id=\"Изучение-файла-2.1\"><span class=\"toc-item-num\">2.1&nbsp;&nbsp;</span>Изучение файла</a></span><ul class=\"toc-item\"><li><span><a href=\"#Вывод\" data-toc-modified-id=\"Вывод-2.1.1\"><span class=\"toc-item-num\">2.1.1&nbsp;&nbsp;</span>Вывод</a></span></li></ul></li><li><span><a href=\"#Предобработка-занных\" data-toc-modified-id=\"Предобработка-занных-2.2\"><span class=\"toc-item-num\">2.2&nbsp;&nbsp;</span>Предобработка занных</a></span><ul class=\"toc-item\"><li><span><a href=\"#Обработка-пропусков\" data-toc-modified-id=\"Обработка-пропусков-2.2.1\"><span class=\"toc-item-num\">2.2.1&nbsp;&nbsp;</span>Обработка пропусков</a></span></li><li><span><a href=\"#Преобразование-данных\" data-toc-modified-id=\"Преобразование-данных-2.2.2\"><span class=\"toc-item-num\">2.2.2&nbsp;&nbsp;</span>Преобразование данных</a></span></li><li><span><a href=\"#Поиск-дубликатов\" data-toc-modified-id=\"Поиск-дубликатов-2.2.3\"><span class=\"toc-item-num\">2.2.3&nbsp;&nbsp;</span>Поиск дубликатов</a></span></li><li><span><a href=\"#Категориальные-данные\" data-toc-modified-id=\"Категориальные-данные-2.2.4\"><span class=\"toc-item-num\">2.2.4&nbsp;&nbsp;</span>Категориальные данные</a></span></li><li><span><a href=\"#Количественные-данные\" data-toc-modified-id=\"Количественные-данные-2.2.5\"><span class=\"toc-item-num\">2.2.5&nbsp;&nbsp;</span>Количественные данные</a></span></li><li><span><a href=\"#Вывод:\" data-toc-modified-id=\"Вывод:-2.2.6\"><span class=\"toc-item-num\">2.2.6&nbsp;&nbsp;</span>Вывод:</a></span></li></ul></li></ul></li><li><span><a href=\"#Исследование-задачи\" data-toc-modified-id=\"Исследование-задачи-3\"><span class=\"toc-item-num\">3&nbsp;&nbsp;</span>Исследование задачи</a></span><ul class=\"toc-item\"><li><span><a href=\"#Мультиколлинеарность-признаков\" data-toc-modified-id=\"Мультиколлинеарность-признаков-3.1\"><span class=\"toc-item-num\">3.1&nbsp;&nbsp;</span>Мультиколлинеарность признаков</a></span></li><li><span><a href=\"#Дамми-преобразование\" data-toc-modified-id=\"Дамми-преобразование-3.2\"><span class=\"toc-item-num\">3.2&nbsp;&nbsp;</span>Дамми-преобразование</a></span></li><li><span><a href=\"#Масштабирование-признаков\" data-toc-modified-id=\"Масштабирование-признаков-3.3\"><span class=\"toc-item-num\">3.3&nbsp;&nbsp;</span>Масштабирование признаков</a></span></li><li><span><a href=\"#Исследование-баланса-классов\" data-toc-modified-id=\"Исследование-баланса-классов-3.4\"><span class=\"toc-item-num\">3.4&nbsp;&nbsp;</span>Исследование баланса классов</a></span><ul class=\"toc-item\"><li><span><a href=\"#Проверка-адекватности-модели\" data-toc-modified-id=\"Проверка-адекватности-модели-3.4.1\"><span class=\"toc-item-num\">3.4.1&nbsp;&nbsp;</span>Проверка адекватности модели</a></span></li><li><span><a href=\"#Матрица-ошибок\" data-toc-modified-id=\"Матрица-ошибок-3.4.2\"><span class=\"toc-item-num\">3.4.2&nbsp;&nbsp;</span>Матрица ошибок</a></span></li></ul></li><li><span><a href=\"#Вывод:\" data-toc-modified-id=\"Вывод:-3.5\"><span class=\"toc-item-num\">3.5&nbsp;&nbsp;</span>Вывод:</a></span></li></ul></li><li><span><a href=\"#Борьба-с-дисбалансом\" data-toc-modified-id=\"Борьба-с-дисбалансом-4\"><span class=\"toc-item-num\">4&nbsp;&nbsp;</span>Борьба с дисбалансом</a></span><ul class=\"toc-item\"><li><span><a href=\"#Балансировка-классов\" data-toc-modified-id=\"Балансировка-классов-4.1\"><span class=\"toc-item-num\">4.1&nbsp;&nbsp;</span>Балансировка классов</a></span></li><li><span><a href=\"#Увеличение-выборки-для-'1'-класса\" data-toc-modified-id=\"Увеличение-выборки-для-'1'-класса-4.2\"><span class=\"toc-item-num\">4.2&nbsp;&nbsp;</span>Увеличение выборки для '1' класса</a></span></li><li><span><a href=\"#Обучение-моделей-на-новых-данных\" data-toc-modified-id=\"Обучение-моделей-на-новых-данных-4.3\"><span class=\"toc-item-num\">4.3&nbsp;&nbsp;</span>Обучение моделей на новых данных</a></span><ul class=\"toc-item\"><li><span><a href=\"#Логистическая-регрессия\" data-toc-modified-id=\"Логистическая-регрессия-4.3.1\"><span class=\"toc-item-num\">4.3.1&nbsp;&nbsp;</span>Логистическая регрессия</a></span></li><li><span><a href=\"#Дерево-решений\" data-toc-modified-id=\"Дерево-решений-4.3.2\"><span class=\"toc-item-num\">4.3.2&nbsp;&nbsp;</span>Дерево решений</a></span></li><li><span><a href=\"#Случайный-лес\" data-toc-modified-id=\"Случайный-лес-4.3.3\"><span class=\"toc-item-num\">4.3.3&nbsp;&nbsp;</span>Случайный лес</a></span></li><li><span><a href=\"#Вывод:\" data-toc-modified-id=\"Вывод:-4.3.4\"><span class=\"toc-item-num\">4.3.4&nbsp;&nbsp;</span>Вывод:</a></span></li></ul></li></ul></li><li><span><a href=\"#Тестирование-модели\" data-toc-modified-id=\"Тестирование-модели-5\"><span class=\"toc-item-num\">5&nbsp;&nbsp;</span>Тестирование модели</a></span><ul class=\"toc-item\"><li><span><a href=\"#Вывод:\" data-toc-modified-id=\"Вывод:-5.1\"><span class=\"toc-item-num\">5.1&nbsp;&nbsp;</span>Вывод:</a></span></li></ul></li><li><span><a href=\"#Summary\" data-toc-modified-id=\"Summary-6\"><span class=\"toc-item-num\">6&nbsp;&nbsp;</span>Summary</a></span></li></ul></div>"
   ]
  },
  {
   "cell_type": "markdown",
   "metadata": {},
   "source": [
    "# Отток клиентов"
   ]
  },
  {
   "cell_type": "markdown",
   "metadata": {},
   "source": [
    "Из «Бета-Банка» стали уходить клиенты. Каждый месяц. Немного, но заметно. Банковские маркетологи посчитали: сохранять текущих клиентов дешевле, чем привлекать новых.\n",
    "\n",
    "Нужно спрогнозировать, уйдёт клиент из банка в ближайшее время или нет. Вам предоставлены исторические данные о поведении клиентов и расторжении договоров с банком. \n",
    "\n",
    "Постройте модель с предельно большим значением *F1*-меры. Чтобы сдать проект успешно, нужно довести метрику до 0.59. Проверьте *F1*-меру на тестовой выборке самостоятельно.\n",
    "\n",
    "Дополнительно измеряйте *AUC-ROC*, сравнивайте её значение с *F1*-мерой.\n",
    "\n",
    "Источник данных: [https://www.kaggle.com/barelydedicated/bank-customer-churn-modeling](https://www.kaggle.com/barelydedicated/bank-customer-churn-modeling)"
   ]
  },
  {
   "cell_type": "markdown",
   "metadata": {},
   "source": [
    "## Описание задачи"
   ]
  },
  {
   "cell_type": "markdown",
   "metadata": {},
   "source": [
    "Нужно обучить модель, которая сможет предсказывать уход клиента 'Бета-Банка'. \n",
    "Этапы решения данной задачи:"
   ]
  },
  {
   "cell_type": "markdown",
   "metadata": {},
   "source": [
    "1. Загрузить и подготовить данные. Пояснить порядок действий.\n",
    "2. Исследовать баланс классов, обучить модель без учёта дисбаланса. Кратко описать выводы.\n",
    "3. Улучшить качество модели, учитывая дисбаланс классов. Обучить разные модели и найти лучшую. Кратко описать выводы.\n",
    "4. Провести финальное тестирование."
   ]
  },
  {
   "cell_type": "markdown",
   "metadata": {},
   "source": [
    "## Подготовка данных"
   ]
  },
  {
   "cell_type": "markdown",
   "metadata": {},
   "source": [
    "### Изучение файла"
   ]
  },
  {
   "cell_type": "markdown",
   "metadata": {},
   "source": [
    "В ячейке ниже я буду хранить все импорты проекта в упорядоченом виде в соответствиис рекомендациями PEP-8:"
   ]
  },
  {
   "cell_type": "code",
   "execution_count": 1,
   "metadata": {},
   "outputs": [],
   "source": [
    "import numpy \n",
    "\n",
    "import pandas as pd\n",
    "\n",
    "import seaborn as sns\n",
    "\n",
    "from sklearn.ensemble import RandomForestClassifier\n",
    "from sklearn.linear_model import LogisticRegression\n",
    "from sklearn.metrics import accuracy_score\n",
    "from sklearn.metrics import confusion_matrix\n",
    "from sklearn.metrics import f1_score\n",
    "from sklearn.metrics import recall_score\n",
    "from sklearn.metrics import precision_score\n",
    "from sklearn.metrics import precision_recall_curve\n",
    "from sklearn.metrics import roc_auc_score\n",
    "from sklearn.metrics import roc_curve\n",
    "from sklearn.model_selection import train_test_split\n",
    "from sklearn.preprocessing import StandardScaler\n",
    "from sklearn.tree import DecisionTreeClassifier\n",
    "from sklearn.utils import shuffle\n",
    "\n",
    "import matplotlib.pyplot as plt\n",
    "\n",
    "from tqdm import tqdm"
   ]
  },
  {
   "cell_type": "markdown",
   "metadata": {},
   "source": [
    "Загружаю файл и изучу его:"
   ]
  },
  {
   "cell_type": "code",
   "execution_count": 2,
   "metadata": {
    "scrolled": true
   },
   "outputs": [
    {
     "ename": "FileNotFoundError",
     "evalue": "[Errno 2] No such file or directory: '/datasets/Churn.csv'",
     "output_type": "error",
     "traceback": [
      "\u001b[1;31m---------------------------------------------------------------------------\u001b[0m",
      "\u001b[1;31mFileNotFoundError\u001b[0m                         Traceback (most recent call last)",
      "\u001b[1;32m~\\AppData\\Local\\Temp/ipykernel_3496/3343245023.py\u001b[0m in \u001b[0;36m<module>\u001b[1;34m\u001b[0m\n\u001b[1;32m----> 1\u001b[1;33m \u001b[0mdata\u001b[0m \u001b[1;33m=\u001b[0m \u001b[0mpd\u001b[0m\u001b[1;33m.\u001b[0m\u001b[0mread_csv\u001b[0m\u001b[1;33m(\u001b[0m\u001b[1;34m'/datasets/Churn.csv'\u001b[0m\u001b[1;33m)\u001b[0m\u001b[1;33m\u001b[0m\u001b[1;33m\u001b[0m\u001b[0m\n\u001b[0m\u001b[0;32m      2\u001b[0m \u001b[0mdisplay\u001b[0m\u001b[1;33m(\u001b[0m\u001b[0mdata\u001b[0m\u001b[1;33m.\u001b[0m\u001b[0mhead\u001b[0m\u001b[1;33m(\u001b[0m\u001b[1;33m)\u001b[0m\u001b[1;33m)\u001b[0m\u001b[1;33m\u001b[0m\u001b[1;33m\u001b[0m\u001b[0m\n",
      "\u001b[1;32m~\\miniconda3\\lib\\site-packages\\pandas\\util\\_decorators.py\u001b[0m in \u001b[0;36mwrapper\u001b[1;34m(*args, **kwargs)\u001b[0m\n\u001b[0;32m    309\u001b[0m                     \u001b[0mstacklevel\u001b[0m\u001b[1;33m=\u001b[0m\u001b[0mstacklevel\u001b[0m\u001b[1;33m,\u001b[0m\u001b[1;33m\u001b[0m\u001b[1;33m\u001b[0m\u001b[0m\n\u001b[0;32m    310\u001b[0m                 )\n\u001b[1;32m--> 311\u001b[1;33m             \u001b[1;32mreturn\u001b[0m \u001b[0mfunc\u001b[0m\u001b[1;33m(\u001b[0m\u001b[1;33m*\u001b[0m\u001b[0margs\u001b[0m\u001b[1;33m,\u001b[0m \u001b[1;33m**\u001b[0m\u001b[0mkwargs\u001b[0m\u001b[1;33m)\u001b[0m\u001b[1;33m\u001b[0m\u001b[1;33m\u001b[0m\u001b[0m\n\u001b[0m\u001b[0;32m    312\u001b[0m \u001b[1;33m\u001b[0m\u001b[0m\n\u001b[0;32m    313\u001b[0m         \u001b[1;32mreturn\u001b[0m \u001b[0mwrapper\u001b[0m\u001b[1;33m\u001b[0m\u001b[1;33m\u001b[0m\u001b[0m\n",
      "\u001b[1;32m~\\miniconda3\\lib\\site-packages\\pandas\\io\\parsers\\readers.py\u001b[0m in \u001b[0;36mread_csv\u001b[1;34m(filepath_or_buffer, sep, delimiter, header, names, index_col, usecols, squeeze, prefix, mangle_dupe_cols, dtype, engine, converters, true_values, false_values, skipinitialspace, skiprows, skipfooter, nrows, na_values, keep_default_na, na_filter, verbose, skip_blank_lines, parse_dates, infer_datetime_format, keep_date_col, date_parser, dayfirst, cache_dates, iterator, chunksize, compression, thousands, decimal, lineterminator, quotechar, quoting, doublequote, escapechar, comment, encoding, encoding_errors, dialect, error_bad_lines, warn_bad_lines, on_bad_lines, delim_whitespace, low_memory, memory_map, float_precision, storage_options)\u001b[0m\n\u001b[0;32m    584\u001b[0m     \u001b[0mkwds\u001b[0m\u001b[1;33m.\u001b[0m\u001b[0mupdate\u001b[0m\u001b[1;33m(\u001b[0m\u001b[0mkwds_defaults\u001b[0m\u001b[1;33m)\u001b[0m\u001b[1;33m\u001b[0m\u001b[1;33m\u001b[0m\u001b[0m\n\u001b[0;32m    585\u001b[0m \u001b[1;33m\u001b[0m\u001b[0m\n\u001b[1;32m--> 586\u001b[1;33m     \u001b[1;32mreturn\u001b[0m \u001b[0m_read\u001b[0m\u001b[1;33m(\u001b[0m\u001b[0mfilepath_or_buffer\u001b[0m\u001b[1;33m,\u001b[0m \u001b[0mkwds\u001b[0m\u001b[1;33m)\u001b[0m\u001b[1;33m\u001b[0m\u001b[1;33m\u001b[0m\u001b[0m\n\u001b[0m\u001b[0;32m    587\u001b[0m \u001b[1;33m\u001b[0m\u001b[0m\n\u001b[0;32m    588\u001b[0m \u001b[1;33m\u001b[0m\u001b[0m\n",
      "\u001b[1;32m~\\miniconda3\\lib\\site-packages\\pandas\\io\\parsers\\readers.py\u001b[0m in \u001b[0;36m_read\u001b[1;34m(filepath_or_buffer, kwds)\u001b[0m\n\u001b[0;32m    480\u001b[0m \u001b[1;33m\u001b[0m\u001b[0m\n\u001b[0;32m    481\u001b[0m     \u001b[1;31m# Create the parser.\u001b[0m\u001b[1;33m\u001b[0m\u001b[1;33m\u001b[0m\u001b[1;33m\u001b[0m\u001b[0m\n\u001b[1;32m--> 482\u001b[1;33m     \u001b[0mparser\u001b[0m \u001b[1;33m=\u001b[0m \u001b[0mTextFileReader\u001b[0m\u001b[1;33m(\u001b[0m\u001b[0mfilepath_or_buffer\u001b[0m\u001b[1;33m,\u001b[0m \u001b[1;33m**\u001b[0m\u001b[0mkwds\u001b[0m\u001b[1;33m)\u001b[0m\u001b[1;33m\u001b[0m\u001b[1;33m\u001b[0m\u001b[0m\n\u001b[0m\u001b[0;32m    483\u001b[0m \u001b[1;33m\u001b[0m\u001b[0m\n\u001b[0;32m    484\u001b[0m     \u001b[1;32mif\u001b[0m \u001b[0mchunksize\u001b[0m \u001b[1;32mor\u001b[0m \u001b[0miterator\u001b[0m\u001b[1;33m:\u001b[0m\u001b[1;33m\u001b[0m\u001b[1;33m\u001b[0m\u001b[0m\n",
      "\u001b[1;32m~\\miniconda3\\lib\\site-packages\\pandas\\io\\parsers\\readers.py\u001b[0m in \u001b[0;36m__init__\u001b[1;34m(self, f, engine, **kwds)\u001b[0m\n\u001b[0;32m    809\u001b[0m             \u001b[0mself\u001b[0m\u001b[1;33m.\u001b[0m\u001b[0moptions\u001b[0m\u001b[1;33m[\u001b[0m\u001b[1;34m\"has_index_names\"\u001b[0m\u001b[1;33m]\u001b[0m \u001b[1;33m=\u001b[0m \u001b[0mkwds\u001b[0m\u001b[1;33m[\u001b[0m\u001b[1;34m\"has_index_names\"\u001b[0m\u001b[1;33m]\u001b[0m\u001b[1;33m\u001b[0m\u001b[1;33m\u001b[0m\u001b[0m\n\u001b[0;32m    810\u001b[0m \u001b[1;33m\u001b[0m\u001b[0m\n\u001b[1;32m--> 811\u001b[1;33m         \u001b[0mself\u001b[0m\u001b[1;33m.\u001b[0m\u001b[0m_engine\u001b[0m \u001b[1;33m=\u001b[0m \u001b[0mself\u001b[0m\u001b[1;33m.\u001b[0m\u001b[0m_make_engine\u001b[0m\u001b[1;33m(\u001b[0m\u001b[0mself\u001b[0m\u001b[1;33m.\u001b[0m\u001b[0mengine\u001b[0m\u001b[1;33m)\u001b[0m\u001b[1;33m\u001b[0m\u001b[1;33m\u001b[0m\u001b[0m\n\u001b[0m\u001b[0;32m    812\u001b[0m \u001b[1;33m\u001b[0m\u001b[0m\n\u001b[0;32m    813\u001b[0m     \u001b[1;32mdef\u001b[0m \u001b[0mclose\u001b[0m\u001b[1;33m(\u001b[0m\u001b[0mself\u001b[0m\u001b[1;33m)\u001b[0m\u001b[1;33m:\u001b[0m\u001b[1;33m\u001b[0m\u001b[1;33m\u001b[0m\u001b[0m\n",
      "\u001b[1;32m~\\miniconda3\\lib\\site-packages\\pandas\\io\\parsers\\readers.py\u001b[0m in \u001b[0;36m_make_engine\u001b[1;34m(self, engine)\u001b[0m\n\u001b[0;32m   1038\u001b[0m             )\n\u001b[0;32m   1039\u001b[0m         \u001b[1;31m# error: Too many arguments for \"ParserBase\"\u001b[0m\u001b[1;33m\u001b[0m\u001b[1;33m\u001b[0m\u001b[1;33m\u001b[0m\u001b[0m\n\u001b[1;32m-> 1040\u001b[1;33m         \u001b[1;32mreturn\u001b[0m \u001b[0mmapping\u001b[0m\u001b[1;33m[\u001b[0m\u001b[0mengine\u001b[0m\u001b[1;33m]\u001b[0m\u001b[1;33m(\u001b[0m\u001b[0mself\u001b[0m\u001b[1;33m.\u001b[0m\u001b[0mf\u001b[0m\u001b[1;33m,\u001b[0m \u001b[1;33m**\u001b[0m\u001b[0mself\u001b[0m\u001b[1;33m.\u001b[0m\u001b[0moptions\u001b[0m\u001b[1;33m)\u001b[0m  \u001b[1;31m# type: ignore[call-arg]\u001b[0m\u001b[1;33m\u001b[0m\u001b[1;33m\u001b[0m\u001b[0m\n\u001b[0m\u001b[0;32m   1041\u001b[0m \u001b[1;33m\u001b[0m\u001b[0m\n\u001b[0;32m   1042\u001b[0m     \u001b[1;32mdef\u001b[0m \u001b[0m_failover_to_python\u001b[0m\u001b[1;33m(\u001b[0m\u001b[0mself\u001b[0m\u001b[1;33m)\u001b[0m\u001b[1;33m:\u001b[0m\u001b[1;33m\u001b[0m\u001b[1;33m\u001b[0m\u001b[0m\n",
      "\u001b[1;32m~\\miniconda3\\lib\\site-packages\\pandas\\io\\parsers\\c_parser_wrapper.py\u001b[0m in \u001b[0;36m__init__\u001b[1;34m(self, src, **kwds)\u001b[0m\n\u001b[0;32m     49\u001b[0m \u001b[1;33m\u001b[0m\u001b[0m\n\u001b[0;32m     50\u001b[0m         \u001b[1;31m# open handles\u001b[0m\u001b[1;33m\u001b[0m\u001b[1;33m\u001b[0m\u001b[1;33m\u001b[0m\u001b[0m\n\u001b[1;32m---> 51\u001b[1;33m         \u001b[0mself\u001b[0m\u001b[1;33m.\u001b[0m\u001b[0m_open_handles\u001b[0m\u001b[1;33m(\u001b[0m\u001b[0msrc\u001b[0m\u001b[1;33m,\u001b[0m \u001b[0mkwds\u001b[0m\u001b[1;33m)\u001b[0m\u001b[1;33m\u001b[0m\u001b[1;33m\u001b[0m\u001b[0m\n\u001b[0m\u001b[0;32m     52\u001b[0m         \u001b[1;32massert\u001b[0m \u001b[0mself\u001b[0m\u001b[1;33m.\u001b[0m\u001b[0mhandles\u001b[0m \u001b[1;32mis\u001b[0m \u001b[1;32mnot\u001b[0m \u001b[1;32mNone\u001b[0m\u001b[1;33m\u001b[0m\u001b[1;33m\u001b[0m\u001b[0m\n\u001b[0;32m     53\u001b[0m \u001b[1;33m\u001b[0m\u001b[0m\n",
      "\u001b[1;32m~\\miniconda3\\lib\\site-packages\\pandas\\io\\parsers\\base_parser.py\u001b[0m in \u001b[0;36m_open_handles\u001b[1;34m(self, src, kwds)\u001b[0m\n\u001b[0;32m    220\u001b[0m         \u001b[0mLet\u001b[0m \u001b[0mthe\u001b[0m \u001b[0mreaders\u001b[0m \u001b[0mopen\u001b[0m \u001b[0mIOHandles\u001b[0m \u001b[0mafter\u001b[0m \u001b[0mthey\u001b[0m \u001b[0mare\u001b[0m \u001b[0mdone\u001b[0m \u001b[1;32mwith\u001b[0m \u001b[0mtheir\u001b[0m \u001b[0mpotential\u001b[0m \u001b[0mraises\u001b[0m\u001b[1;33m.\u001b[0m\u001b[1;33m\u001b[0m\u001b[1;33m\u001b[0m\u001b[0m\n\u001b[0;32m    221\u001b[0m         \"\"\"\n\u001b[1;32m--> 222\u001b[1;33m         self.handles = get_handle(\n\u001b[0m\u001b[0;32m    223\u001b[0m             \u001b[0msrc\u001b[0m\u001b[1;33m,\u001b[0m\u001b[1;33m\u001b[0m\u001b[1;33m\u001b[0m\u001b[0m\n\u001b[0;32m    224\u001b[0m             \u001b[1;34m\"r\"\u001b[0m\u001b[1;33m,\u001b[0m\u001b[1;33m\u001b[0m\u001b[1;33m\u001b[0m\u001b[0m\n",
      "\u001b[1;32m~\\miniconda3\\lib\\site-packages\\pandas\\io\\common.py\u001b[0m in \u001b[0;36mget_handle\u001b[1;34m(path_or_buf, mode, encoding, compression, memory_map, is_text, errors, storage_options)\u001b[0m\n\u001b[0;32m    700\u001b[0m         \u001b[1;32mif\u001b[0m \u001b[0mioargs\u001b[0m\u001b[1;33m.\u001b[0m\u001b[0mencoding\u001b[0m \u001b[1;32mand\u001b[0m \u001b[1;34m\"b\"\u001b[0m \u001b[1;32mnot\u001b[0m \u001b[1;32min\u001b[0m \u001b[0mioargs\u001b[0m\u001b[1;33m.\u001b[0m\u001b[0mmode\u001b[0m\u001b[1;33m:\u001b[0m\u001b[1;33m\u001b[0m\u001b[1;33m\u001b[0m\u001b[0m\n\u001b[0;32m    701\u001b[0m             \u001b[1;31m# Encoding\u001b[0m\u001b[1;33m\u001b[0m\u001b[1;33m\u001b[0m\u001b[1;33m\u001b[0m\u001b[0m\n\u001b[1;32m--> 702\u001b[1;33m             handle = open(\n\u001b[0m\u001b[0;32m    703\u001b[0m                 \u001b[0mhandle\u001b[0m\u001b[1;33m,\u001b[0m\u001b[1;33m\u001b[0m\u001b[1;33m\u001b[0m\u001b[0m\n\u001b[0;32m    704\u001b[0m                 \u001b[0mioargs\u001b[0m\u001b[1;33m.\u001b[0m\u001b[0mmode\u001b[0m\u001b[1;33m,\u001b[0m\u001b[1;33m\u001b[0m\u001b[1;33m\u001b[0m\u001b[0m\n",
      "\u001b[1;31mFileNotFoundError\u001b[0m: [Errno 2] No such file or directory: '/datasets/Churn.csv'"
     ]
    }
   ],
   "source": [
    "data = pd.read_csv('/datasets/Churn.csv')\n",
    "display(data.head())"
   ]
  },
  {
   "cell_type": "markdown",
   "metadata": {},
   "source": [
    "На первый взгляд больших проблем в данных нет. Названия столбцов написаны в \"верблюжьем регистре\", переименовывать столбцы не нужно."
   ]
  },
  {
   "cell_type": "code",
   "execution_count": null,
   "metadata": {},
   "outputs": [],
   "source": [
    "data.info()"
   ]
  },
  {
   "cell_type": "markdown",
   "metadata": {},
   "source": [
    "\n",
    "\n",
    "**Признаки**\n",
    "\n",
    "* `RowNumber` — индекс строки в данных\n",
    "* `CustomerId` — уникальный идентификатор клиента\n",
    "* `Surname` — фамилия\n",
    "* `CreditScore` — кредитный рейтинг\n",
    "* `Geography` — страна проживания\n",
    "* `Gender` — пол\n",
    "* `Age` — возраст\n",
    "* `Tenure` — сколько лет человек является клиентом банка\n",
    "* `Balance` — баланс на счёте\n",
    "* `NumOfProducts` — количество продуктов банка, используемых клиентом\n",
    "* `HasCrCard` — наличие кредитной карты\n",
    "* `IsActiveMember` — активность клиента\n",
    "* `EstimatedSalary` — предполагаемая зарплата\n",
    "\n",
    "**Целевой признак**\n",
    "\n",
    "* `Exited` — факт ухода клиента"
   ]
  },
  {
   "cell_type": "markdown",
   "metadata": {},
   "source": [
    "#### Вывод"
   ]
  },
  {
   "cell_type": "markdown",
   "metadata": {},
   "source": [
    "В таблице 13 столбцов с типами данных float64, int64 и object и 10000 строчек. В столбце Tenure 909 явных пропусков, которые необходимо обработать. Тип данных столбца `Tenure` нужно изменить на целочисленный. "
   ]
  },
  {
   "cell_type": "markdown",
   "metadata": {},
   "source": [
    "### Предобработка занных"
   ]
  },
  {
   "cell_type": "markdown",
   "metadata": {},
   "source": [
    "#### Обработка пропусков"
   ]
  },
  {
   "cell_type": "code",
   "execution_count": null,
   "metadata": {},
   "outputs": [],
   "source": [
    "print(data['Tenure'].unique())"
   ]
  },
  {
   "cell_type": "code",
   "execution_count": null,
   "metadata": {},
   "outputs": [],
   "source": [
    "data['Tenure'].isna().sum()"
   ]
  },
  {
   "cell_type": "markdown",
   "metadata": {},
   "source": [
    "Обнапужены 909 nan-ов, изучим в данные с этими пропусками, поймем закономерности и подумаем, что с ними делать:"
   ]
  },
  {
   "cell_type": "code",
   "execution_count": null,
   "metadata": {},
   "outputs": [],
   "source": [
    "display(data[data['Tenure'].isna()].head(10))"
   ]
  },
  {
   "cell_type": "markdown",
   "metadata": {},
   "source": [
    "Явной связи этого признака с другими не неблюдается, скорее всего, эти ячейки пропущенны сотрудником при заполнении и пропуск означает то, что человек является клиентом банка менее года. "
   ]
  },
  {
   "cell_type": "code",
   "execution_count": null,
   "metadata": {},
   "outputs": [],
   "source": [
    "GroupedTenure = data['Tenure'].value_counts()\n",
    "GroupedTenure.plot(kind='bar')"
   ]
  },
  {
   "cell_type": "markdown",
   "metadata": {},
   "source": [
    "Клиентов до года меньше всего, когда логично было бы наоборот. Значит, пропущенные ячейки надо заполнить."
   ]
  },
  {
   "cell_type": "code",
   "execution_count": null,
   "metadata": {
    "scrolled": true
   },
   "outputs": [],
   "source": [
    "data['Tenure'] = data['Tenure'].fillna(0)\n",
    "GroupedTenure = data['Tenure'].value_counts()\n",
    "GroupedTenure.plot(kind='bar')"
   ]
  },
  {
   "cell_type": "code",
   "execution_count": null,
   "metadata": {},
   "outputs": [],
   "source": [
    "data['Tenure'].isna().sum()"
   ]
  },
  {
   "cell_type": "markdown",
   "metadata": {},
   "source": [
    " Пропуски заполнены, соотношение по количеству лет выглядит логичным."
   ]
  },
  {
   "cell_type": "markdown",
   "metadata": {},
   "source": [
    "#### Преобразование данных"
   ]
  },
  {
   "cell_type": "markdown",
   "metadata": {},
   "source": [
    "Изменим типы данных, о которых говорилось в пунке исследования 1.1:"
   ]
  },
  {
   "cell_type": "code",
   "execution_count": null,
   "metadata": {},
   "outputs": [],
   "source": [
    "data['Tenure'] = data['Tenure'].astype('int64')"
   ]
  },
  {
   "cell_type": "code",
   "execution_count": null,
   "metadata": {},
   "outputs": [],
   "source": [
    "data['Tenure'].dtype"
   ]
  },
  {
   "cell_type": "code",
   "execution_count": null,
   "metadata": {},
   "outputs": [],
   "source": [
    "display(data['Tenure'].head())"
   ]
  },
  {
   "cell_type": "markdown",
   "metadata": {},
   "source": [
    "Тип данных исправлен c `float` на корректный `int`"
   ]
  },
  {
   "cell_type": "markdown",
   "metadata": {},
   "source": [
    "#### Поиск дубликатов"
   ]
  },
  {
   "cell_type": "markdown",
   "metadata": {},
   "source": [
    "Изучим, имеются ли явные дубликаты:"
   ]
  },
  {
   "cell_type": "code",
   "execution_count": null,
   "metadata": {},
   "outputs": [],
   "source": [
    "print(data.duplicated().sum())"
   ]
  },
  {
   "cell_type": "markdown",
   "metadata": {},
   "source": [
    "Явных дубликатов не обнаружено."
   ]
  },
  {
   "cell_type": "markdown",
   "metadata": {},
   "source": [
    "Попробуем найти неявные дубликаты"
   ]
  },
  {
   "cell_type": "code",
   "execution_count": null,
   "metadata": {},
   "outputs": [],
   "source": [
    "print(data['CustomerId'].duplicated().sum())"
   ]
  },
  {
   "cell_type": "markdown",
   "metadata": {},
   "source": [
    "Повторяющихся Id нет."
   ]
  },
  {
   "cell_type": "markdown",
   "metadata": {},
   "source": [
    "Признак `RowNumber` не несет для работы с данными никакой смысловлй нагрузки, по сути дублируя индекс строки - его можно удалить."
   ]
  },
  {
   "cell_type": "code",
   "execution_count": null,
   "metadata": {
    "scrolled": true
   },
   "outputs": [],
   "source": [
    "data = data.drop(['RowNumber'], axis=1)\n",
    "display(data.head())"
   ]
  },
  {
   "cell_type": "markdown",
   "metadata": {},
   "source": [
    "#### Категориальные данные"
   ]
  },
  {
   "cell_type": "markdown",
   "metadata": {},
   "source": [
    "Изучим есть ли особенности в категориальных признаках:"
   ]
  },
  {
   "cell_type": "code",
   "execution_count": null,
   "metadata": {},
   "outputs": [],
   "source": [
    "print(data['Geography'].unique())"
   ]
  },
  {
   "cell_type": "markdown",
   "metadata": {},
   "source": [
    "С названиями все хорошо."
   ]
  },
  {
   "cell_type": "code",
   "execution_count": null,
   "metadata": {},
   "outputs": [],
   "source": [
    "print(data['Geography'].value_counts())"
   ]
  },
  {
   "cell_type": "markdown",
   "metadata": {},
   "source": [
    "Клиентов из франции в почти 2 раза больше чем в остальных городах."
   ]
  },
  {
   "cell_type": "code",
   "execution_count": null,
   "metadata": {},
   "outputs": [],
   "source": [
    "print(data['Gender'].unique())"
   ]
  },
  {
   "cell_type": "markdown",
   "metadata": {},
   "source": [
    "С полами все впорядке."
   ]
  },
  {
   "cell_type": "code",
   "execution_count": null,
   "metadata": {
    "scrolled": true
   },
   "outputs": [],
   "source": [
    "print((data['Gender'].value_counts()))"
   ]
  },
  {
   "cell_type": "markdown",
   "metadata": {},
   "source": [
    "Мужчин и женщин примерно поровну, все ок."
   ]
  },
  {
   "cell_type": "markdown",
   "metadata": {},
   "source": [
    "#### Количественные данные"
   ]
  },
  {
   "cell_type": "code",
   "execution_count": null,
   "metadata": {},
   "outputs": [],
   "source": [
    "print(data['NumOfProducts'].unique())"
   ]
  },
  {
   "cell_type": "code",
   "execution_count": null,
   "metadata": {
    "scrolled": true
   },
   "outputs": [],
   "source": [
    "print((data['NumOfProducts'].value_counts()))"
   ]
  },
  {
   "cell_type": "markdown",
   "metadata": {},
   "source": [
    "Клиентов с 1 продуктом больше всего, с 4 - всего 60, выглядит логично."
   ]
  },
  {
   "cell_type": "code",
   "execution_count": null,
   "metadata": {},
   "outputs": [],
   "source": [
    "print(data['HasCrCard'].unique())"
   ]
  },
  {
   "cell_type": "code",
   "execution_count": null,
   "metadata": {},
   "outputs": [],
   "source": [
    "print(data['HasCrCard'].value_counts())"
   ]
  },
  {
   "cell_type": "markdown",
   "metadata": {},
   "source": [
    "Клиентов без кредитных карт сильно меньше, но это не похоже на проблему в данных - люди не любят брать кредиты)"
   ]
  },
  {
   "cell_type": "code",
   "execution_count": null,
   "metadata": {},
   "outputs": [],
   "source": [
    "print(data['IsActiveMember'].unique())"
   ]
  },
  {
   "cell_type": "code",
   "execution_count": null,
   "metadata": {},
   "outputs": [],
   "source": [
    "print(data['IsActiveMember'].value_counts())"
   ]
  },
  {
   "cell_type": "markdown",
   "metadata": {},
   "source": [
    "Активных и пассивных клиентов примерно поровну."
   ]
  },
  {
   "cell_type": "code",
   "execution_count": null,
   "metadata": {},
   "outputs": [],
   "source": [
    "print(data['Exited'].unique())"
   ]
  },
  {
   "cell_type": "code",
   "execution_count": null,
   "metadata": {},
   "outputs": [],
   "source": [
    "print(data['Exited'].value_counts())"
   ]
  },
  {
   "cell_type": "markdown",
   "metadata": {},
   "source": [
    "Ушедших клиентов в 4 раза больше оставшися."
   ]
  },
  {
   "cell_type": "markdown",
   "metadata": {},
   "source": [
    "#### Вывод:"
   ]
  },
  {
   "cell_type": "markdown",
   "metadata": {},
   "source": [
    "Пропуски признака `Tenure` заполнены нулями. Тип данных столбца изменен на целочисленный. Столбец `RowNumber` удален, как дублирующий индексацию. В остальных данных проблем не обнаружено."
   ]
  },
  {
   "cell_type": "markdown",
   "metadata": {},
   "source": [
    "## Исследование задачи"
   ]
  },
  {
   "cell_type": "markdown",
   "metadata": {},
   "source": [
    "### Мультиколлинеарность признаков"
   ]
  },
  {
   "cell_type": "markdown",
   "metadata": {},
   "source": [
    "Изучу, есть ли в данных мультиколлинеарность. Высокая корреляция (мультиколлениарность) может привести к нестабильной работе моделей машинного обучения: наличие «лишних» признаков ведёт к переобучению или вовсе ломает модель. Использую метод sns.pairplot с параметром hue='is_ultra', чтобы исследовать, имеется ли корреляция независимых переменных:"
   ]
  },
  {
   "cell_type": "code",
   "execution_count": null,
   "metadata": {
    "scrolled": false
   },
   "outputs": [],
   "source": [
    "sns.pairplot(data, hue='Exited')"
   ]
  },
  {
   "cell_type": "markdown",
   "metadata": {},
   "source": [
    "Корелляций данных не обнаружено, в качестве фичей можно передавать все стоблцы."
   ]
  },
  {
   "cell_type": "markdown",
   "metadata": {},
   "source": [
    "### Дамми-преобразование"
   ]
  },
  {
   "cell_type": "markdown",
   "metadata": {},
   "source": [
    "Теперь можно обучить первую пробную модель.\n",
    "Чтобы предсказать класс, обратимся к логистической регрессии. Логистическая регрессия подходит для задачи классификации, как у нас, когда выбор между двумя категориями — ушел клиент из банка или нет."
   ]
  },
  {
   "cell_type": "markdown",
   "metadata": {},
   "source": [
    "Данные содержат категориальные признаки, чтобы обучить модель их нужно преобразовать в численные с помощью техники прямого кодирования, или отображения (One-Hot Encoding или OHE)."
   ]
  },
  {
   "cell_type": "markdown",
   "metadata": {},
   "source": [
    "Преобразую категориальные колонки техникой OHE: "
   ]
  },
  {
   "cell_type": "code",
   "execution_count": null,
   "metadata": {},
   "outputs": [],
   "source": [
    "display(data.head())"
   ]
  },
  {
   "cell_type": "code",
   "execution_count": null,
   "metadata": {
    "scrolled": true
   },
   "outputs": [],
   "source": [
    "data_ohe = pd.get_dummies(data, drop_first=True, columns=['Geography', 'Gender']) \n",
    "display(data_ohe.head())"
   ]
  },
  {
   "cell_type": "code",
   "execution_count": null,
   "metadata": {},
   "outputs": [],
   "source": [
    "df_to_split_again, df_test = train_test_split(data_ohe, test_size=0.2, random_state=12345)\n",
    "train, valid = train_test_split(df_to_split_again, test_size=0.25, random_state=12345)\n",
    "\n",
    "features_train = train.drop(['Exited', 'Surname', 'CustomerId'], axis=1)\n",
    "target_train = train['Exited']\n",
    "features_valid = valid.drop(['Exited', 'Surname', 'CustomerId'], axis=1)\n",
    "target_valid = valid['Exited']\n",
    "features_test = df_test.drop(['Exited', 'Surname', 'CustomerId'], axis=1)\n",
    "target_test = df_test['Exited']\n",
    "\n",
    "model_LinearR_unnormalized = LogisticRegression(solver='liblinear', random_state=12345)\n",
    "model_LinearR_unnormalized.fit(features_train, target_train)\n",
    "print(\"Обучено!\")\n",
    "\n"
   ]
  },
  {
   "cell_type": "markdown",
   "metadata": {},
   "source": [
    "Я обучила первую модель по логике примера в теоретическом курсе, но это не особо осмысленно, т.к. данные пока не масштабированы."
   ]
  },
  {
   "cell_type": "code",
   "execution_count": null,
   "metadata": {},
   "outputs": [],
   "source": [
    "predicted_valid = model_LinearR_unnormalized.predict(features_valid)\n",
    "print('Метрика качества для модели логичстической регрессии на сырых данных:', accuracy_score(target_valid, predicted_valid))"
   ]
  },
  {
   "cell_type": "markdown",
   "metadata": {},
   "source": [
    "### Масштабирование признаков"
   ]
  },
  {
   "cell_type": "markdown",
   "metadata": {},
   "source": [
    "В данных есть столбцы с разбросами в одном столбце больше и меньше в другом. Алгоритм автоматически решит, что один признак важнее другого. А это не так: все признаки значимы. Для этого стандартизирую данные.\n",
    "\n",
    "Создадим объект этой структуры и настроим его на обучающих данных. Настройка — это вычисление среднего и дисперсии:"
   ]
  },
  {
   "cell_type": "code",
   "execution_count": null,
   "metadata": {},
   "outputs": [],
   "source": [
    "display(features_train.head())"
   ]
  },
  {
   "cell_type": "markdown",
   "metadata": {},
   "source": [
    "Преобразуем обучающую, валидационную и тестовую выборки функцией transform()"
   ]
  },
  {
   "cell_type": "code",
   "execution_count": null,
   "metadata": {},
   "outputs": [],
   "source": [
    "numeric = ['CreditScore', 'Age', 'Tenure', 'Balance', 'NumOfProducts', 'EstimatedSalary']"
   ]
  },
  {
   "cell_type": "code",
   "execution_count": null,
   "metadata": {},
   "outputs": [],
   "source": [
    "scaler = StandardScaler()\n",
    "scaler.fit(features_train[numeric])"
   ]
  },
  {
   "cell_type": "code",
   "execution_count": null,
   "metadata": {},
   "outputs": [],
   "source": [
    "features_train[numeric] = scaler.transform(features_train[numeric])\n",
    "features_valid[numeric] = scaler.transform(features_valid[numeric])\n",
    "features_test[numeric] = scaler.transform(features_test[numeric])"
   ]
  },
  {
   "cell_type": "code",
   "execution_count": null,
   "metadata": {},
   "outputs": [],
   "source": [
    "print(type(features_train))"
   ]
  },
  {
   "cell_type": "code",
   "execution_count": null,
   "metadata": {
    "scrolled": false
   },
   "outputs": [],
   "source": [
    "display(features_train.head())"
   ]
  },
  {
   "cell_type": "markdown",
   "metadata": {},
   "source": [
    "Данные масштабированы."
   ]
  },
  {
   "cell_type": "markdown",
   "metadata": {},
   "source": [
    "### Исследование баланса классов"
   ]
  },
  {
   "cell_type": "markdown",
   "metadata": {},
   "source": [
    "#### Проверка адекватности модели"
   ]
  },
  {
   "cell_type": "markdown",
   "metadata": {},
   "source": [
    "Чтобы оценить адекватность модели, проверим, как часто в целевом признаке встречается класс «1» или «0»."
   ]
  },
  {
   "cell_type": "code",
   "execution_count": null,
   "metadata": {
    "scrolled": true
   },
   "outputs": [],
   "source": [
    "class_frequency = data['Exited'].value_counts(normalize=True)\n",
    "print(class_frequency)\n",
    "class_frequency.plot(kind='bar')"
   ]
  },
  {
   "cell_type": "markdown",
   "metadata": {},
   "source": [
    "Дисбаланс существенный: 4 к 1. "
   ]
  },
  {
   "cell_type": "markdown",
   "metadata": {},
   "source": [
    "Сравним качество модели дерева решений  до устранения дисбаланса с качеством константной модели"
   ]
  },
  {
   "cell_type": "code",
   "execution_count": null,
   "metadata": {},
   "outputs": [],
   "source": [
    "DecisionTree_model_disbalanced = DecisionTreeClassifier(random_state=12345)\n",
    "DecisionTree_model_disbalanced.fit(features_train, target_train)\n",
    "predicted_valid = DecisionTree_model_disbalanced.predict(features_valid)"
   ]
  },
  {
   "cell_type": "code",
   "execution_count": null,
   "metadata": {},
   "outputs": [],
   "source": [
    "accuracy_DecisionTree_disbalanced = accuracy_score(target_valid, predicted_valid)\n",
    "print('Качество модели дерева решений с дисбалнсом:', accuracy_DecisionTree_disbalanced)"
   ]
  },
  {
   "cell_type": "code",
   "execution_count": null,
   "metadata": {},
   "outputs": [],
   "source": [
    "target_pred_constant = pd.Series(numpy.zeros(target_valid.shape).astype(int))\n",
    "accuracy_const = accuracy_score(target_valid, target_pred_constant)\n",
    "print('Качество константной модели:', accuracy_const)"
   ]
  },
  {
   "cell_type": "markdown",
   "metadata": {},
   "source": [
    "Вывод: accuracy решающего дерева и константной модели почти одинаковы, с этим работать нельзя. Accuracy не подходит. Нужна новая метрика."
   ]
  },
  {
   "cell_type": "markdown",
   "metadata": {},
   "source": [
    "#### Матрица ошибок"
   ]
  },
  {
   "cell_type": "markdown",
   "metadata": {},
   "source": [
    "Рассчитаю матрицу ошибок функцией confusion_matrix(), матрица ошибок поможет построить новые метрики."
   ]
  },
  {
   "cell_type": "code",
   "execution_count": null,
   "metadata": {},
   "outputs": [],
   "source": [
    "print(confusion_matrix(target_valid, predicted_valid))"
   ]
  },
  {
   "cell_type": "markdown",
   "metadata": {},
   "source": [
    "Правильные прогнозы:\n",
    "* TN (Истинно отрицательные ответы) в левом верхнем углу - 1386 клиентов действительно остались, как и предсказала модель;\n",
    "* TP (Истинно положительные ответы) в правом нижнем углу - 196 клиентов ушли, и модель предсказала также.\n",
    "\n",
    "Ошибочные варианты:\n",
    "* FP (Ложно положительные ответы)  в правом верхнем углу  - Модель предсказала, что 223 клиента ушли, а они остались;\n",
    "* FN (Ложно отрицательные ответы) в левом нижнем углу. - 195 клиентов остались по мнению модели, тогда как они на самом деле ушли. "
   ]
  },
  {
   "cell_type": "code",
   "execution_count": null,
   "metadata": {},
   "outputs": [],
   "source": [
    "print(\"Доля правильных ответов, найденных моделью:\", recall_score(target_valid, predicted_valid))"
   ]
  },
  {
   "cell_type": "markdown",
   "metadata": {},
   "source": [
    "Полнота очень плохая, посмотрим на точность - как много отрицательных ответов нашла модель, пока искала положительные."
   ]
  },
  {
   "cell_type": "code",
   "execution_count": null,
   "metadata": {},
   "outputs": [],
   "source": [
    "print(precision_score(target_valid, predicted_valid))"
   ]
  },
  {
   "cell_type": "markdown",
   "metadata": {},
   "source": [
    "Точность еще хуже..."
   ]
  },
  {
   "cell_type": "markdown",
   "metadata": {},
   "source": [
    "Модель плохо предсказывает положительные классы - значит, что мала как точность, так и полнота. \n",
    "Если положительный класс плохо прогнозируется по одной из шкал (Recall или Precision), то близкая к нулю F1-мера покажет, что прогноз класса 1 не удался:"
   ]
  },
  {
   "cell_type": "code",
   "execution_count": null,
   "metadata": {
    "scrolled": true
   },
   "outputs": [],
   "source": [
    "print(f1_score(target_valid, predicted_valid))"
   ]
  },
  {
   "cell_type": "markdown",
   "metadata": {},
   "source": [
    "### Вывод:"
   ]
  },
  {
   "cell_type": "markdown",
   "metadata": {},
   "source": [
    "Я исследовала признаки на наличие мультиколлинеарности, преобразовала категориальные данные методом OHE, чтобы обучить модели и масштабировала признаки, чтобы модель учитывала важность каждого в равной степени. После этого исследовала баланс классов, выявила существенный дисбаланс и попробовала обучить пробную модель на дисбалансированных данных. В итоге точность плохая по всем метрикам, нужно устранять дисбаланс классов."
   ]
  },
  {
   "cell_type": "markdown",
   "metadata": {},
   "source": [
    "## Борьба с дисбалансом"
   ]
  },
  {
   "cell_type": "markdown",
   "metadata": {},
   "source": [
    "Придадим объектам редкого класса больший вес. У нас это клас \"1\" целевого признака."
   ]
  },
  {
   "cell_type": "markdown",
   "metadata": {},
   "source": [
    "### Балансировка классов"
   ]
  },
  {
   "cell_type": "markdown",
   "metadata": {},
   "source": [
    "Обучу модель Логистической регрессии на несбалансированных данных, чтобы посмотреть, как изменится метрика после балансировки:"
   ]
  },
  {
   "cell_type": "code",
   "execution_count": null,
   "metadata": {},
   "outputs": [],
   "source": [
    "model_LogisticR_disbalanced = LogisticRegression(random_state=12345, solver='liblinear')\n",
    "model_LogisticR_disbalanced.fit(features_train, target_train)\n",
    "predicted_valid = model_LogisticR_disbalanced.predict(features_valid)\n",
    "print(\"F1 несбалансированной модели логистической регрессии:\", f1_score(target_valid, predicted_valid)) "
   ]
  },
  {
   "cell_type": "code",
   "execution_count": null,
   "metadata": {},
   "outputs": [],
   "source": [
    "model_LogisticR = LogisticRegression(random_state=12345, solver='liblinear', class_weight='balanced')\n",
    "model_LogisticR.fit(features_train, target_train)\n",
    "predicted_valid = model_LogisticR.predict(features_valid)\n",
    "print(\"F1 сбалансированной модели логистической регрессии:\", f1_score(target_valid, predicted_valid)) "
   ]
  },
  {
   "cell_type": "markdown",
   "metadata": {},
   "source": [
    "Чуть лучше, но качество по-прежнему низкое. Попробуем увеличить выборку."
   ]
  },
  {
   "cell_type": "markdown",
   "metadata": {},
   "source": [
    "### Увеличение выборки для '1' класса"
   ]
  },
  {
   "cell_type": "markdown",
   "metadata": {},
   "source": [
    "Разделю обучающую выборку на отрицательные и положительные объекты:\n",
    "\n",
    "* features_zeros — признаки объектов с ответом «0»;\n",
    "* features_ones — признаки объектов с ответом «1»;\n",
    "* target_zeros — целевой признак объектов, у которых ответы только «0»;\n",
    "* target_ones — целевой признак объектов, у которых ответы только «1»."
   ]
  },
  {
   "cell_type": "code",
   "execution_count": null,
   "metadata": {},
   "outputs": [],
   "source": [
    "features_zeros = features_train[target_train == 0]\n",
    "features_ones = features_train[target_train == 1]\n",
    "target_ones = target_train[target_train == 1]\n",
    "target_zeros = target_train[target_train == 0]\n",
    "\n",
    "print(features_zeros.shape)\n",
    "print(features_ones.shape)\n",
    "print(target_zeros.shape)\n",
    "print(target_ones.shape)"
   ]
  },
  {
   "cell_type": "markdown",
   "metadata": {},
   "source": [
    "Продублирую объекты положительного класса и объединю их с объектами отрицательного класса:"
   ]
  },
  {
   "cell_type": "code",
   "execution_count": null,
   "metadata": {},
   "outputs": [],
   "source": [
    "repeat = 5 # Число повторений\n",
    "features_upsampled = pd.concat([features_zeros] + [features_ones] * repeat)\n",
    "target_upsampled = pd.concat([target_zeros] + [target_ones] * repeat)\n",
    "\n",
    "print(features_upsampled.shape)\n",
    "print(target_upsampled.shape)"
   ]
  },
  {
   "cell_type": "code",
   "execution_count": null,
   "metadata": {},
   "outputs": [],
   "source": [
    "display(features_upsampled.head())\n",
    "display(target_upsampled.head())"
   ]
  },
  {
   "cell_type": "markdown",
   "metadata": {},
   "source": [
    "Перемешаем данные: идущие друг за другом одинаковые данные не помогут обучению."
   ]
  },
  {
   "cell_type": "code",
   "execution_count": null,
   "metadata": {},
   "outputs": [],
   "source": [
    "features_upsampled, target_upsampled = shuffle(features_upsampled, target_upsampled, random_state=12345)"
   ]
  },
  {
   "cell_type": "code",
   "execution_count": null,
   "metadata": {},
   "outputs": [],
   "source": [
    "display(features_upsampled.head())\n",
    "display(target_upsampled.head())"
   ]
  },
  {
   "cell_type": "markdown",
   "metadata": {},
   "source": [
    "Данные перемешаны."
   ]
  },
  {
   "cell_type": "markdown",
   "metadata": {},
   "source": [
    "### Обучение моделей на новых данных"
   ]
  },
  {
   "cell_type": "markdown",
   "metadata": {},
   "source": [
    "#### Случайный лес"
   ]
  },
  {
   "cell_type": "code",
   "execution_count": null,
   "metadata": {},
   "outputs": [],
   "source": [
    "best_result_f1 = 0\n",
    "best_result_auc_roc = 0\n",
    "best_est_f1 = 0\n",
    "best_est_auc_roc = 0\n",
    "best_model_f1 = 0\n",
    "best_model_auc_roc = 0\n",
    "best_depth_auc_roc = 0\n",
    "best_depth_f1 = 0 \n",
    "\n",
    "for depth in tqdm(range(2, 50, 2)):\n",
    "    for est in range(50, 501, 50):\n",
    "        RandomForest_model_upsampled = RandomForestClassifier(random_state=12345, n_estimators=est, max_depth=depth) # задаю гиперпараметры модели с количеством деревьев = est\n",
    "        RandomForest_model_upsampled.fit(features_upsampled, target_upsampled) # обучаю модель на тренировочной выборке\n",
    "        predicted_valid = RandomForest_model_upsampled.predict(features_valid)\n",
    "        result_f1 = f1_score(target_valid, predicted_valid) # считаю метрику F1 на валидационной выборке\n",
    "        result_auc_roc = roc_auc_score(target_valid, predicted_valid) # считаю метрику ACU ROC на валидационной выборке\n",
    "\n",
    "        if result_f1 > best_result_f1:\n",
    "            best_result_f1 = result_f1 # сохраняю лучшую метрику качества на валидационной выборке\n",
    "            best_est_f1 = est # сохраняю соответствующее количество деревьев\n",
    "            best_model_f1 = RandomForest_model_upsampled\n",
    "            best_depth_f1 = depth\n",
    "\n",
    "        if  result_auc_roc > best_result_auc_roc:\n",
    "            best_result_auc_roc = result_auc_roc # сохраняю лучшую метрику на валидационной выборке\n",
    "            best_est_auc_roc = est # сохраняю соответствующее количество деревьев\n",
    "            best_model_auc_roc = RandomForest_model_upsampled\n",
    "            best_depth_auc_roc = depth\n",
    "print(\"F1 наилучшей модели случайного леса на увеличенной выборке:\", best_result_f1, 'количество деревьев:', best_est_f1, 'глубина:', best_depth_f1)\n",
    "print(\"AUC ROC наилучшей модели случайного леса на увеличенной выборке:\", best_result_auc_roc, 'количество деревьев:', best_est_auc_roc, 'глубина:', best_depth_auc_roc)"
   ]
  },
  {
   "cell_type": "code",
   "execution_count": null,
   "metadata": {},
   "outputs": [],
   "source": [
    "best_result_f1 = 0\n",
    "best_result_auc_roc = 0\n",
    "best_est_f1 = 0\n",
    "best_est_auc_roc = 0\n",
    "best_model_f1 = 0\n",
    "best_model_auc_roc = 0\n",
    "best_depth_f1 = 0 \n",
    "best_depth_auc_roc = 0\n",
    "\n",
    "for depth in tqdm(range(2, 50, 2)):\n",
    "    for est in range(50, 501, 50):\n",
    "        RandomForest_model_downsampled = RandomForestClassifier(random_state=12345, max_depth=depth, n_estimators=est) # задаю гиперпараметры модели с количеством деревьев = est\n",
    "        RandomForest_model_downsampled.fit(features_downsampled, target_downsampled) # обучаю модель на тренировочной выборке\n",
    "        predicted_valid = RandomForest_model_downsampled.predict(features_valid)\n",
    "        result_f1 = f1_score(target_valid, predicted_valid) # считаю метрику F1 на валидационной выборке\n",
    "        result_auc_roc = roc_auc_score(target_valid, predicted_valid) # считаю метрику ACU ROC на валидационной выборке\n",
    "        if result_f1 > best_result_f1:\n",
    "            best_result_f1 = result_f1 # сохраняю лучшую метрику качества на валидационной выборке\n",
    "            best_est = est # сохраняю соответствующее количество деревьев\n",
    "            best_model = RandomForest_model_downsampled\n",
    "        if  result_auc_roc > best_result_auc_roc:\n",
    "            best_result_auc_roc = result_auc_roc # сохраняю лучшую метрику качества на валидационной выборке\n",
    "            best_est = est # сохраняю соответствующее количество деревьев\n",
    "            best_model = RandomForest_model_downsampled\n",
    "print(\"F1 наилучшей модели случайного леса на уменьшенной выборке:\", best_result_f1)\n",
    "print(\"AUC ROC наилучшей модели случайного леса на уменьшенной выборке:\", best_result_auc_roc)"
   ]
  },
  {
   "cell_type": "markdown",
   "metadata": {},
   "source": [
    "<div class=\"alert alert-block alert-danger\">\n",
    "<b>❌ Замечание:</b>\n",
    "\n",
    "Для Случайного леса стоит подбирать более широкий диапазон значений:\n",
    "</div>\n",
    "\n",
    "```python\n",
    "for depth in range(2, 22, 2):\n",
    "    for est in range(50, 351, 50):\n",
    "        ...\n",
    "```"
   ]
  },
  {
   "cell_type": "markdown",
   "metadata": {},
   "source": [
    "<div class=\"alert alert-block alert-info\">\n",
    "<b>Изменения:</b> Обучаю модель случайного леса с балансировкой class_weight:\n",
    "</div>"
   ]
  },
  {
   "cell_type": "code",
   "execution_count": null,
   "metadata": {
    "scrolled": true
   },
   "outputs": [],
   "source": [
    "best_result_f1 = 0\n",
    "best_result_auc_roc = 0\n",
    "best_est_f1 = 0\n",
    "best_est_auc_roc = 0\n",
    "best_model_f1 = 0\n",
    "best_model_auc_roc = 0\n",
    "best_depth_f1 = 0 \n",
    "best_depth_auc_roc = 0\n",
    "\n",
    "for depth in tqdm(range(2, 50, 2)):\n",
    "    for est in range(50, 501, 50):\n",
    "        RandomForest_model_class_weight = RandomForestClassifier(random_state=12345, n_estimators=est, max_depth=depth, class_weight='balanced') # задаю гиперпараметры модели с количеством деревьев = est\n",
    "        RandomForest_model_class_weight.fit(features_train, target_train) # обучаю модель на тренировочной выборке\n",
    "        predicted_valid = RandomForest_model_class_weight.predict(features_valid)\n",
    "        result_f1 = f1_score(target_valid, predicted_valid) # считаю метрику F1 на валидационной выборке\n",
    "        result_auc_roc = roc_auc_score(target_valid, predicted_valid) # считаю метрику ACU ROC на валидационной выборке\n",
    "\n",
    "        if result_f1 > best_result_f1:\n",
    "            best_result_f1 = result_f1 # сохраняю лучшую метрику качества на валидационной выборке\n",
    "            best_est_f1 = est # сохраняю соответствующее количество деревьев\n",
    "            best_model_f1 = RandomForest_model_class_weight\n",
    "            best_depth_f1 = depth\n",
    "\n",
    "        if  result_auc_roc > best_result_auc_roc:\n",
    "            best_result_auc_roc = result_auc_roc # сохраняю лучшую метрику на валидационной выборке\n",
    "            best_est_auc_roc = est # сохраняю соответствующее количество деревьев\n",
    "            best_model_auc_roc = RandomForest_model_class_weight\n",
    "            best_depth_auc_roc = depth\n",
    "print(\"F1 наилучшей модели случайного леса со взвешенными классами:\", best_result_f1, 'количество деревьев:', best_est_f1, 'глубина:', best_depth_f1)\n",
    "print(\"AUC ROC наилучшей модели случайного леса со взвешенными классами:\", best_result_auc_roc, 'количество деревьев:', best_est_auc_roc, 'глубина:', best_depth_auc_roc)"
   ]
  },
  {
   "cell_type": "markdown",
   "metadata": {},
   "source": [
    "#### Вывод:"
   ]
  },
  {
   "cell_type": "markdown",
   "metadata": {},
   "source": [
    "Наилучшая метрика F1 = 0.59 достигнута на модели случайного леса cо взвешенными классами, также этого порога достигла эта модель, обученная на увеличенной выборке."
   ]
  },
  {
   "cell_type": "markdown",
   "metadata": {},
   "source": [
    "<div class=\"alert alert-block alert-info\">\n",
    "<b>Комментарий студента:</b> Исправила выше, подписав комментариями😸\n",
    "</div>\n"
   ]
  },
  {
   "cell_type": "markdown",
   "metadata": {},
   "source": [
    "## Тестирование модели"
   ]
  },
  {
   "cell_type": "code",
   "execution_count": null,
   "metadata": {},
   "outputs": [],
   "source": [
    "predicted_test = RandomForest_model_class_weight.predict(features_test)\n",
    "result = f1_score(target_test, predicted_test) # считаю качество модели на тестовой выборке\n",
    "\n",
    "print(\"Качество наилучшей модели случайного леса на тестовой выборке:\", result)"
   ]
  },
  {
   "cell_type": "markdown",
   "metadata": {},
   "source": [
    "<div class=\"alert alert-block alert-info\">\n",
    "<b>Изменения:</b> На валидационной выборке модель случайного леса со взвешенными классами показала лучший результат, но тестирование провалила.\n",
    "    Протестируем модель случайного леса обученную на увеличенной выборке, которая также достигла нужного порога:\n",
    "</div>"
   ]
  },
  {
   "cell_type": "code",
   "execution_count": null,
   "metadata": {},
   "outputs": [],
   "source": [
    "model = RandomForest_model_upsampled\n",
    "predicted_test = model.predict(features_test)\n",
    "result = f1_score(target_test, predicted_test) # считаю качество модели на тестовой выборке\n",
    "\n",
    "print(\"Качество наилучшей модели случайного леса при увеличенном датасете на тестовой выборке:\", result)"
   ]
  },
  {
   "cell_type": "markdown",
   "metadata": {},
   "source": [
    "<div class=\"alert alert-block alert-info\">\n",
    "<b>Комментарий студента:</b> Данная модель достигла нужного качества и показала хорошее качество на тестировании. Выбираем ее : RandomForest_model_upsampled"
   ]
  },
  {
   "cell_type": "markdown",
   "metadata": {},
   "source": [
    "Построим ROC-кривую для модели случайного леса, чтобы проверить на адекватность:"
   ]
  },
  {
   "cell_type": "code",
   "execution_count": null,
   "metadata": {},
   "outputs": [],
   "source": [
    "fpr, tpr, thresholds = roc_curve(target_test, predicted_test) "
   ]
  },
  {
   "cell_type": "code",
   "execution_count": null,
   "metadata": {},
   "outputs": [],
   "source": [
    "plt.figure()\n",
    "\n",
    "plt.plot(fpr, tpr) # график\n",
    "\n",
    "plt.plot([0, 1], [0, 1], linestyle='--') # ROC-кривая случайной модели\n",
    "\n",
    "plt.xlim([0.0, 1.0]) # границы оси x от 0 до 1 \n",
    "plt.ylim([0.0, 1.0]) # границы оси y от 0 до 1 \n",
    "\n",
    "plt.xlabel('False Positive Rate') # подписи осей\n",
    "plt.ylabel('True Positive Rate')\n",
    "plt.title('ROC-кривая ') # заголовок\n",
    "plt.show()"
   ]
  },
  {
   "cell_type": "markdown",
   "metadata": {},
   "source": [
    "По горизонтали доля ложноположительных ответов (FPR), а по вертикали — доля истинно положительных ответов (TPR)"
   ]
  },
  {
   "cell_type": "markdown",
   "metadata": {},
   "source": [
    "### Вывод:"
   ]
  },
  {
   "cell_type": "markdown",
   "metadata": {},
   "source": [
    "При обучении модели RandomForest_model_upsampled (случайный лес обученный на увеличенной выборке) достигнуто значение метрики f1 = 0.59 на валидационной выборке, и f1 = 0.6 на тестовой. Модель готова!"
   ]
  },
  {
   "cell_type": "markdown",
   "metadata": {},
   "source": [
    "Модель отличается от константной."
   ]
  },
  {
   "cell_type": "markdown",
   "metadata": {},
   "source": [
    "## Summary"
   ]
  },
  {
   "cell_type": "markdown",
   "metadata": {},
   "source": [
    "Были подготовлены и исследованы данные о поведении клиентов банка «Бета-Банк» по проблеме увеличения оттока клиентов.\n",
    "Заполнены пропуски данных, изменен некорректный формат одного столбца.\n",
    "Исследован баланс классов, обучены три модели классификации: логистическая регрессия, дерево решений и случайный лес без учёта дисбаланса.\n",
    "Далее был учитен дисбаланс классов и переобучены вышеназванные модели.\n",
    "Наилучшая метрика F1 = 0.6 достигнута на тестовой выборке у модели случайного леса (обученной на увеличенной выборке). "
   ]
  }
 ],
 "metadata": {
  "ExecuteTimeLog": [
   {
    "duration": 398,
    "start_time": "2022-11-04T10:17:23.022Z"
   },
   {
    "duration": 85,
    "start_time": "2022-11-04T10:17:23.422Z"
   },
   {
    "duration": 53,
    "start_time": "2022-11-04T10:19:32.176Z"
   },
   {
    "duration": 11,
    "start_time": "2022-11-04T10:42:13.116Z"
   },
   {
    "duration": 13,
    "start_time": "2022-11-04T11:23:02.432Z"
   },
   {
    "duration": 70,
    "start_time": "2022-11-04T12:01:54.324Z"
   },
   {
    "duration": 19,
    "start_time": "2022-11-04T12:09:22.537Z"
   },
   {
    "duration": 7,
    "start_time": "2022-11-04T12:10:09.847Z"
   },
   {
    "duration": 59,
    "start_time": "2022-11-04T12:10:30.166Z"
   },
   {
    "duration": 4,
    "start_time": "2022-11-04T12:11:17.923Z"
   },
   {
    "duration": 3,
    "start_time": "2022-11-04T12:11:49.227Z"
   },
   {
    "duration": 5,
    "start_time": "2022-11-04T12:11:59.151Z"
   },
   {
    "duration": 4,
    "start_time": "2022-11-04T12:12:17.750Z"
   },
   {
    "duration": 4,
    "start_time": "2022-11-04T12:14:20.475Z"
   },
   {
    "duration": 6,
    "start_time": "2022-11-04T12:15:45.140Z"
   },
   {
    "duration": 5,
    "start_time": "2022-11-04T12:15:54.854Z"
   },
   {
    "duration": 15,
    "start_time": "2022-11-04T12:17:17.643Z"
   },
   {
    "duration": 569,
    "start_time": "2022-11-04T12:28:01.301Z"
   },
   {
    "duration": 45,
    "start_time": "2022-11-05T16:47:09.414Z"
   },
   {
    "duration": 397,
    "start_time": "2022-11-05T16:47:15.626Z"
   },
   {
    "duration": 102,
    "start_time": "2022-11-05T16:47:16.024Z"
   },
   {
    "duration": 12,
    "start_time": "2022-11-05T16:47:16.128Z"
   },
   {
    "duration": 29,
    "start_time": "2022-11-05T16:47:16.142Z"
   },
   {
    "duration": 32,
    "start_time": "2022-11-05T16:47:16.172Z"
   },
   {
    "duration": 26,
    "start_time": "2022-11-05T16:47:16.205Z"
   },
   {
    "duration": 72,
    "start_time": "2022-11-05T16:47:16.233Z"
   },
   {
    "duration": 0,
    "start_time": "2022-11-05T16:47:16.307Z"
   },
   {
    "duration": 644,
    "start_time": "2022-11-05T16:47:28.657Z"
   },
   {
    "duration": 401,
    "start_time": "2022-11-05T16:49:49.017Z"
   },
   {
    "duration": 95,
    "start_time": "2022-11-05T16:49:49.420Z"
   },
   {
    "duration": 11,
    "start_time": "2022-11-05T16:49:49.517Z"
   },
   {
    "duration": 4,
    "start_time": "2022-11-05T16:49:49.531Z"
   },
   {
    "duration": 11,
    "start_time": "2022-11-05T16:49:49.536Z"
   },
   {
    "duration": 17,
    "start_time": "2022-11-05T16:49:49.549Z"
   },
   {
    "duration": 374,
    "start_time": "2022-11-05T16:49:49.567Z"
   },
   {
    "duration": 149,
    "start_time": "2022-11-05T16:49:49.942Z"
   },
   {
    "duration": 86,
    "start_time": "2022-11-05T16:49:50.093Z"
   },
   {
    "duration": 6,
    "start_time": "2022-11-05T16:50:25.849Z"
   },
   {
    "duration": 139,
    "start_time": "2022-11-05T16:50:40.138Z"
   },
   {
    "duration": 5,
    "start_time": "2022-11-05T16:54:03.117Z"
   },
   {
    "duration": 3,
    "start_time": "2022-11-05T16:54:32.212Z"
   },
   {
    "duration": 80,
    "start_time": "2022-11-05T17:02:45.084Z"
   },
   {
    "duration": 158,
    "start_time": "2022-11-05T17:04:02.554Z"
   },
   {
    "duration": 6,
    "start_time": "2022-11-05T17:04:05.974Z"
   },
   {
    "duration": 142,
    "start_time": "2022-11-05T17:04:20.233Z"
   },
   {
    "duration": 382,
    "start_time": "2022-11-05T17:07:10.941Z"
   },
   {
    "duration": 59,
    "start_time": "2022-11-05T17:07:11.325Z"
   },
   {
    "duration": 12,
    "start_time": "2022-11-05T17:07:11.385Z"
   },
   {
    "duration": 3,
    "start_time": "2022-11-05T17:07:11.399Z"
   },
   {
    "duration": 13,
    "start_time": "2022-11-05T17:07:11.404Z"
   },
   {
    "duration": 19,
    "start_time": "2022-11-05T17:07:11.418Z"
   },
   {
    "duration": 371,
    "start_time": "2022-11-05T17:07:11.439Z"
   },
   {
    "duration": 44,
    "start_time": "2022-11-05T17:07:11.813Z"
   },
   {
    "duration": 0,
    "start_time": "2022-11-05T17:07:11.859Z"
   },
   {
    "duration": 0,
    "start_time": "2022-11-05T17:07:11.861Z"
   },
   {
    "duration": 0,
    "start_time": "2022-11-05T17:07:11.862Z"
   },
   {
    "duration": 157,
    "start_time": "2022-11-05T17:07:22.642Z"
   },
   {
    "duration": 5,
    "start_time": "2022-11-05T17:07:23.218Z"
   },
   {
    "duration": 4,
    "start_time": "2022-11-05T17:07:39.901Z"
   },
   {
    "duration": 4,
    "start_time": "2022-11-05T17:08:12.885Z"
   },
   {
    "duration": 12,
    "start_time": "2022-11-05T17:11:34.627Z"
   },
   {
    "duration": 4,
    "start_time": "2022-11-05T17:15:55.162Z"
   },
   {
    "duration": 15,
    "start_time": "2022-11-05T17:24:57.397Z"
   },
   {
    "duration": 17,
    "start_time": "2022-11-05T17:25:11.464Z"
   },
   {
    "duration": 5,
    "start_time": "2022-11-05T17:26:48.817Z"
   },
   {
    "duration": 4,
    "start_time": "2022-11-05T17:27:37.071Z"
   },
   {
    "duration": 4,
    "start_time": "2022-11-05T17:28:20.069Z"
   },
   {
    "duration": 5,
    "start_time": "2022-11-05T17:28:42.011Z"
   },
   {
    "duration": 3,
    "start_time": "2022-11-05T17:29:08.840Z"
   },
   {
    "duration": 4,
    "start_time": "2022-11-05T17:29:54.945Z"
   },
   {
    "duration": 51,
    "start_time": "2022-11-05T17:30:41.975Z"
   },
   {
    "duration": 5,
    "start_time": "2022-11-05T17:31:33.523Z"
   },
   {
    "duration": 55,
    "start_time": "2022-11-05T17:34:21.367Z"
   },
   {
    "duration": 4,
    "start_time": "2022-11-05T17:34:28.804Z"
   },
   {
    "duration": 45,
    "start_time": "2022-11-05T17:34:47.856Z"
   },
   {
    "duration": 41,
    "start_time": "2022-11-05T17:36:05.805Z"
   },
   {
    "duration": 5,
    "start_time": "2022-11-05T17:36:16.407Z"
   },
   {
    "duration": 6,
    "start_time": "2022-11-05T17:37:42.611Z"
   },
   {
    "duration": 60,
    "start_time": "2022-11-05T17:38:39.234Z"
   },
   {
    "duration": 3,
    "start_time": "2022-11-05T17:41:32.001Z"
   },
   {
    "duration": 4,
    "start_time": "2022-11-05T17:42:30.284Z"
   },
   {
    "duration": 6,
    "start_time": "2022-11-05T17:44:06.975Z"
   },
   {
    "duration": 5,
    "start_time": "2022-11-05T17:45:49.954Z"
   },
   {
    "duration": 5,
    "start_time": "2022-11-05T17:47:42.172Z"
   },
   {
    "duration": 5,
    "start_time": "2022-11-05T17:51:23.353Z"
   },
   {
    "duration": 41,
    "start_time": "2022-11-05T17:53:13.638Z"
   },
   {
    "duration": 3,
    "start_time": "2022-11-05T17:53:19.817Z"
   },
   {
    "duration": 43,
    "start_time": "2022-11-05T17:53:20.779Z"
   },
   {
    "duration": 495,
    "start_time": "2022-11-05T18:01:17.654Z"
   },
   {
    "duration": 15661,
    "start_time": "2022-11-05T18:01:29.306Z"
   },
   {
    "duration": 46768,
    "start_time": "2022-11-05T18:03:41.836Z"
   },
   {
    "duration": 101,
    "start_time": "2022-11-05T18:31:35.831Z"
   },
   {
    "duration": 506,
    "start_time": "2022-11-05T18:31:48.605Z"
   },
   {
    "duration": 9,
    "start_time": "2022-11-05T18:35:46.505Z"
   },
   {
    "duration": 30,
    "start_time": "2022-11-05T18:36:54.851Z"
   },
   {
    "duration": 18,
    "start_time": "2022-11-05T18:38:29.224Z"
   },
   {
    "duration": 20,
    "start_time": "2022-11-05T18:39:19.857Z"
   },
   {
    "duration": 28,
    "start_time": "2022-11-05T18:39:59.237Z"
   },
   {
    "duration": 36,
    "start_time": "2022-11-05T18:40:12.452Z"
   },
   {
    "duration": 20,
    "start_time": "2022-11-05T18:40:21.415Z"
   },
   {
    "duration": 26,
    "start_time": "2022-11-05T18:41:11.518Z"
   },
   {
    "duration": 1357,
    "start_time": "2022-11-05T18:41:43.162Z"
   },
   {
    "duration": 56,
    "start_time": "2022-11-05T18:41:44.522Z"
   },
   {
    "duration": 13,
    "start_time": "2022-11-05T18:41:44.579Z"
   },
   {
    "duration": 19,
    "start_time": "2022-11-05T18:41:44.595Z"
   },
   {
    "duration": 22,
    "start_time": "2022-11-05T18:41:44.616Z"
   },
   {
    "duration": 34,
    "start_time": "2022-11-05T18:41:44.640Z"
   },
   {
    "duration": 194,
    "start_time": "2022-11-05T18:41:44.676Z"
   },
   {
    "duration": 181,
    "start_time": "2022-11-05T18:41:44.871Z"
   },
   {
    "duration": 5,
    "start_time": "2022-11-05T18:41:45.053Z"
   },
   {
    "duration": 12,
    "start_time": "2022-11-05T18:41:45.060Z"
   },
   {
    "duration": 20,
    "start_time": "2022-11-05T18:41:45.074Z"
   },
   {
    "duration": 24,
    "start_time": "2022-11-05T18:41:45.095Z"
   },
   {
    "duration": 16,
    "start_time": "2022-11-05T18:41:45.121Z"
   },
   {
    "duration": 18,
    "start_time": "2022-11-05T18:41:45.138Z"
   },
   {
    "duration": 33,
    "start_time": "2022-11-05T18:41:45.158Z"
   },
   {
    "duration": 4,
    "start_time": "2022-11-05T18:41:45.192Z"
   },
   {
    "duration": 7,
    "start_time": "2022-11-05T18:41:45.198Z"
   },
   {
    "duration": 10,
    "start_time": "2022-11-05T18:41:45.206Z"
   },
   {
    "duration": 9,
    "start_time": "2022-11-05T18:41:45.218Z"
   },
   {
    "duration": 6,
    "start_time": "2022-11-05T18:41:45.228Z"
   },
   {
    "duration": 9,
    "start_time": "2022-11-05T18:41:45.236Z"
   },
   {
    "duration": 4,
    "start_time": "2022-11-05T18:41:45.247Z"
   },
   {
    "duration": 8,
    "start_time": "2022-11-05T18:41:45.253Z"
   },
   {
    "duration": 5,
    "start_time": "2022-11-05T18:41:45.263Z"
   },
   {
    "duration": 6,
    "start_time": "2022-11-05T18:41:45.270Z"
   },
   {
    "duration": 5,
    "start_time": "2022-11-05T18:41:45.278Z"
   },
   {
    "duration": 10,
    "start_time": "2022-11-05T18:41:45.285Z"
   },
   {
    "duration": 47353,
    "start_time": "2022-11-05T18:41:45.321Z"
   },
   {
    "duration": 145,
    "start_time": "2022-11-05T18:42:32.700Z"
   },
   {
    "duration": 46,
    "start_time": "2022-11-05T18:47:08.992Z"
   },
   {
    "duration": 9,
    "start_time": "2022-11-05T18:58:18.876Z"
   },
   {
    "duration": 224,
    "start_time": "2022-11-05T18:58:30.322Z"
   },
   {
    "duration": 1963,
    "start_time": "2022-11-05T19:00:20.219Z"
   },
   {
    "duration": 56,
    "start_time": "2022-11-05T19:00:22.183Z"
   },
   {
    "duration": 13,
    "start_time": "2022-11-05T19:00:22.241Z"
   },
   {
    "duration": 30,
    "start_time": "2022-11-05T19:00:22.256Z"
   },
   {
    "duration": 32,
    "start_time": "2022-11-05T19:00:22.287Z"
   },
   {
    "duration": 44,
    "start_time": "2022-11-05T19:00:22.321Z"
   },
   {
    "duration": 159,
    "start_time": "2022-11-05T19:00:22.367Z"
   },
   {
    "duration": 152,
    "start_time": "2022-11-05T19:00:22.528Z"
   },
   {
    "duration": 4,
    "start_time": "2022-11-05T19:00:22.682Z"
   },
   {
    "duration": 30,
    "start_time": "2022-11-05T19:00:22.688Z"
   },
   {
    "duration": 37,
    "start_time": "2022-11-05T19:00:22.720Z"
   },
   {
    "duration": 25,
    "start_time": "2022-11-05T19:00:22.758Z"
   },
   {
    "duration": 42,
    "start_time": "2022-11-05T19:00:22.784Z"
   },
   {
    "duration": 30,
    "start_time": "2022-11-05T19:00:22.829Z"
   },
   {
    "duration": 30,
    "start_time": "2022-11-05T19:00:22.861Z"
   },
   {
    "duration": 25,
    "start_time": "2022-11-05T19:00:22.894Z"
   },
   {
    "duration": 39,
    "start_time": "2022-11-05T19:00:22.921Z"
   },
   {
    "duration": 22,
    "start_time": "2022-11-05T19:00:22.962Z"
   },
   {
    "duration": 48,
    "start_time": "2022-11-05T19:00:22.986Z"
   },
   {
    "duration": 39,
    "start_time": "2022-11-05T19:00:23.036Z"
   },
   {
    "duration": 29,
    "start_time": "2022-11-05T19:00:23.076Z"
   },
   {
    "duration": 28,
    "start_time": "2022-11-05T19:00:23.106Z"
   },
   {
    "duration": 36,
    "start_time": "2022-11-05T19:00:23.136Z"
   },
   {
    "duration": 13,
    "start_time": "2022-11-05T19:00:23.173Z"
   },
   {
    "duration": 32,
    "start_time": "2022-11-05T19:00:23.187Z"
   },
   {
    "duration": 13,
    "start_time": "2022-11-05T19:00:23.221Z"
   },
   {
    "duration": 37,
    "start_time": "2022-11-05T19:00:23.235Z"
   },
   {
    "duration": 49462,
    "start_time": "2022-11-05T19:00:23.275Z"
   },
   {
    "duration": 246,
    "start_time": "2022-11-05T19:01:12.739Z"
   },
   {
    "duration": 143,
    "start_time": "2022-11-05T19:01:12.987Z"
   },
   {
    "duration": 3,
    "start_time": "2022-11-05T19:10:16.455Z"
   },
   {
    "duration": 9,
    "start_time": "2022-11-05T19:10:37.133Z"
   },
   {
    "duration": 12,
    "start_time": "2022-11-05T19:10:44.975Z"
   },
   {
    "duration": 22,
    "start_time": "2022-11-05T19:12:28.746Z"
   },
   {
    "duration": 28,
    "start_time": "2022-11-05T19:15:16.413Z"
   },
   {
    "duration": 1345,
    "start_time": "2022-11-05T19:15:24.038Z"
   },
   {
    "duration": 68,
    "start_time": "2022-11-05T19:15:25.386Z"
   },
   {
    "duration": 14,
    "start_time": "2022-11-05T19:15:25.455Z"
   },
   {
    "duration": 4,
    "start_time": "2022-11-05T19:15:25.471Z"
   },
   {
    "duration": 7,
    "start_time": "2022-11-05T19:15:25.477Z"
   },
   {
    "duration": 42,
    "start_time": "2022-11-05T19:15:25.485Z"
   },
   {
    "duration": 150,
    "start_time": "2022-11-05T19:15:25.528Z"
   },
   {
    "duration": 157,
    "start_time": "2022-11-05T19:15:25.680Z"
   },
   {
    "duration": 6,
    "start_time": "2022-11-05T19:15:25.839Z"
   },
   {
    "duration": 19,
    "start_time": "2022-11-05T19:15:25.848Z"
   },
   {
    "duration": 5,
    "start_time": "2022-11-05T19:15:25.870Z"
   },
   {
    "duration": 9,
    "start_time": "2022-11-05T19:15:25.876Z"
   },
   {
    "duration": 17,
    "start_time": "2022-11-05T19:15:25.887Z"
   },
   {
    "duration": 4,
    "start_time": "2022-11-05T19:15:25.906Z"
   },
   {
    "duration": 14,
    "start_time": "2022-11-05T19:15:25.921Z"
   },
   {
    "duration": 4,
    "start_time": "2022-11-05T19:15:25.937Z"
   },
   {
    "duration": 8,
    "start_time": "2022-11-05T19:15:25.943Z"
   },
   {
    "duration": 9,
    "start_time": "2022-11-05T19:15:25.952Z"
   },
   {
    "duration": 10,
    "start_time": "2022-11-05T19:15:25.962Z"
   },
   {
    "duration": 9,
    "start_time": "2022-11-05T19:15:25.974Z"
   },
   {
    "duration": 37,
    "start_time": "2022-11-05T19:15:25.984Z"
   },
   {
    "duration": 7,
    "start_time": "2022-11-05T19:15:26.023Z"
   },
   {
    "duration": 19,
    "start_time": "2022-11-05T19:15:26.032Z"
   },
   {
    "duration": 9,
    "start_time": "2022-11-05T19:15:26.052Z"
   },
   {
    "duration": 7,
    "start_time": "2022-11-05T19:15:26.063Z"
   },
   {
    "duration": 5,
    "start_time": "2022-11-05T19:15:26.072Z"
   },
   {
    "duration": 6,
    "start_time": "2022-11-05T19:15:26.079Z"
   },
   {
    "duration": 48451,
    "start_time": "2022-11-05T19:15:26.088Z"
   },
   {
    "duration": 14,
    "start_time": "2022-11-05T19:16:14.541Z"
   },
   {
    "duration": 46,
    "start_time": "2022-11-05T19:16:14.557Z"
   },
   {
    "duration": 141,
    "start_time": "2022-11-05T19:16:14.605Z"
   },
   {
    "duration": 25,
    "start_time": "2022-11-05T19:19:35.411Z"
   },
   {
    "duration": 28,
    "start_time": "2022-11-05T19:19:58.830Z"
   },
   {
    "duration": 1322,
    "start_time": "2022-11-05T19:29:15.552Z"
   },
   {
    "duration": 57,
    "start_time": "2022-11-05T19:29:16.876Z"
   },
   {
    "duration": 14,
    "start_time": "2022-11-05T19:29:16.935Z"
   },
   {
    "duration": 6,
    "start_time": "2022-11-05T19:29:16.951Z"
   },
   {
    "duration": 8,
    "start_time": "2022-11-05T19:29:16.958Z"
   },
   {
    "duration": 23,
    "start_time": "2022-11-05T19:29:16.967Z"
   },
   {
    "duration": 188,
    "start_time": "2022-11-05T19:29:16.992Z"
   },
   {
    "duration": 175,
    "start_time": "2022-11-05T19:29:17.182Z"
   },
   {
    "duration": 5,
    "start_time": "2022-11-05T19:29:17.359Z"
   },
   {
    "duration": 6,
    "start_time": "2022-11-05T19:29:17.366Z"
   },
   {
    "duration": 7,
    "start_time": "2022-11-05T19:29:17.373Z"
   },
   {
    "duration": 6,
    "start_time": "2022-11-05T19:29:17.382Z"
   },
   {
    "duration": 36,
    "start_time": "2022-11-05T19:29:17.389Z"
   },
   {
    "duration": 4,
    "start_time": "2022-11-05T19:29:17.426Z"
   },
   {
    "duration": 20,
    "start_time": "2022-11-05T19:29:17.432Z"
   },
   {
    "duration": 5,
    "start_time": "2022-11-05T19:29:17.454Z"
   },
   {
    "duration": 9,
    "start_time": "2022-11-05T19:29:17.461Z"
   },
   {
    "duration": 8,
    "start_time": "2022-11-05T19:29:17.472Z"
   },
   {
    "duration": 7,
    "start_time": "2022-11-05T19:29:17.481Z"
   },
   {
    "duration": 31,
    "start_time": "2022-11-05T19:29:17.490Z"
   },
   {
    "duration": 6,
    "start_time": "2022-11-05T19:29:17.523Z"
   },
   {
    "duration": 5,
    "start_time": "2022-11-05T19:29:17.531Z"
   },
   {
    "duration": 6,
    "start_time": "2022-11-05T19:29:17.538Z"
   },
   {
    "duration": 5,
    "start_time": "2022-11-05T19:29:17.546Z"
   },
   {
    "duration": 7,
    "start_time": "2022-11-05T19:29:17.552Z"
   },
   {
    "duration": 10,
    "start_time": "2022-11-05T19:29:17.560Z"
   },
   {
    "duration": 6,
    "start_time": "2022-11-05T19:29:17.572Z"
   },
   {
    "duration": 46182,
    "start_time": "2022-11-05T19:29:17.581Z"
   },
   {
    "duration": 12,
    "start_time": "2022-11-05T19:30:03.765Z"
   },
   {
    "duration": 21,
    "start_time": "2022-11-05T19:30:03.779Z"
   },
   {
    "duration": 131,
    "start_time": "2022-11-05T19:30:03.822Z"
   },
   {
    "duration": 20,
    "start_time": "2022-11-05T19:36:07.999Z"
   },
   {
    "duration": 17,
    "start_time": "2022-11-05T19:36:37.215Z"
   },
   {
    "duration": 712,
    "start_time": "2022-11-05T19:37:06.745Z"
   },
   {
    "duration": 19,
    "start_time": "2022-11-05T19:37:27.643Z"
   },
   {
    "duration": 24,
    "start_time": "2022-11-05T19:37:30.851Z"
   },
   {
    "duration": 24,
    "start_time": "2022-11-05T19:38:20.177Z"
   },
   {
    "duration": 19,
    "start_time": "2022-11-05T19:40:05.272Z"
   },
   {
    "duration": 24,
    "start_time": "2022-11-05T19:40:43.272Z"
   },
   {
    "duration": 24,
    "start_time": "2022-11-05T19:41:59.441Z"
   },
   {
    "duration": 9,
    "start_time": "2022-11-05T19:53:46.996Z"
   },
   {
    "duration": 3,
    "start_time": "2022-11-05T19:54:00.110Z"
   },
   {
    "duration": 4,
    "start_time": "2022-11-05T19:54:23.535Z"
   },
   {
    "duration": 8,
    "start_time": "2022-11-05T19:55:53.445Z"
   },
   {
    "duration": 10,
    "start_time": "2022-11-05T19:56:03.697Z"
   },
   {
    "duration": 9,
    "start_time": "2022-11-05T19:56:12.607Z"
   },
   {
    "duration": 14,
    "start_time": "2022-11-05T19:59:23.312Z"
   },
   {
    "duration": 22,
    "start_time": "2022-11-05T19:59:38.690Z"
   },
   {
    "duration": 7,
    "start_time": "2022-11-05T19:59:41.416Z"
   },
   {
    "duration": 7,
    "start_time": "2022-11-05T19:59:43.636Z"
   },
   {
    "duration": 8,
    "start_time": "2022-11-05T20:00:38.137Z"
   },
   {
    "duration": 13,
    "start_time": "2022-11-05T20:00:51.144Z"
   },
   {
    "duration": 1431,
    "start_time": "2022-11-06T10:23:03.733Z"
   },
   {
    "duration": 167,
    "start_time": "2022-11-06T10:23:05.166Z"
   },
   {
    "duration": 11,
    "start_time": "2022-11-06T10:23:05.334Z"
   },
   {
    "duration": 3,
    "start_time": "2022-11-06T10:23:05.347Z"
   },
   {
    "duration": 6,
    "start_time": "2022-11-06T10:23:05.351Z"
   },
   {
    "duration": 15,
    "start_time": "2022-11-06T10:23:05.358Z"
   },
   {
    "duration": 137,
    "start_time": "2022-11-06T10:23:05.375Z"
   },
   {
    "duration": 135,
    "start_time": "2022-11-06T10:23:05.513Z"
   },
   {
    "duration": 4,
    "start_time": "2022-11-06T10:23:05.650Z"
   },
   {
    "duration": 5,
    "start_time": "2022-11-06T10:23:05.656Z"
   },
   {
    "duration": 9,
    "start_time": "2022-11-06T10:23:05.662Z"
   },
   {
    "duration": 6,
    "start_time": "2022-11-06T10:23:05.673Z"
   },
   {
    "duration": 29,
    "start_time": "2022-11-06T10:23:05.680Z"
   },
   {
    "duration": 4,
    "start_time": "2022-11-06T10:23:05.710Z"
   },
   {
    "duration": 17,
    "start_time": "2022-11-06T10:23:05.715Z"
   },
   {
    "duration": 4,
    "start_time": "2022-11-06T10:23:05.733Z"
   },
   {
    "duration": 7,
    "start_time": "2022-11-06T10:23:05.738Z"
   },
   {
    "duration": 5,
    "start_time": "2022-11-06T10:23:05.746Z"
   },
   {
    "duration": 6,
    "start_time": "2022-11-06T10:23:05.752Z"
   },
   {
    "duration": 9,
    "start_time": "2022-11-06T10:23:05.760Z"
   },
   {
    "duration": 11,
    "start_time": "2022-11-06T10:23:05.770Z"
   },
   {
    "duration": 3,
    "start_time": "2022-11-06T10:23:05.805Z"
   },
   {
    "duration": 6,
    "start_time": "2022-11-06T10:23:05.809Z"
   },
   {
    "duration": 5,
    "start_time": "2022-11-06T10:23:05.816Z"
   },
   {
    "duration": 5,
    "start_time": "2022-11-06T10:23:05.822Z"
   },
   {
    "duration": 5,
    "start_time": "2022-11-06T10:23:05.829Z"
   },
   {
    "duration": 5,
    "start_time": "2022-11-06T10:23:05.835Z"
   },
   {
    "duration": 42489,
    "start_time": "2022-11-06T10:23:05.842Z"
   },
   {
    "duration": 11,
    "start_time": "2022-11-06T10:23:48.333Z"
   },
   {
    "duration": 26,
    "start_time": "2022-11-06T10:23:48.345Z"
   },
   {
    "duration": 36,
    "start_time": "2022-11-06T10:23:48.372Z"
   },
   {
    "duration": 7,
    "start_time": "2022-11-06T10:23:48.409Z"
   },
   {
    "duration": 6,
    "start_time": "2022-11-06T10:23:48.418Z"
   },
   {
    "duration": 108,
    "start_time": "2022-11-06T10:23:48.425Z"
   },
   {
    "duration": 1319,
    "start_time": "2022-11-06T10:47:34.909Z"
   },
   {
    "duration": 59,
    "start_time": "2022-11-06T10:47:36.230Z"
   },
   {
    "duration": 11,
    "start_time": "2022-11-06T10:47:36.291Z"
   },
   {
    "duration": 3,
    "start_time": "2022-11-06T10:47:36.305Z"
   },
   {
    "duration": 5,
    "start_time": "2022-11-06T10:47:36.310Z"
   },
   {
    "duration": 13,
    "start_time": "2022-11-06T10:47:36.317Z"
   },
   {
    "duration": 151,
    "start_time": "2022-11-06T10:47:36.332Z"
   },
   {
    "duration": 138,
    "start_time": "2022-11-06T10:47:36.485Z"
   },
   {
    "duration": 5,
    "start_time": "2022-11-06T10:47:36.624Z"
   },
   {
    "duration": 4,
    "start_time": "2022-11-06T10:47:36.632Z"
   },
   {
    "duration": 5,
    "start_time": "2022-11-06T10:47:36.637Z"
   },
   {
    "duration": 6,
    "start_time": "2022-11-06T10:47:36.643Z"
   },
   {
    "duration": 12,
    "start_time": "2022-11-06T10:47:36.650Z"
   },
   {
    "duration": 3,
    "start_time": "2022-11-06T10:47:36.664Z"
   },
   {
    "duration": 51,
    "start_time": "2022-11-06T10:47:36.669Z"
   },
   {
    "duration": 4,
    "start_time": "2022-11-06T10:47:36.722Z"
   },
   {
    "duration": 8,
    "start_time": "2022-11-06T10:47:36.728Z"
   },
   {
    "duration": 4,
    "start_time": "2022-11-06T10:47:36.738Z"
   },
   {
    "duration": 7,
    "start_time": "2022-11-06T10:47:36.744Z"
   },
   {
    "duration": 7,
    "start_time": "2022-11-06T10:47:36.753Z"
   },
   {
    "duration": 10,
    "start_time": "2022-11-06T10:47:36.761Z"
   },
   {
    "duration": 9,
    "start_time": "2022-11-06T10:47:36.772Z"
   },
   {
    "duration": 23,
    "start_time": "2022-11-06T10:47:36.783Z"
   },
   {
    "duration": 5,
    "start_time": "2022-11-06T10:47:36.807Z"
   },
   {
    "duration": 5,
    "start_time": "2022-11-06T10:47:36.814Z"
   },
   {
    "duration": 4,
    "start_time": "2022-11-06T10:47:36.821Z"
   },
   {
    "duration": 6,
    "start_time": "2022-11-06T10:47:36.826Z"
   },
   {
    "duration": 41848,
    "start_time": "2022-11-06T10:47:36.835Z"
   },
   {
    "duration": 12,
    "start_time": "2022-11-06T10:48:18.685Z"
   },
   {
    "duration": 34,
    "start_time": "2022-11-06T10:48:18.698Z"
   },
   {
    "duration": 33,
    "start_time": "2022-11-06T10:48:18.733Z"
   },
   {
    "duration": 17,
    "start_time": "2022-11-06T10:48:18.767Z"
   },
   {
    "duration": 10,
    "start_time": "2022-11-06T10:48:18.785Z"
   },
   {
    "duration": 101,
    "start_time": "2022-11-06T10:48:18.796Z"
   },
   {
    "duration": 5,
    "start_time": "2022-11-06T12:04:45.478Z"
   },
   {
    "duration": 11,
    "start_time": "2022-11-06T12:06:32.959Z"
   },
   {
    "duration": 4,
    "start_time": "2022-11-06T12:54:12.986Z"
   },
   {
    "duration": 9,
    "start_time": "2022-11-06T12:54:25.389Z"
   },
   {
    "duration": 3,
    "start_time": "2022-11-06T12:54:54.350Z"
   },
   {
    "duration": 9,
    "start_time": "2022-11-06T12:55:46.537Z"
   },
   {
    "duration": 3,
    "start_time": "2022-11-06T12:55:50.610Z"
   },
   {
    "duration": 15,
    "start_time": "2022-11-06T12:55:51.210Z"
   },
   {
    "duration": 14,
    "start_time": "2022-11-06T12:56:07.321Z"
   },
   {
    "duration": 14,
    "start_time": "2022-11-06T12:56:13.944Z"
   },
   {
    "duration": 10,
    "start_time": "2022-11-06T12:56:37.499Z"
   },
   {
    "duration": 15,
    "start_time": "2022-11-06T12:56:38.682Z"
   },
   {
    "duration": 9,
    "start_time": "2022-11-06T12:56:50.671Z"
   },
   {
    "duration": 4,
    "start_time": "2022-11-06T12:56:53.048Z"
   },
   {
    "duration": 3,
    "start_time": "2022-11-06T12:56:53.871Z"
   },
   {
    "duration": 10,
    "start_time": "2022-11-06T12:56:54.508Z"
   },
   {
    "duration": 14,
    "start_time": "2022-11-06T12:58:28.700Z"
   },
   {
    "duration": 8,
    "start_time": "2022-11-06T12:59:52.225Z"
   },
   {
    "duration": 4,
    "start_time": "2022-11-06T12:59:54.677Z"
   },
   {
    "duration": 3,
    "start_time": "2022-11-06T12:59:57.126Z"
   },
   {
    "duration": 9,
    "start_time": "2022-11-06T13:00:03.652Z"
   },
   {
    "duration": 3,
    "start_time": "2022-11-06T13:00:04.935Z"
   },
   {
    "duration": 3,
    "start_time": "2022-11-06T13:00:05.982Z"
   },
   {
    "duration": 4,
    "start_time": "2022-11-06T13:01:27.000Z"
   },
   {
    "duration": 9,
    "start_time": "2022-11-06T13:08:05.220Z"
   },
   {
    "duration": 3,
    "start_time": "2022-11-06T13:08:06.342Z"
   },
   {
    "duration": 9,
    "start_time": "2022-11-06T13:08:09.257Z"
   },
   {
    "duration": 9,
    "start_time": "2022-11-06T13:27:02.810Z"
   },
   {
    "duration": 9,
    "start_time": "2022-11-06T14:20:19.087Z"
   },
   {
    "duration": 3,
    "start_time": "2022-11-06T14:20:33.605Z"
   },
   {
    "duration": 8,
    "start_time": "2022-11-06T14:20:35.103Z"
   },
   {
    "duration": 4,
    "start_time": "2022-11-06T14:20:50.641Z"
   },
   {
    "duration": 11,
    "start_time": "2022-11-06T14:20:51.715Z"
   },
   {
    "duration": 4,
    "start_time": "2022-11-06T14:23:54.762Z"
   },
   {
    "duration": 4,
    "start_time": "2022-11-06T14:24:24.018Z"
   },
   {
    "duration": 16,
    "start_time": "2022-11-06T14:24:26.822Z"
   },
   {
    "duration": 15,
    "start_time": "2022-11-06T18:12:32.656Z"
   },
   {
    "duration": 1342,
    "start_time": "2022-11-06T18:12:42.860Z"
   },
   {
    "duration": 77,
    "start_time": "2022-11-06T18:12:44.204Z"
   },
   {
    "duration": 11,
    "start_time": "2022-11-06T18:12:44.282Z"
   },
   {
    "duration": 5,
    "start_time": "2022-11-06T18:12:44.294Z"
   },
   {
    "duration": 14,
    "start_time": "2022-11-06T18:12:44.301Z"
   },
   {
    "duration": 18,
    "start_time": "2022-11-06T18:12:44.317Z"
   },
   {
    "duration": 140,
    "start_time": "2022-11-06T18:12:44.336Z"
   },
   {
    "duration": 156,
    "start_time": "2022-11-06T18:12:44.477Z"
   },
   {
    "duration": 5,
    "start_time": "2022-11-06T18:12:44.635Z"
   },
   {
    "duration": 7,
    "start_time": "2022-11-06T18:12:44.642Z"
   },
   {
    "duration": 6,
    "start_time": "2022-11-06T18:12:44.651Z"
   },
   {
    "duration": 7,
    "start_time": "2022-11-06T18:12:44.659Z"
   },
   {
    "duration": 13,
    "start_time": "2022-11-06T18:12:44.668Z"
   },
   {
    "duration": 5,
    "start_time": "2022-11-06T18:12:44.705Z"
   },
   {
    "duration": 26,
    "start_time": "2022-11-06T18:12:44.712Z"
   },
   {
    "duration": 4,
    "start_time": "2022-11-06T18:12:44.740Z"
   },
   {
    "duration": 7,
    "start_time": "2022-11-06T18:12:44.746Z"
   },
   {
    "duration": 6,
    "start_time": "2022-11-06T18:12:44.755Z"
   },
   {
    "duration": 8,
    "start_time": "2022-11-06T18:12:44.763Z"
   },
   {
    "duration": 8,
    "start_time": "2022-11-06T18:12:44.773Z"
   },
   {
    "duration": 26,
    "start_time": "2022-11-06T18:12:44.783Z"
   },
   {
    "duration": 14,
    "start_time": "2022-11-06T18:12:44.812Z"
   },
   {
    "duration": 6,
    "start_time": "2022-11-06T18:12:44.828Z"
   },
   {
    "duration": 5,
    "start_time": "2022-11-06T18:12:44.835Z"
   },
   {
    "duration": 6,
    "start_time": "2022-11-06T18:12:44.841Z"
   },
   {
    "duration": 6,
    "start_time": "2022-11-06T18:12:44.849Z"
   },
   {
    "duration": 14,
    "start_time": "2022-11-06T18:12:44.857Z"
   },
   {
    "duration": 45147,
    "start_time": "2022-11-06T18:12:44.873Z"
   },
   {
    "duration": 11,
    "start_time": "2022-11-06T18:13:30.022Z"
   },
   {
    "duration": 20,
    "start_time": "2022-11-06T18:13:30.035Z"
   },
   {
    "duration": 69,
    "start_time": "2022-11-06T18:13:30.057Z"
   },
   {
    "duration": 11,
    "start_time": "2022-11-06T18:13:30.128Z"
   },
   {
    "duration": 5,
    "start_time": "2022-11-06T18:13:30.140Z"
   },
   {
    "duration": 11,
    "start_time": "2022-11-06T18:13:30.146Z"
   },
   {
    "duration": 20,
    "start_time": "2022-11-06T18:13:30.159Z"
   },
   {
    "duration": 9,
    "start_time": "2022-11-06T18:13:30.180Z"
   },
   {
    "duration": 16,
    "start_time": "2022-11-06T18:13:30.190Z"
   },
   {
    "duration": 18,
    "start_time": "2022-11-06T18:13:30.207Z"
   },
   {
    "duration": 13,
    "start_time": "2022-11-06T18:13:30.226Z"
   },
   {
    "duration": 126,
    "start_time": "2022-11-06T18:13:30.240Z"
   },
   {
    "duration": 10,
    "start_time": "2022-11-06T18:17:06.357Z"
   },
   {
    "duration": 19,
    "start_time": "2022-11-06T18:17:42.335Z"
   },
   {
    "duration": 3,
    "start_time": "2022-11-06T18:17:44.043Z"
   },
   {
    "duration": 11,
    "start_time": "2022-11-06T18:18:03.083Z"
   },
   {
    "duration": 1365,
    "start_time": "2022-11-06T18:18:39.900Z"
   },
   {
    "duration": 59,
    "start_time": "2022-11-06T18:18:41.266Z"
   },
   {
    "duration": 12,
    "start_time": "2022-11-06T18:18:41.327Z"
   },
   {
    "duration": 5,
    "start_time": "2022-11-06T18:18:41.340Z"
   },
   {
    "duration": 6,
    "start_time": "2022-11-06T18:18:41.346Z"
   },
   {
    "duration": 15,
    "start_time": "2022-11-06T18:18:41.354Z"
   },
   {
    "duration": 181,
    "start_time": "2022-11-06T18:18:41.371Z"
   },
   {
    "duration": 157,
    "start_time": "2022-11-06T18:18:41.554Z"
   },
   {
    "duration": 8,
    "start_time": "2022-11-06T18:18:41.713Z"
   },
   {
    "duration": 5,
    "start_time": "2022-11-06T18:18:41.724Z"
   },
   {
    "duration": 7,
    "start_time": "2022-11-06T18:18:41.730Z"
   },
   {
    "duration": 7,
    "start_time": "2022-11-06T18:18:41.738Z"
   },
   {
    "duration": 13,
    "start_time": "2022-11-06T18:18:41.747Z"
   },
   {
    "duration": 4,
    "start_time": "2022-11-06T18:18:41.762Z"
   },
   {
    "duration": 50,
    "start_time": "2022-11-06T18:18:41.767Z"
   },
   {
    "duration": 4,
    "start_time": "2022-11-06T18:18:41.818Z"
   },
   {
    "duration": 7,
    "start_time": "2022-11-06T18:18:41.824Z"
   },
   {
    "duration": 5,
    "start_time": "2022-11-06T18:18:41.833Z"
   },
   {
    "duration": 6,
    "start_time": "2022-11-06T18:18:41.839Z"
   },
   {
    "duration": 6,
    "start_time": "2022-11-06T18:18:41.846Z"
   },
   {
    "duration": 6,
    "start_time": "2022-11-06T18:18:41.854Z"
   },
   {
    "duration": 4,
    "start_time": "2022-11-06T18:18:41.862Z"
   },
   {
    "duration": 40,
    "start_time": "2022-11-06T18:18:41.867Z"
   },
   {
    "duration": 16,
    "start_time": "2022-11-06T18:18:41.909Z"
   },
   {
    "duration": 6,
    "start_time": "2022-11-06T18:18:41.927Z"
   },
   {
    "duration": 7,
    "start_time": "2022-11-06T18:18:41.934Z"
   },
   {
    "duration": 5,
    "start_time": "2022-11-06T18:18:41.942Z"
   },
   {
    "duration": 43277,
    "start_time": "2022-11-06T18:18:41.951Z"
   },
   {
    "duration": 16,
    "start_time": "2022-11-06T18:19:25.230Z"
   },
   {
    "duration": 25,
    "start_time": "2022-11-06T18:19:25.248Z"
   },
   {
    "duration": 61,
    "start_time": "2022-11-06T18:19:25.275Z"
   },
   {
    "duration": 10,
    "start_time": "2022-11-06T18:19:25.338Z"
   },
   {
    "duration": 6,
    "start_time": "2022-11-06T18:19:25.350Z"
   },
   {
    "duration": 13,
    "start_time": "2022-11-06T18:19:25.358Z"
   },
   {
    "duration": 35,
    "start_time": "2022-11-06T18:19:25.373Z"
   },
   {
    "duration": 20,
    "start_time": "2022-11-06T18:19:25.410Z"
   },
   {
    "duration": 3,
    "start_time": "2022-11-06T18:19:25.432Z"
   },
   {
    "duration": 7,
    "start_time": "2022-11-06T18:19:25.436Z"
   },
   {
    "duration": 17,
    "start_time": "2022-11-06T18:19:25.445Z"
   },
   {
    "duration": 121,
    "start_time": "2022-11-06T18:19:25.464Z"
   },
   {
    "duration": 1323,
    "start_time": "2022-11-06T18:21:44.039Z"
   },
   {
    "duration": 75,
    "start_time": "2022-11-06T18:21:45.363Z"
   },
   {
    "duration": 12,
    "start_time": "2022-11-06T18:21:45.439Z"
   },
   {
    "duration": 4,
    "start_time": "2022-11-06T18:21:45.453Z"
   },
   {
    "duration": 8,
    "start_time": "2022-11-06T18:21:45.458Z"
   },
   {
    "duration": 15,
    "start_time": "2022-11-06T18:21:45.468Z"
   },
   {
    "duration": 156,
    "start_time": "2022-11-06T18:21:45.485Z"
   },
   {
    "duration": 134,
    "start_time": "2022-11-06T18:21:45.642Z"
   },
   {
    "duration": 5,
    "start_time": "2022-11-06T18:21:45.778Z"
   },
   {
    "duration": 3,
    "start_time": "2022-11-06T18:21:45.786Z"
   },
   {
    "duration": 5,
    "start_time": "2022-11-06T18:21:45.804Z"
   },
   {
    "duration": 7,
    "start_time": "2022-11-06T18:21:45.810Z"
   },
   {
    "duration": 14,
    "start_time": "2022-11-06T18:21:45.818Z"
   },
   {
    "duration": 4,
    "start_time": "2022-11-06T18:21:45.834Z"
   },
   {
    "duration": 20,
    "start_time": "2022-11-06T18:21:45.839Z"
   },
   {
    "duration": 4,
    "start_time": "2022-11-06T18:21:45.860Z"
   },
   {
    "duration": 8,
    "start_time": "2022-11-06T18:21:45.865Z"
   },
   {
    "duration": 31,
    "start_time": "2022-11-06T18:21:45.874Z"
   },
   {
    "duration": 5,
    "start_time": "2022-11-06T18:21:45.907Z"
   },
   {
    "duration": 5,
    "start_time": "2022-11-06T18:21:45.914Z"
   },
   {
    "duration": 6,
    "start_time": "2022-11-06T18:21:45.920Z"
   },
   {
    "duration": 5,
    "start_time": "2022-11-06T18:21:45.928Z"
   },
   {
    "duration": 6,
    "start_time": "2022-11-06T18:21:45.934Z"
   },
   {
    "duration": 4,
    "start_time": "2022-11-06T18:21:45.942Z"
   },
   {
    "duration": 8,
    "start_time": "2022-11-06T18:21:45.947Z"
   },
   {
    "duration": 8,
    "start_time": "2022-11-06T18:21:45.957Z"
   },
   {
    "duration": 7,
    "start_time": "2022-11-06T18:21:45.967Z"
   },
   {
    "duration": 41687,
    "start_time": "2022-11-06T18:21:46.005Z"
   },
   {
    "duration": 12,
    "start_time": "2022-11-06T18:22:27.694Z"
   },
   {
    "duration": 24,
    "start_time": "2022-11-06T18:22:27.707Z"
   },
   {
    "duration": 38,
    "start_time": "2022-11-06T18:22:27.732Z"
   },
   {
    "duration": 38,
    "start_time": "2022-11-06T18:22:27.771Z"
   },
   {
    "duration": 6,
    "start_time": "2022-11-06T18:22:27.811Z"
   },
   {
    "duration": 10,
    "start_time": "2022-11-06T18:22:27.819Z"
   },
   {
    "duration": 11,
    "start_time": "2022-11-06T18:22:27.830Z"
   },
   {
    "duration": 8,
    "start_time": "2022-11-06T18:22:27.842Z"
   },
   {
    "duration": 3,
    "start_time": "2022-11-06T18:22:27.852Z"
   },
   {
    "duration": 5,
    "start_time": "2022-11-06T18:22:27.856Z"
   },
   {
    "duration": 14,
    "start_time": "2022-11-06T18:22:27.863Z"
   },
   {
    "duration": 27,
    "start_time": "2022-11-06T18:22:27.879Z"
   },
   {
    "duration": 18,
    "start_time": "2022-11-06T18:23:32.393Z"
   },
   {
    "duration": 18,
    "start_time": "2022-11-06T18:24:15.779Z"
   },
   {
    "duration": 3,
    "start_time": "2022-11-06T18:24:16.946Z"
   },
   {
    "duration": 3,
    "start_time": "2022-11-06T18:24:18.680Z"
   },
   {
    "duration": 12,
    "start_time": "2022-11-06T18:24:20.778Z"
   },
   {
    "duration": 3,
    "start_time": "2022-11-06T18:30:41.274Z"
   },
   {
    "duration": 12,
    "start_time": "2022-11-06T18:30:42.194Z"
   },
   {
    "duration": 1353,
    "start_time": "2022-11-06T18:31:29.348Z"
   },
   {
    "duration": 57,
    "start_time": "2022-11-06T18:31:30.703Z"
   },
   {
    "duration": 13,
    "start_time": "2022-11-06T18:31:30.761Z"
   },
   {
    "duration": 4,
    "start_time": "2022-11-06T18:31:30.776Z"
   },
   {
    "duration": 9,
    "start_time": "2022-11-06T18:31:30.781Z"
   },
   {
    "duration": 20,
    "start_time": "2022-11-06T18:31:30.791Z"
   },
   {
    "duration": 145,
    "start_time": "2022-11-06T18:31:30.813Z"
   },
   {
    "duration": 147,
    "start_time": "2022-11-06T18:31:30.960Z"
   },
   {
    "duration": 5,
    "start_time": "2022-11-06T18:31:31.108Z"
   },
   {
    "duration": 14,
    "start_time": "2022-11-06T18:31:31.115Z"
   },
   {
    "duration": 18,
    "start_time": "2022-11-06T18:31:31.131Z"
   },
   {
    "duration": 16,
    "start_time": "2022-11-06T18:31:31.151Z"
   },
   {
    "duration": 25,
    "start_time": "2022-11-06T18:31:31.168Z"
   },
   {
    "duration": 18,
    "start_time": "2022-11-06T18:31:31.195Z"
   },
   {
    "duration": 27,
    "start_time": "2022-11-06T18:31:31.215Z"
   },
   {
    "duration": 8,
    "start_time": "2022-11-06T18:31:31.244Z"
   },
   {
    "duration": 7,
    "start_time": "2022-11-06T18:31:31.254Z"
   },
   {
    "duration": 10,
    "start_time": "2022-11-06T18:31:31.262Z"
   },
   {
    "duration": 9,
    "start_time": "2022-11-06T18:31:31.274Z"
   },
   {
    "duration": 6,
    "start_time": "2022-11-06T18:31:31.285Z"
   },
   {
    "duration": 6,
    "start_time": "2022-11-06T18:31:31.293Z"
   },
   {
    "duration": 3,
    "start_time": "2022-11-06T18:31:31.305Z"
   },
   {
    "duration": 10,
    "start_time": "2022-11-06T18:31:31.310Z"
   },
   {
    "duration": 23,
    "start_time": "2022-11-06T18:31:31.321Z"
   },
   {
    "duration": 14,
    "start_time": "2022-11-06T18:31:31.345Z"
   },
   {
    "duration": 6,
    "start_time": "2022-11-06T18:31:31.360Z"
   },
   {
    "duration": 18,
    "start_time": "2022-11-06T18:31:31.367Z"
   },
   {
    "duration": 18,
    "start_time": "2022-11-06T18:31:31.388Z"
   },
   {
    "duration": 14,
    "start_time": "2022-11-06T18:31:31.408Z"
   },
   {
    "duration": 26,
    "start_time": "2022-11-06T18:31:31.424Z"
   },
   {
    "duration": 41,
    "start_time": "2022-11-06T18:31:31.452Z"
   },
   {
    "duration": 13,
    "start_time": "2022-11-06T18:31:31.495Z"
   },
   {
    "duration": 24,
    "start_time": "2022-11-06T18:31:31.509Z"
   },
   {
    "duration": 30,
    "start_time": "2022-11-06T18:31:31.534Z"
   },
   {
    "duration": 21,
    "start_time": "2022-11-06T18:31:31.566Z"
   },
   {
    "duration": 38,
    "start_time": "2022-11-06T18:31:31.588Z"
   },
   {
    "duration": 3,
    "start_time": "2022-11-06T18:31:31.628Z"
   },
   {
    "duration": 16,
    "start_time": "2022-11-06T18:31:31.632Z"
   },
   {
    "duration": 17,
    "start_time": "2022-11-06T18:31:31.649Z"
   },
   {
    "duration": 106,
    "start_time": "2022-11-06T18:31:31.668Z"
   },
   {
    "duration": 0,
    "start_time": "2022-11-06T18:31:31.776Z"
   },
   {
    "duration": 1314,
    "start_time": "2022-11-06T18:32:52.250Z"
   },
   {
    "duration": 54,
    "start_time": "2022-11-06T18:32:53.566Z"
   },
   {
    "duration": 13,
    "start_time": "2022-11-06T18:32:53.622Z"
   },
   {
    "duration": 8,
    "start_time": "2022-11-06T18:32:53.636Z"
   },
   {
    "duration": 7,
    "start_time": "2022-11-06T18:32:53.645Z"
   },
   {
    "duration": 16,
    "start_time": "2022-11-06T18:32:53.654Z"
   },
   {
    "duration": 154,
    "start_time": "2022-11-06T18:32:53.672Z"
   },
   {
    "duration": 144,
    "start_time": "2022-11-06T18:32:53.828Z"
   },
   {
    "duration": 5,
    "start_time": "2022-11-06T18:32:53.973Z"
   },
   {
    "duration": 8,
    "start_time": "2022-11-06T18:32:53.981Z"
   },
   {
    "duration": 16,
    "start_time": "2022-11-06T18:32:53.990Z"
   },
   {
    "duration": 4,
    "start_time": "2022-11-06T18:32:54.008Z"
   },
   {
    "duration": 12,
    "start_time": "2022-11-06T18:32:54.014Z"
   },
   {
    "duration": 3,
    "start_time": "2022-11-06T18:32:54.028Z"
   },
   {
    "duration": 17,
    "start_time": "2022-11-06T18:32:54.032Z"
   },
   {
    "duration": 4,
    "start_time": "2022-11-06T18:32:54.050Z"
   },
   {
    "duration": 7,
    "start_time": "2022-11-06T18:32:54.055Z"
   },
   {
    "duration": 8,
    "start_time": "2022-11-06T18:32:54.064Z"
   },
   {
    "duration": 34,
    "start_time": "2022-11-06T18:32:54.073Z"
   },
   {
    "duration": 5,
    "start_time": "2022-11-06T18:32:54.109Z"
   },
   {
    "duration": 6,
    "start_time": "2022-11-06T18:32:54.115Z"
   },
   {
    "duration": 8,
    "start_time": "2022-11-06T18:32:54.123Z"
   },
   {
    "duration": 7,
    "start_time": "2022-11-06T18:32:54.132Z"
   },
   {
    "duration": 5,
    "start_time": "2022-11-06T18:32:54.140Z"
   },
   {
    "duration": 7,
    "start_time": "2022-11-06T18:32:54.146Z"
   },
   {
    "duration": 8,
    "start_time": "2022-11-06T18:32:54.154Z"
   },
   {
    "duration": 8,
    "start_time": "2022-11-06T18:32:54.163Z"
   },
   {
    "duration": 4,
    "start_time": "2022-11-06T18:32:54.174Z"
   },
   {
    "duration": 11,
    "start_time": "2022-11-06T18:32:54.206Z"
   },
   {
    "duration": 20,
    "start_time": "2022-11-06T18:32:54.219Z"
   },
   {
    "duration": 40,
    "start_time": "2022-11-06T18:32:54.241Z"
   },
   {
    "duration": 30,
    "start_time": "2022-11-06T18:32:54.283Z"
   },
   {
    "duration": 5,
    "start_time": "2022-11-06T18:32:54.314Z"
   },
   {
    "duration": 12,
    "start_time": "2022-11-06T18:32:54.321Z"
   },
   {
    "duration": 13,
    "start_time": "2022-11-06T18:32:54.335Z"
   },
   {
    "duration": 20,
    "start_time": "2022-11-06T18:32:54.350Z"
   },
   {
    "duration": 3,
    "start_time": "2022-11-06T18:32:54.371Z"
   },
   {
    "duration": 7,
    "start_time": "2022-11-06T18:32:54.375Z"
   },
   {
    "duration": 36,
    "start_time": "2022-11-06T18:32:54.383Z"
   },
   {
    "duration": 107,
    "start_time": "2022-11-06T18:32:54.421Z"
   },
   {
    "duration": 0,
    "start_time": "2022-11-06T18:32:54.530Z"
   },
   {
    "duration": 13,
    "start_time": "2022-11-06T18:33:29.877Z"
   },
   {
    "duration": 45,
    "start_time": "2022-11-06T18:52:41.983Z"
   },
   {
    "duration": 122,
    "start_time": "2022-11-06T19:00:22.321Z"
   },
   {
    "duration": 11,
    "start_time": "2022-11-06T19:04:19.065Z"
   },
   {
    "duration": 23,
    "start_time": "2022-11-06T19:11:22.227Z"
   },
   {
    "duration": 13,
    "start_time": "2022-11-06T19:11:35.734Z"
   },
   {
    "duration": 14,
    "start_time": "2022-11-06T19:13:18.367Z"
   },
   {
    "duration": 6,
    "start_time": "2022-11-06T19:13:43.808Z"
   },
   {
    "duration": 5,
    "start_time": "2022-11-06T19:14:31.339Z"
   },
   {
    "duration": 1608,
    "start_time": "2022-11-07T05:30:51.491Z"
   },
   {
    "duration": 109,
    "start_time": "2022-11-07T05:30:53.101Z"
   },
   {
    "duration": 13,
    "start_time": "2022-11-07T05:30:53.212Z"
   },
   {
    "duration": 13,
    "start_time": "2022-11-07T05:30:53.227Z"
   },
   {
    "duration": 34,
    "start_time": "2022-11-07T05:30:53.242Z"
   },
   {
    "duration": 26,
    "start_time": "2022-11-07T05:30:53.278Z"
   },
   {
    "duration": 168,
    "start_time": "2022-11-07T05:30:53.305Z"
   },
   {
    "duration": 145,
    "start_time": "2022-11-07T05:30:53.475Z"
   },
   {
    "duration": 4,
    "start_time": "2022-11-07T05:30:53.622Z"
   },
   {
    "duration": 21,
    "start_time": "2022-11-07T05:30:53.629Z"
   },
   {
    "duration": 22,
    "start_time": "2022-11-07T05:30:53.652Z"
   },
   {
    "duration": 24,
    "start_time": "2022-11-07T05:30:53.675Z"
   },
   {
    "duration": 24,
    "start_time": "2022-11-07T05:30:53.701Z"
   },
   {
    "duration": 21,
    "start_time": "2022-11-07T05:30:53.727Z"
   },
   {
    "duration": 32,
    "start_time": "2022-11-07T05:30:53.750Z"
   },
   {
    "duration": 22,
    "start_time": "2022-11-07T05:30:53.783Z"
   },
   {
    "duration": 22,
    "start_time": "2022-11-07T05:30:53.807Z"
   },
   {
    "duration": 37,
    "start_time": "2022-11-07T05:30:53.831Z"
   },
   {
    "duration": 25,
    "start_time": "2022-11-07T05:30:53.870Z"
   },
   {
    "duration": 15,
    "start_time": "2022-11-07T05:30:53.897Z"
   },
   {
    "duration": 33,
    "start_time": "2022-11-07T05:30:53.914Z"
   },
   {
    "duration": 16,
    "start_time": "2022-11-07T05:30:53.948Z"
   },
   {
    "duration": 30,
    "start_time": "2022-11-07T05:30:53.966Z"
   },
   {
    "duration": 13,
    "start_time": "2022-11-07T05:30:53.998Z"
   },
   {
    "duration": 39,
    "start_time": "2022-11-07T05:30:54.013Z"
   },
   {
    "duration": 20,
    "start_time": "2022-11-07T05:30:54.054Z"
   },
   {
    "duration": 23,
    "start_time": "2022-11-07T05:30:54.076Z"
   },
   {
    "duration": 31,
    "start_time": "2022-11-07T05:30:54.102Z"
   },
   {
    "duration": 44,
    "start_time": "2022-11-07T05:30:54.134Z"
   },
   {
    "duration": 50,
    "start_time": "2022-11-07T05:30:54.180Z"
   },
   {
    "duration": 41,
    "start_time": "2022-11-07T05:30:54.231Z"
   },
   {
    "duration": 54,
    "start_time": "2022-11-07T05:30:54.274Z"
   },
   {
    "duration": 0,
    "start_time": "2022-11-07T05:30:54.329Z"
   },
   {
    "duration": 0,
    "start_time": "2022-11-07T05:30:54.331Z"
   },
   {
    "duration": 0,
    "start_time": "2022-11-07T05:30:54.332Z"
   },
   {
    "duration": 0,
    "start_time": "2022-11-07T05:30:54.334Z"
   },
   {
    "duration": 0,
    "start_time": "2022-11-07T05:30:54.335Z"
   },
   {
    "duration": 0,
    "start_time": "2022-11-07T05:30:54.336Z"
   },
   {
    "duration": 0,
    "start_time": "2022-11-07T05:30:54.338Z"
   },
   {
    "duration": 0,
    "start_time": "2022-11-07T05:30:54.339Z"
   },
   {
    "duration": 0,
    "start_time": "2022-11-07T05:30:54.341Z"
   },
   {
    "duration": 0,
    "start_time": "2022-11-07T05:30:54.342Z"
   },
   {
    "duration": 1,
    "start_time": "2022-11-07T05:30:54.343Z"
   },
   {
    "duration": 0,
    "start_time": "2022-11-07T05:30:54.345Z"
   },
   {
    "duration": 11,
    "start_time": "2022-11-07T05:31:41.320Z"
   },
   {
    "duration": 18,
    "start_time": "2022-11-07T05:31:41.333Z"
   },
   {
    "duration": 15,
    "start_time": "2022-11-07T05:31:41.353Z"
   },
   {
    "duration": 12,
    "start_time": "2022-11-07T05:31:41.370Z"
   },
   {
    "duration": 19,
    "start_time": "2022-11-07T05:31:41.384Z"
   },
   {
    "duration": 3,
    "start_time": "2022-11-07T05:31:41.404Z"
   },
   {
    "duration": 21,
    "start_time": "2022-11-07T05:31:41.420Z"
   },
   {
    "duration": 130,
    "start_time": "2022-11-07T05:31:41.443Z"
   },
   {
    "duration": 46,
    "start_time": "2022-11-07T05:31:41.575Z"
   },
   {
    "duration": 0,
    "start_time": "2022-11-07T05:31:41.623Z"
   },
   {
    "duration": 0,
    "start_time": "2022-11-07T05:31:41.624Z"
   },
   {
    "duration": 0,
    "start_time": "2022-11-07T05:31:41.625Z"
   },
   {
    "duration": 107,
    "start_time": "2022-11-07T05:31:56.645Z"
   },
   {
    "duration": 0,
    "start_time": "2022-11-07T05:31:56.754Z"
   },
   {
    "duration": 0,
    "start_time": "2022-11-07T05:31:56.755Z"
   },
   {
    "duration": 1332,
    "start_time": "2022-11-07T05:33:55.437Z"
   },
   {
    "duration": 53,
    "start_time": "2022-11-07T05:33:56.771Z"
   },
   {
    "duration": 12,
    "start_time": "2022-11-07T05:33:56.826Z"
   },
   {
    "duration": 4,
    "start_time": "2022-11-07T05:33:56.840Z"
   },
   {
    "duration": 14,
    "start_time": "2022-11-07T05:33:56.846Z"
   },
   {
    "duration": 16,
    "start_time": "2022-11-07T05:33:56.862Z"
   },
   {
    "duration": 188,
    "start_time": "2022-11-07T05:33:56.880Z"
   },
   {
    "duration": 163,
    "start_time": "2022-11-07T05:33:57.069Z"
   },
   {
    "duration": 5,
    "start_time": "2022-11-07T05:33:57.234Z"
   },
   {
    "duration": 17,
    "start_time": "2022-11-07T05:33:57.243Z"
   },
   {
    "duration": 8,
    "start_time": "2022-11-07T05:33:57.263Z"
   },
   {
    "duration": 6,
    "start_time": "2022-11-07T05:33:57.273Z"
   },
   {
    "duration": 15,
    "start_time": "2022-11-07T05:33:57.281Z"
   },
   {
    "duration": 24,
    "start_time": "2022-11-07T05:33:57.298Z"
   },
   {
    "duration": 20,
    "start_time": "2022-11-07T05:33:57.323Z"
   },
   {
    "duration": 5,
    "start_time": "2022-11-07T05:33:57.344Z"
   },
   {
    "duration": 8,
    "start_time": "2022-11-07T05:33:57.351Z"
   },
   {
    "duration": 15,
    "start_time": "2022-11-07T05:33:57.361Z"
   },
   {
    "duration": 8,
    "start_time": "2022-11-07T05:33:57.378Z"
   },
   {
    "duration": 15,
    "start_time": "2022-11-07T05:33:57.388Z"
   },
   {
    "duration": 20,
    "start_time": "2022-11-07T05:33:57.405Z"
   },
   {
    "duration": 9,
    "start_time": "2022-11-07T05:33:57.427Z"
   },
   {
    "duration": 8,
    "start_time": "2022-11-07T05:33:57.438Z"
   },
   {
    "duration": 11,
    "start_time": "2022-11-07T05:33:57.447Z"
   },
   {
    "duration": 7,
    "start_time": "2022-11-07T05:33:57.459Z"
   },
   {
    "duration": 6,
    "start_time": "2022-11-07T05:33:57.468Z"
   },
   {
    "duration": 13,
    "start_time": "2022-11-07T05:33:57.475Z"
   },
   {
    "duration": 8,
    "start_time": "2022-11-07T05:33:57.491Z"
   },
   {
    "duration": 29,
    "start_time": "2022-11-07T05:33:57.500Z"
   },
   {
    "duration": 49,
    "start_time": "2022-11-07T05:33:57.531Z"
   },
   {
    "duration": 42,
    "start_time": "2022-11-07T05:33:57.582Z"
   },
   {
    "duration": 11,
    "start_time": "2022-11-07T05:33:57.626Z"
   },
   {
    "duration": 6,
    "start_time": "2022-11-07T05:33:57.639Z"
   },
   {
    "duration": 12,
    "start_time": "2022-11-07T05:33:57.646Z"
   },
   {
    "duration": 12,
    "start_time": "2022-11-07T05:33:57.660Z"
   },
   {
    "duration": 50,
    "start_time": "2022-11-07T05:33:57.674Z"
   },
   {
    "duration": 3,
    "start_time": "2022-11-07T05:33:57.726Z"
   },
   {
    "duration": 14,
    "start_time": "2022-11-07T05:33:57.731Z"
   },
   {
    "duration": 125,
    "start_time": "2022-11-07T05:33:57.747Z"
   },
   {
    "duration": 33,
    "start_time": "2022-11-07T05:33:57.874Z"
   },
   {
    "duration": 15,
    "start_time": "2022-11-07T05:33:57.908Z"
   },
   {
    "duration": 9,
    "start_time": "2022-11-07T05:33:57.924Z"
   },
   {
    "duration": 1336,
    "start_time": "2022-11-07T05:38:12.774Z"
   },
   {
    "duration": 52,
    "start_time": "2022-11-07T05:38:14.113Z"
   },
   {
    "duration": 13,
    "start_time": "2022-11-07T05:38:14.167Z"
   },
   {
    "duration": 25,
    "start_time": "2022-11-07T05:38:14.182Z"
   },
   {
    "duration": 22,
    "start_time": "2022-11-07T05:38:14.209Z"
   },
   {
    "duration": 43,
    "start_time": "2022-11-07T05:38:14.233Z"
   },
   {
    "duration": 167,
    "start_time": "2022-11-07T05:38:14.278Z"
   },
   {
    "duration": 157,
    "start_time": "2022-11-07T05:38:14.447Z"
   },
   {
    "duration": 6,
    "start_time": "2022-11-07T05:38:14.607Z"
   },
   {
    "duration": 4,
    "start_time": "2022-11-07T05:38:14.623Z"
   },
   {
    "duration": 31,
    "start_time": "2022-11-07T05:38:14.629Z"
   },
   {
    "duration": 25,
    "start_time": "2022-11-07T05:38:14.662Z"
   },
   {
    "duration": 24,
    "start_time": "2022-11-07T05:38:14.689Z"
   },
   {
    "duration": 19,
    "start_time": "2022-11-07T05:38:14.715Z"
   },
   {
    "duration": 35,
    "start_time": "2022-11-07T05:38:14.736Z"
   },
   {
    "duration": 7,
    "start_time": "2022-11-07T05:38:14.773Z"
   },
   {
    "duration": 33,
    "start_time": "2022-11-07T05:38:14.782Z"
   },
   {
    "duration": 18,
    "start_time": "2022-11-07T05:38:14.817Z"
   },
   {
    "duration": 32,
    "start_time": "2022-11-07T05:38:14.837Z"
   },
   {
    "duration": 25,
    "start_time": "2022-11-07T05:38:14.871Z"
   },
   {
    "duration": 16,
    "start_time": "2022-11-07T05:38:14.897Z"
   },
   {
    "duration": 26,
    "start_time": "2022-11-07T05:38:14.915Z"
   },
   {
    "duration": 38,
    "start_time": "2022-11-07T05:38:14.943Z"
   },
   {
    "duration": 21,
    "start_time": "2022-11-07T05:38:14.983Z"
   },
   {
    "duration": 35,
    "start_time": "2022-11-07T05:38:15.006Z"
   },
   {
    "duration": 22,
    "start_time": "2022-11-07T05:38:15.042Z"
   },
   {
    "duration": 34,
    "start_time": "2022-11-07T05:38:15.065Z"
   },
   {
    "duration": 12,
    "start_time": "2022-11-07T05:38:15.103Z"
   },
   {
    "duration": 39,
    "start_time": "2022-11-07T05:38:15.117Z"
   },
   {
    "duration": 47,
    "start_time": "2022-11-07T05:38:15.158Z"
   },
   {
    "duration": 46,
    "start_time": "2022-11-07T05:38:15.206Z"
   },
   {
    "duration": 12,
    "start_time": "2022-11-07T05:38:15.254Z"
   },
   {
    "duration": 23,
    "start_time": "2022-11-07T05:38:15.267Z"
   },
   {
    "duration": 25,
    "start_time": "2022-11-07T05:38:15.292Z"
   },
   {
    "duration": 43,
    "start_time": "2022-11-07T05:38:15.319Z"
   },
   {
    "duration": 33,
    "start_time": "2022-11-07T05:38:15.364Z"
   },
   {
    "duration": 8,
    "start_time": "2022-11-07T05:38:15.398Z"
   },
   {
    "duration": 29,
    "start_time": "2022-11-07T05:38:15.408Z"
   },
   {
    "duration": 150,
    "start_time": "2022-11-07T05:38:15.439Z"
   },
   {
    "duration": 47,
    "start_time": "2022-11-07T05:38:15.591Z"
   },
   {
    "duration": 5,
    "start_time": "2022-11-07T05:38:15.640Z"
   },
   {
    "duration": 10,
    "start_time": "2022-11-07T05:38:15.647Z"
   },
   {
    "duration": 13,
    "start_time": "2022-11-07T05:38:15.659Z"
   },
   {
    "duration": 31,
    "start_time": "2022-11-07T05:39:40.691Z"
   },
   {
    "duration": 5,
    "start_time": "2022-11-07T05:39:41.192Z"
   },
   {
    "duration": 7,
    "start_time": "2022-11-07T05:39:42.226Z"
   },
   {
    "duration": 113,
    "start_time": "2022-11-07T05:45:24.774Z"
   },
   {
    "duration": 9,
    "start_time": "2022-11-07T05:46:06.153Z"
   },
   {
    "duration": 3,
    "start_time": "2022-11-07T05:46:13.462Z"
   },
   {
    "duration": 5,
    "start_time": "2022-11-07T05:46:19.444Z"
   },
   {
    "duration": 11,
    "start_time": "2022-11-07T06:08:09.676Z"
   },
   {
    "duration": 11,
    "start_time": "2022-11-07T06:08:22.640Z"
   },
   {
    "duration": 3,
    "start_time": "2022-11-07T06:08:54.623Z"
   },
   {
    "duration": 6,
    "start_time": "2022-11-07T06:09:01.717Z"
   },
   {
    "duration": 10,
    "start_time": "2022-11-07T06:11:07.990Z"
   },
   {
    "duration": 4,
    "start_time": "2022-11-07T06:11:31.568Z"
   },
   {
    "duration": 5,
    "start_time": "2022-11-07T06:11:36.814Z"
   },
   {
    "duration": 4,
    "start_time": "2022-11-07T06:15:04.873Z"
   },
   {
    "duration": 5,
    "start_time": "2022-11-07T06:16:06.512Z"
   },
   {
    "duration": 4,
    "start_time": "2022-11-07T06:17:40.224Z"
   },
   {
    "duration": 31,
    "start_time": "2022-11-07T06:29:29.016Z"
   },
   {
    "duration": 26,
    "start_time": "2022-11-07T06:31:12.167Z"
   },
   {
    "duration": 24,
    "start_time": "2022-11-07T06:32:00.788Z"
   },
   {
    "duration": 12,
    "start_time": "2022-11-07T06:32:29.779Z"
   },
   {
    "duration": 29,
    "start_time": "2022-11-07T06:33:16.684Z"
   },
   {
    "duration": 8,
    "start_time": "2022-11-07T06:36:27.609Z"
   },
   {
    "duration": 14,
    "start_time": "2022-11-07T06:41:04.640Z"
   },
   {
    "duration": 13,
    "start_time": "2022-11-07T06:41:58.377Z"
   },
   {
    "duration": 7,
    "start_time": "2022-11-07T06:42:05.739Z"
   },
   {
    "duration": 8,
    "start_time": "2022-11-07T06:42:38.440Z"
   },
   {
    "duration": 4,
    "start_time": "2022-11-07T06:46:31.617Z"
   },
   {
    "duration": 7,
    "start_time": "2022-11-07T06:48:41.810Z"
   },
   {
    "duration": 3,
    "start_time": "2022-11-07T06:49:16.523Z"
   },
   {
    "duration": 1346,
    "start_time": "2022-11-07T06:50:32.530Z"
   },
   {
    "duration": 52,
    "start_time": "2022-11-07T06:50:33.878Z"
   },
   {
    "duration": 13,
    "start_time": "2022-11-07T06:50:33.931Z"
   },
   {
    "duration": 7,
    "start_time": "2022-11-07T06:50:33.946Z"
   },
   {
    "duration": 27,
    "start_time": "2022-11-07T06:50:33.954Z"
   },
   {
    "duration": 28,
    "start_time": "2022-11-07T06:50:33.983Z"
   },
   {
    "duration": 152,
    "start_time": "2022-11-07T06:50:34.013Z"
   },
   {
    "duration": 156,
    "start_time": "2022-11-07T06:50:34.166Z"
   },
   {
    "duration": 4,
    "start_time": "2022-11-07T06:50:34.324Z"
   },
   {
    "duration": 15,
    "start_time": "2022-11-07T06:50:34.331Z"
   },
   {
    "duration": 9,
    "start_time": "2022-11-07T06:50:34.348Z"
   },
   {
    "duration": 24,
    "start_time": "2022-11-07T06:50:34.358Z"
   },
   {
    "duration": 25,
    "start_time": "2022-11-07T06:50:34.384Z"
   },
   {
    "duration": 9,
    "start_time": "2022-11-07T06:50:34.410Z"
   },
   {
    "duration": 23,
    "start_time": "2022-11-07T06:50:34.421Z"
   },
   {
    "duration": 4,
    "start_time": "2022-11-07T06:50:34.446Z"
   },
   {
    "duration": 20,
    "start_time": "2022-11-07T06:50:34.452Z"
   },
   {
    "duration": 14,
    "start_time": "2022-11-07T06:50:34.474Z"
   },
   {
    "duration": 26,
    "start_time": "2022-11-07T06:50:34.490Z"
   },
   {
    "duration": 10,
    "start_time": "2022-11-07T06:50:34.517Z"
   },
   {
    "duration": 17,
    "start_time": "2022-11-07T06:50:34.529Z"
   },
   {
    "duration": 20,
    "start_time": "2022-11-07T06:50:34.548Z"
   },
   {
    "duration": 24,
    "start_time": "2022-11-07T06:50:34.569Z"
   },
   {
    "duration": 31,
    "start_time": "2022-11-07T06:50:34.594Z"
   },
   {
    "duration": 15,
    "start_time": "2022-11-07T06:50:34.626Z"
   },
   {
    "duration": 9,
    "start_time": "2022-11-07T06:50:34.643Z"
   },
   {
    "duration": 13,
    "start_time": "2022-11-07T06:50:34.654Z"
   },
   {
    "duration": 19,
    "start_time": "2022-11-07T06:50:34.670Z"
   },
   {
    "duration": 16,
    "start_time": "2022-11-07T06:50:34.691Z"
   },
   {
    "duration": 30,
    "start_time": "2022-11-07T06:50:34.708Z"
   },
   {
    "duration": 43,
    "start_time": "2022-11-07T06:50:34.739Z"
   },
   {
    "duration": 11,
    "start_time": "2022-11-07T06:50:34.783Z"
   },
   {
    "duration": 12,
    "start_time": "2022-11-07T06:50:34.796Z"
   },
   {
    "duration": 14,
    "start_time": "2022-11-07T06:50:34.810Z"
   },
   {
    "duration": 32,
    "start_time": "2022-11-07T06:50:34.826Z"
   },
   {
    "duration": 21,
    "start_time": "2022-11-07T06:50:34.860Z"
   },
   {
    "duration": 8,
    "start_time": "2022-11-07T06:50:34.882Z"
   },
   {
    "duration": 27,
    "start_time": "2022-11-07T06:50:34.892Z"
   },
   {
    "duration": 129,
    "start_time": "2022-11-07T06:50:34.921Z"
   },
   {
    "duration": 33,
    "start_time": "2022-11-07T06:50:35.052Z"
   },
   {
    "duration": 4,
    "start_time": "2022-11-07T06:50:35.087Z"
   },
   {
    "duration": 19,
    "start_time": "2022-11-07T06:50:35.092Z"
   },
   {
    "duration": 37,
    "start_time": "2022-11-07T06:50:35.113Z"
   },
   {
    "duration": 20,
    "start_time": "2022-11-07T06:50:35.152Z"
   },
   {
    "duration": 15,
    "start_time": "2022-11-07T06:50:35.173Z"
   },
   {
    "duration": 12,
    "start_time": "2022-11-07T06:50:35.190Z"
   },
   {
    "duration": 56,
    "start_time": "2022-11-07T06:50:35.204Z"
   },
   {
    "duration": 0,
    "start_time": "2022-11-07T06:50:35.262Z"
   },
   {
    "duration": 0,
    "start_time": "2022-11-07T06:50:35.263Z"
   },
   {
    "duration": 0,
    "start_time": "2022-11-07T06:50:35.264Z"
   },
   {
    "duration": 0,
    "start_time": "2022-11-07T06:50:35.266Z"
   },
   {
    "duration": 0,
    "start_time": "2022-11-07T06:50:35.267Z"
   },
   {
    "duration": 0,
    "start_time": "2022-11-07T06:50:35.268Z"
   },
   {
    "duration": 0,
    "start_time": "2022-11-07T06:50:35.269Z"
   },
   {
    "duration": 25,
    "start_time": "2022-11-07T06:51:20.482Z"
   },
   {
    "duration": 106,
    "start_time": "2022-11-07T06:51:20.520Z"
   },
   {
    "duration": 193,
    "start_time": "2022-11-07T06:51:20.628Z"
   },
   {
    "duration": 16,
    "start_time": "2022-11-07T06:51:20.823Z"
   },
   {
    "duration": 44,
    "start_time": "2022-11-07T06:51:20.841Z"
   },
   {
    "duration": 25,
    "start_time": "2022-11-07T06:51:20.887Z"
   },
   {
    "duration": 33,
    "start_time": "2022-11-07T06:51:20.914Z"
   },
   {
    "duration": 32,
    "start_time": "2022-11-07T06:59:26.691Z"
   },
   {
    "duration": 1474,
    "start_time": "2022-11-07T07:07:18.532Z"
   },
   {
    "duration": 56,
    "start_time": "2022-11-07T07:07:20.008Z"
   },
   {
    "duration": 15,
    "start_time": "2022-11-07T07:07:20.066Z"
   },
   {
    "duration": 19,
    "start_time": "2022-11-07T07:07:20.084Z"
   },
   {
    "duration": 36,
    "start_time": "2022-11-07T07:07:20.105Z"
   },
   {
    "duration": 38,
    "start_time": "2022-11-07T07:07:20.143Z"
   },
   {
    "duration": 163,
    "start_time": "2022-11-07T07:07:20.183Z"
   },
   {
    "duration": 161,
    "start_time": "2022-11-07T07:07:20.348Z"
   },
   {
    "duration": 12,
    "start_time": "2022-11-07T07:07:20.510Z"
   },
   {
    "duration": 15,
    "start_time": "2022-11-07T07:07:20.524Z"
   },
   {
    "duration": 24,
    "start_time": "2022-11-07T07:07:20.541Z"
   },
   {
    "duration": 5,
    "start_time": "2022-11-07T07:07:20.567Z"
   },
   {
    "duration": 31,
    "start_time": "2022-11-07T07:07:20.574Z"
   },
   {
    "duration": 12,
    "start_time": "2022-11-07T07:07:20.606Z"
   },
   {
    "duration": 21,
    "start_time": "2022-11-07T07:07:20.620Z"
   },
   {
    "duration": 6,
    "start_time": "2022-11-07T07:07:20.642Z"
   },
   {
    "duration": 19,
    "start_time": "2022-11-07T07:07:20.650Z"
   },
   {
    "duration": 31,
    "start_time": "2022-11-07T07:07:20.671Z"
   },
   {
    "duration": 26,
    "start_time": "2022-11-07T07:07:20.704Z"
   },
   {
    "duration": 27,
    "start_time": "2022-11-07T07:07:20.732Z"
   },
   {
    "duration": 18,
    "start_time": "2022-11-07T07:07:20.761Z"
   },
   {
    "duration": 17,
    "start_time": "2022-11-07T07:07:20.781Z"
   },
   {
    "duration": 36,
    "start_time": "2022-11-07T07:07:20.800Z"
   },
   {
    "duration": 8,
    "start_time": "2022-11-07T07:07:20.838Z"
   },
   {
    "duration": 12,
    "start_time": "2022-11-07T07:07:20.848Z"
   },
   {
    "duration": 7,
    "start_time": "2022-11-07T07:07:20.862Z"
   },
   {
    "duration": 10,
    "start_time": "2022-11-07T07:07:20.870Z"
   },
   {
    "duration": 6,
    "start_time": "2022-11-07T07:07:20.883Z"
   },
   {
    "duration": 25,
    "start_time": "2022-11-07T07:07:20.891Z"
   },
   {
    "duration": 27,
    "start_time": "2022-11-07T07:07:20.918Z"
   },
   {
    "duration": 36,
    "start_time": "2022-11-07T07:07:20.947Z"
   },
   {
    "duration": 10,
    "start_time": "2022-11-07T07:07:20.985Z"
   },
   {
    "duration": 5,
    "start_time": "2022-11-07T07:07:20.996Z"
   },
   {
    "duration": 25,
    "start_time": "2022-11-07T07:07:21.003Z"
   },
   {
    "duration": 29,
    "start_time": "2022-11-07T07:07:21.029Z"
   },
   {
    "duration": 18,
    "start_time": "2022-11-07T07:07:21.060Z"
   },
   {
    "duration": 7,
    "start_time": "2022-11-07T07:07:21.080Z"
   },
   {
    "duration": 30,
    "start_time": "2022-11-07T07:07:21.089Z"
   },
   {
    "duration": 122,
    "start_time": "2022-11-07T07:07:21.121Z"
   },
   {
    "duration": 36,
    "start_time": "2022-11-07T07:07:21.245Z"
   },
   {
    "duration": 4,
    "start_time": "2022-11-07T07:07:21.283Z"
   },
   {
    "duration": 17,
    "start_time": "2022-11-07T07:07:21.289Z"
   },
   {
    "duration": 35,
    "start_time": "2022-11-07T07:07:21.308Z"
   },
   {
    "duration": 16,
    "start_time": "2022-11-07T07:07:21.344Z"
   },
   {
    "duration": 18,
    "start_time": "2022-11-07T07:07:21.362Z"
   },
   {
    "duration": 17,
    "start_time": "2022-11-07T07:07:21.382Z"
   },
   {
    "duration": 37,
    "start_time": "2022-11-07T07:07:21.401Z"
   },
   {
    "duration": 190,
    "start_time": "2022-11-07T07:07:21.440Z"
   },
   {
    "duration": 189,
    "start_time": "2022-11-07T07:07:21.632Z"
   },
   {
    "duration": 16,
    "start_time": "2022-11-07T07:07:21.824Z"
   },
   {
    "duration": 19,
    "start_time": "2022-11-07T07:07:21.842Z"
   },
   {
    "duration": 13,
    "start_time": "2022-11-07T07:07:21.863Z"
   },
   {
    "duration": 13,
    "start_time": "2022-11-07T07:07:21.878Z"
   },
   {
    "duration": 43,
    "start_time": "2022-11-07T07:07:21.892Z"
   },
   {
    "duration": 186,
    "start_time": "2022-11-07T07:07:21.937Z"
   },
   {
    "duration": 63,
    "start_time": "2022-11-07T07:08:50.357Z"
   },
   {
    "duration": 24,
    "start_time": "2022-11-07T07:08:59.969Z"
   },
   {
    "duration": 1408,
    "start_time": "2022-11-07T07:19:58.159Z"
   },
   {
    "duration": 55,
    "start_time": "2022-11-07T07:19:59.569Z"
   },
   {
    "duration": 13,
    "start_time": "2022-11-07T07:19:59.626Z"
   },
   {
    "duration": 11,
    "start_time": "2022-11-07T07:19:59.641Z"
   },
   {
    "duration": 14,
    "start_time": "2022-11-07T07:19:59.653Z"
   },
   {
    "duration": 29,
    "start_time": "2022-11-07T07:19:59.668Z"
   },
   {
    "duration": 174,
    "start_time": "2022-11-07T07:19:59.699Z"
   },
   {
    "duration": 155,
    "start_time": "2022-11-07T07:19:59.875Z"
   },
   {
    "duration": 5,
    "start_time": "2022-11-07T07:20:00.032Z"
   },
   {
    "duration": 41,
    "start_time": "2022-11-07T07:20:00.040Z"
   },
   {
    "duration": 35,
    "start_time": "2022-11-07T07:20:00.083Z"
   },
   {
    "duration": 27,
    "start_time": "2022-11-07T07:20:00.120Z"
   },
   {
    "duration": 30,
    "start_time": "2022-11-07T07:20:00.149Z"
   },
   {
    "duration": 19,
    "start_time": "2022-11-07T07:20:00.180Z"
   },
   {
    "duration": 38,
    "start_time": "2022-11-07T07:20:00.201Z"
   },
   {
    "duration": 26,
    "start_time": "2022-11-07T07:20:00.241Z"
   },
   {
    "duration": 29,
    "start_time": "2022-11-07T07:20:00.269Z"
   },
   {
    "duration": 48,
    "start_time": "2022-11-07T07:20:00.300Z"
   },
   {
    "duration": 41,
    "start_time": "2022-11-07T07:20:00.350Z"
   },
   {
    "duration": 44,
    "start_time": "2022-11-07T07:20:00.393Z"
   },
   {
    "duration": 87,
    "start_time": "2022-11-07T07:20:00.439Z"
   },
   {
    "duration": 43,
    "start_time": "2022-11-07T07:20:00.527Z"
   },
   {
    "duration": 94,
    "start_time": "2022-11-07T07:20:00.572Z"
   },
   {
    "duration": 73,
    "start_time": "2022-11-07T07:20:00.668Z"
   },
   {
    "duration": 83,
    "start_time": "2022-11-07T07:20:00.744Z"
   },
   {
    "duration": 184,
    "start_time": "2022-11-07T07:20:00.829Z"
   },
   {
    "duration": 42,
    "start_time": "2022-11-07T07:20:01.015Z"
   },
   {
    "duration": 31,
    "start_time": "2022-11-07T07:20:01.061Z"
   },
   {
    "duration": 69,
    "start_time": "2022-11-07T07:20:01.094Z"
   },
   {
    "duration": 47,
    "start_time": "2022-11-07T07:20:01.164Z"
   },
   {
    "duration": 49,
    "start_time": "2022-11-07T07:20:01.213Z"
   },
   {
    "duration": 238,
    "start_time": "2022-11-07T07:20:01.264Z"
   },
   {
    "duration": 0,
    "start_time": "2022-11-07T07:20:01.504Z"
   },
   {
    "duration": 0,
    "start_time": "2022-11-07T07:20:01.505Z"
   },
   {
    "duration": 0,
    "start_time": "2022-11-07T07:20:01.520Z"
   },
   {
    "duration": 0,
    "start_time": "2022-11-07T07:20:01.522Z"
   },
   {
    "duration": 0,
    "start_time": "2022-11-07T07:20:01.524Z"
   },
   {
    "duration": 0,
    "start_time": "2022-11-07T07:20:01.525Z"
   },
   {
    "duration": 0,
    "start_time": "2022-11-07T07:20:01.526Z"
   },
   {
    "duration": 0,
    "start_time": "2022-11-07T07:20:01.527Z"
   },
   {
    "duration": 0,
    "start_time": "2022-11-07T07:20:01.529Z"
   },
   {
    "duration": 0,
    "start_time": "2022-11-07T07:20:01.530Z"
   },
   {
    "duration": 0,
    "start_time": "2022-11-07T07:20:01.532Z"
   },
   {
    "duration": 0,
    "start_time": "2022-11-07T07:20:01.533Z"
   },
   {
    "duration": 0,
    "start_time": "2022-11-07T07:20:01.535Z"
   },
   {
    "duration": 0,
    "start_time": "2022-11-07T07:20:01.536Z"
   },
   {
    "duration": 0,
    "start_time": "2022-11-07T07:20:01.538Z"
   },
   {
    "duration": 0,
    "start_time": "2022-11-07T07:20:01.539Z"
   },
   {
    "duration": 0,
    "start_time": "2022-11-07T07:20:01.540Z"
   },
   {
    "duration": 0,
    "start_time": "2022-11-07T07:20:01.541Z"
   },
   {
    "duration": 0,
    "start_time": "2022-11-07T07:20:01.543Z"
   },
   {
    "duration": 0,
    "start_time": "2022-11-07T07:20:01.544Z"
   },
   {
    "duration": 0,
    "start_time": "2022-11-07T07:20:01.544Z"
   },
   {
    "duration": 0,
    "start_time": "2022-11-07T07:20:01.545Z"
   },
   {
    "duration": 0,
    "start_time": "2022-11-07T07:20:01.546Z"
   },
   {
    "duration": 0,
    "start_time": "2022-11-07T07:20:01.547Z"
   },
   {
    "duration": 7,
    "start_time": "2022-11-07T07:20:37.679Z"
   },
   {
    "duration": 1347,
    "start_time": "2022-11-07T07:21:50.839Z"
   },
   {
    "duration": 53,
    "start_time": "2022-11-07T07:21:52.188Z"
   },
   {
    "duration": 12,
    "start_time": "2022-11-07T07:21:52.243Z"
   },
   {
    "duration": 13,
    "start_time": "2022-11-07T07:21:52.256Z"
   },
   {
    "duration": 6,
    "start_time": "2022-11-07T07:21:52.271Z"
   },
   {
    "duration": 16,
    "start_time": "2022-11-07T07:21:52.279Z"
   },
   {
    "duration": 165,
    "start_time": "2022-11-07T07:21:52.296Z"
   },
   {
    "duration": 143,
    "start_time": "2022-11-07T07:21:52.463Z"
   },
   {
    "duration": 17,
    "start_time": "2022-11-07T07:21:52.608Z"
   },
   {
    "duration": 22,
    "start_time": "2022-11-07T07:21:52.628Z"
   },
   {
    "duration": 25,
    "start_time": "2022-11-07T07:21:52.652Z"
   },
   {
    "duration": 21,
    "start_time": "2022-11-07T07:21:52.680Z"
   },
   {
    "duration": 41,
    "start_time": "2022-11-07T07:21:52.702Z"
   },
   {
    "duration": 19,
    "start_time": "2022-11-07T07:21:52.744Z"
   },
   {
    "duration": 20,
    "start_time": "2022-11-07T07:21:52.765Z"
   },
   {
    "duration": 12,
    "start_time": "2022-11-07T07:21:52.787Z"
   },
   {
    "duration": 21,
    "start_time": "2022-11-07T07:21:52.800Z"
   },
   {
    "duration": 19,
    "start_time": "2022-11-07T07:21:52.823Z"
   },
   {
    "duration": 12,
    "start_time": "2022-11-07T07:21:52.844Z"
   },
   {
    "duration": 18,
    "start_time": "2022-11-07T07:21:52.858Z"
   },
   {
    "duration": 33,
    "start_time": "2022-11-07T07:21:52.878Z"
   },
   {
    "duration": 11,
    "start_time": "2022-11-07T07:21:52.912Z"
   },
   {
    "duration": 12,
    "start_time": "2022-11-07T07:21:52.925Z"
   },
   {
    "duration": 13,
    "start_time": "2022-11-07T07:21:52.939Z"
   },
   {
    "duration": 22,
    "start_time": "2022-11-07T07:21:52.954Z"
   },
   {
    "duration": 9,
    "start_time": "2022-11-07T07:21:52.978Z"
   },
   {
    "duration": 7,
    "start_time": "2022-11-07T07:21:52.988Z"
   },
   {
    "duration": 3,
    "start_time": "2022-11-07T07:21:52.999Z"
   },
   {
    "duration": 15,
    "start_time": "2022-11-07T07:21:53.004Z"
   },
   {
    "duration": 21,
    "start_time": "2022-11-07T07:21:53.021Z"
   },
   {
    "duration": 39,
    "start_time": "2022-11-07T07:21:53.044Z"
   },
   {
    "duration": 41,
    "start_time": "2022-11-07T07:21:53.084Z"
   },
   {
    "duration": 99,
    "start_time": "2022-11-07T07:21:53.130Z"
   },
   {
    "duration": 17,
    "start_time": "2022-11-07T07:21:53.230Z"
   },
   {
    "duration": 14,
    "start_time": "2022-11-07T07:21:53.249Z"
   },
   {
    "duration": 16,
    "start_time": "2022-11-07T07:21:53.265Z"
   },
   {
    "duration": 23,
    "start_time": "2022-11-07T07:21:53.282Z"
   },
   {
    "duration": 2,
    "start_time": "2022-11-07T07:21:53.307Z"
   },
   {
    "duration": 36,
    "start_time": "2022-11-07T07:21:53.311Z"
   },
   {
    "duration": 121,
    "start_time": "2022-11-07T07:21:53.349Z"
   },
   {
    "duration": 34,
    "start_time": "2022-11-07T07:21:53.472Z"
   },
   {
    "duration": 15,
    "start_time": "2022-11-07T07:21:53.508Z"
   },
   {
    "duration": 6,
    "start_time": "2022-11-07T07:21:53.525Z"
   },
   {
    "duration": 6,
    "start_time": "2022-11-07T07:21:53.533Z"
   },
   {
    "duration": 5,
    "start_time": "2022-11-07T07:21:53.541Z"
   },
   {
    "duration": 8,
    "start_time": "2022-11-07T07:21:53.547Z"
   },
   {
    "duration": 10,
    "start_time": "2022-11-07T07:21:53.556Z"
   },
   {
    "duration": 56,
    "start_time": "2022-11-07T07:21:53.568Z"
   },
   {
    "duration": 114,
    "start_time": "2022-11-07T07:21:53.625Z"
   },
   {
    "duration": 85,
    "start_time": "2022-11-07T07:21:53.741Z"
   },
   {
    "duration": 104,
    "start_time": "2022-11-07T07:21:53.828Z"
   },
   {
    "duration": 20,
    "start_time": "2022-11-07T07:21:53.934Z"
   },
   {
    "duration": 6,
    "start_time": "2022-11-07T07:21:53.956Z"
   },
   {
    "duration": 16,
    "start_time": "2022-11-07T07:21:53.963Z"
   },
   {
    "duration": 48,
    "start_time": "2022-11-07T07:21:53.981Z"
   },
   {
    "duration": 190,
    "start_time": "2022-11-07T07:21:54.033Z"
   },
   {
    "duration": 41,
    "start_time": "2022-11-07T07:38:17.247Z"
   },
   {
    "duration": 18,
    "start_time": "2022-11-07T07:39:19.508Z"
   },
   {
    "duration": 109,
    "start_time": "2022-11-07T07:40:51.695Z"
   },
   {
    "duration": 11,
    "start_time": "2022-11-07T07:47:56.566Z"
   },
   {
    "duration": 11,
    "start_time": "2022-11-07T07:48:12.128Z"
   },
   {
    "duration": 13,
    "start_time": "2022-11-07T07:48:23.067Z"
   },
   {
    "duration": 36,
    "start_time": "2022-11-07T07:48:37.424Z"
   },
   {
    "duration": 20408,
    "start_time": "2022-11-07T07:50:53.285Z"
   },
   {
    "duration": 27,
    "start_time": "2022-11-07T07:52:40.106Z"
   },
   {
    "duration": 6806,
    "start_time": "2022-11-07T07:53:08.843Z"
   },
   {
    "duration": 68,
    "start_time": "2022-11-07T07:58:04.959Z"
   },
   {
    "duration": 3,
    "start_time": "2022-11-07T07:59:45.765Z"
   },
   {
    "duration": 4,
    "start_time": "2022-11-07T08:00:06.707Z"
   },
   {
    "duration": 37,
    "start_time": "2022-11-07T08:00:22.160Z"
   },
   {
    "duration": 37,
    "start_time": "2022-11-07T08:08:32.772Z"
   },
   {
    "duration": 39,
    "start_time": "2022-11-07T08:19:23.908Z"
   },
   {
    "duration": 39,
    "start_time": "2022-11-07T08:22:49.634Z"
   },
   {
    "duration": 53,
    "start_time": "2022-11-07T08:25:34.922Z"
   },
   {
    "duration": 20598,
    "start_time": "2022-11-07T08:26:40.803Z"
   },
   {
    "duration": 1526,
    "start_time": "2022-11-07T08:29:30.151Z"
   },
   {
    "duration": 56,
    "start_time": "2022-11-07T08:29:31.680Z"
   },
   {
    "duration": 19,
    "start_time": "2022-11-07T08:29:31.739Z"
   },
   {
    "duration": 6,
    "start_time": "2022-11-07T08:29:31.762Z"
   },
   {
    "duration": 11,
    "start_time": "2022-11-07T08:29:31.770Z"
   },
   {
    "duration": 39,
    "start_time": "2022-11-07T08:29:31.783Z"
   },
   {
    "duration": 166,
    "start_time": "2022-11-07T08:29:31.825Z"
   },
   {
    "duration": 170,
    "start_time": "2022-11-07T08:29:31.993Z"
   },
   {
    "duration": 8,
    "start_time": "2022-11-07T08:29:32.165Z"
   },
   {
    "duration": 5,
    "start_time": "2022-11-07T08:29:32.177Z"
   },
   {
    "duration": 13,
    "start_time": "2022-11-07T08:29:32.183Z"
   },
   {
    "duration": 27,
    "start_time": "2022-11-07T08:29:32.199Z"
   },
   {
    "duration": 22,
    "start_time": "2022-11-07T08:29:32.228Z"
   },
   {
    "duration": 5,
    "start_time": "2022-11-07T08:29:32.252Z"
   },
   {
    "duration": 22,
    "start_time": "2022-11-07T08:29:32.259Z"
   },
   {
    "duration": 6,
    "start_time": "2022-11-07T08:29:32.283Z"
   },
   {
    "duration": 32,
    "start_time": "2022-11-07T08:29:32.291Z"
   },
   {
    "duration": 13,
    "start_time": "2022-11-07T08:29:32.325Z"
   },
   {
    "duration": 11,
    "start_time": "2022-11-07T08:29:32.340Z"
   },
   {
    "duration": 8,
    "start_time": "2022-11-07T08:29:32.353Z"
   },
   {
    "duration": 15,
    "start_time": "2022-11-07T08:29:32.364Z"
   },
   {
    "duration": 14,
    "start_time": "2022-11-07T08:29:32.382Z"
   },
   {
    "duration": 21,
    "start_time": "2022-11-07T08:29:32.399Z"
   },
   {
    "duration": 18,
    "start_time": "2022-11-07T08:29:32.423Z"
   },
   {
    "duration": 9,
    "start_time": "2022-11-07T08:29:32.443Z"
   },
   {
    "duration": 6,
    "start_time": "2022-11-07T08:29:32.454Z"
   },
   {
    "duration": 13,
    "start_time": "2022-11-07T08:29:32.463Z"
   },
   {
    "duration": 7,
    "start_time": "2022-11-07T08:29:32.482Z"
   },
   {
    "duration": 20,
    "start_time": "2022-11-07T08:29:32.492Z"
   },
   {
    "duration": 28,
    "start_time": "2022-11-07T08:29:32.519Z"
   },
   {
    "duration": 38,
    "start_time": "2022-11-07T08:29:32.550Z"
   },
   {
    "duration": 35,
    "start_time": "2022-11-07T08:29:32.591Z"
   },
   {
    "duration": 142,
    "start_time": "2022-11-07T08:29:32.630Z"
   },
   {
    "duration": 7,
    "start_time": "2022-11-07T08:29:32.775Z"
   },
   {
    "duration": 16,
    "start_time": "2022-11-07T08:29:32.820Z"
   },
   {
    "duration": 16,
    "start_time": "2022-11-07T08:29:32.839Z"
   },
   {
    "duration": 18,
    "start_time": "2022-11-07T08:29:32.856Z"
   },
   {
    "duration": 4,
    "start_time": "2022-11-07T08:29:32.875Z"
   },
   {
    "duration": 15,
    "start_time": "2022-11-07T08:29:32.880Z"
   },
   {
    "duration": 127,
    "start_time": "2022-11-07T08:29:32.921Z"
   },
   {
    "duration": 47,
    "start_time": "2022-11-07T08:29:33.049Z"
   },
   {
    "duration": 21,
    "start_time": "2022-11-07T08:29:33.099Z"
   },
   {
    "duration": 6,
    "start_time": "2022-11-07T08:29:33.123Z"
   },
   {
    "duration": 13,
    "start_time": "2022-11-07T08:29:33.131Z"
   },
   {
    "duration": 7,
    "start_time": "2022-11-07T08:29:33.146Z"
   },
   {
    "duration": 9,
    "start_time": "2022-11-07T08:29:33.155Z"
   },
   {
    "duration": 9,
    "start_time": "2022-11-07T08:29:33.166Z"
   },
   {
    "duration": 56,
    "start_time": "2022-11-07T08:29:33.177Z"
   },
   {
    "duration": 194,
    "start_time": "2022-11-07T08:29:33.236Z"
   },
   {
    "duration": 102,
    "start_time": "2022-11-07T08:29:33.432Z"
   },
   {
    "duration": 9,
    "start_time": "2022-11-07T08:29:33.621Z"
   },
   {
    "duration": 15,
    "start_time": "2022-11-07T08:29:33.632Z"
   },
   {
    "duration": 6,
    "start_time": "2022-11-07T08:29:33.649Z"
   },
   {
    "duration": 26,
    "start_time": "2022-11-07T08:29:33.656Z"
   },
   {
    "duration": 144,
    "start_time": "2022-11-07T08:29:33.684Z"
   },
   {
    "duration": 102,
    "start_time": "2022-11-07T08:29:33.830Z"
   },
   {
    "duration": 208,
    "start_time": "2022-11-07T08:29:33.933Z"
   },
   {
    "duration": 22,
    "start_time": "2022-11-07T08:29:34.143Z"
   },
   {
    "duration": 21084,
    "start_time": "2022-11-07T08:29:34.166Z"
   },
   {
    "duration": 150,
    "start_time": "2022-11-07T08:29:55.252Z"
   },
   {
    "duration": 7122,
    "start_time": "2022-11-07T08:31:44.775Z"
   },
   {
    "duration": 1366,
    "start_time": "2022-11-07T08:34:22.580Z"
   },
   {
    "duration": 56,
    "start_time": "2022-11-07T08:34:23.948Z"
   },
   {
    "duration": 13,
    "start_time": "2022-11-07T08:34:24.005Z"
   },
   {
    "duration": 5,
    "start_time": "2022-11-07T08:34:24.020Z"
   },
   {
    "duration": 8,
    "start_time": "2022-11-07T08:34:24.027Z"
   },
   {
    "duration": 19,
    "start_time": "2022-11-07T08:34:24.037Z"
   },
   {
    "duration": 163,
    "start_time": "2022-11-07T08:34:24.058Z"
   },
   {
    "duration": 151,
    "start_time": "2022-11-07T08:34:24.223Z"
   },
   {
    "duration": 6,
    "start_time": "2022-11-07T08:34:24.376Z"
   },
   {
    "duration": 4,
    "start_time": "2022-11-07T08:34:24.385Z"
   },
   {
    "duration": 5,
    "start_time": "2022-11-07T08:34:24.391Z"
   },
   {
    "duration": 5,
    "start_time": "2022-11-07T08:34:24.421Z"
   },
   {
    "duration": 18,
    "start_time": "2022-11-07T08:34:24.428Z"
   },
   {
    "duration": 4,
    "start_time": "2022-11-07T08:34:24.448Z"
   },
   {
    "duration": 24,
    "start_time": "2022-11-07T08:34:24.454Z"
   },
   {
    "duration": 9,
    "start_time": "2022-11-07T08:34:24.480Z"
   },
   {
    "duration": 8,
    "start_time": "2022-11-07T08:34:24.491Z"
   },
   {
    "duration": 20,
    "start_time": "2022-11-07T08:34:24.501Z"
   },
   {
    "duration": 8,
    "start_time": "2022-11-07T08:34:24.523Z"
   },
   {
    "duration": 12,
    "start_time": "2022-11-07T08:34:24.533Z"
   },
   {
    "duration": 14,
    "start_time": "2022-11-07T08:34:24.547Z"
   },
   {
    "duration": 8,
    "start_time": "2022-11-07T08:34:24.563Z"
   },
   {
    "duration": 10,
    "start_time": "2022-11-07T08:34:24.573Z"
   },
   {
    "duration": 20,
    "start_time": "2022-11-07T08:34:24.585Z"
   },
   {
    "duration": 19,
    "start_time": "2022-11-07T08:34:24.607Z"
   },
   {
    "duration": 22,
    "start_time": "2022-11-07T08:34:24.627Z"
   },
   {
    "duration": 15,
    "start_time": "2022-11-07T08:34:24.651Z"
   },
   {
    "duration": 7,
    "start_time": "2022-11-07T08:34:24.670Z"
   },
   {
    "duration": 17,
    "start_time": "2022-11-07T08:34:24.678Z"
   },
   {
    "duration": 24,
    "start_time": "2022-11-07T08:34:24.696Z"
   },
   {
    "duration": 36,
    "start_time": "2022-11-07T08:34:24.722Z"
   },
   {
    "duration": 6,
    "start_time": "2022-11-07T08:34:24.760Z"
   },
   {
    "duration": 64,
    "start_time": "2022-11-07T08:34:24.768Z"
   },
   {
    "duration": 87,
    "start_time": "2022-11-07T08:34:24.834Z"
   },
   {
    "duration": 14,
    "start_time": "2022-11-07T08:34:24.923Z"
   },
   {
    "duration": 23,
    "start_time": "2022-11-07T08:34:24.939Z"
   },
   {
    "duration": 29,
    "start_time": "2022-11-07T08:34:24.964Z"
   },
   {
    "duration": 3,
    "start_time": "2022-11-07T08:34:24.994Z"
   },
   {
    "duration": 16,
    "start_time": "2022-11-07T08:34:24.999Z"
   },
   {
    "duration": 122,
    "start_time": "2022-11-07T08:34:25.017Z"
   },
   {
    "duration": 33,
    "start_time": "2022-11-07T08:34:25.140Z"
   },
   {
    "duration": 4,
    "start_time": "2022-11-07T08:34:25.174Z"
   },
   {
    "duration": 6,
    "start_time": "2022-11-07T08:34:25.180Z"
   },
   {
    "duration": 10,
    "start_time": "2022-11-07T08:34:25.188Z"
   },
   {
    "duration": 27,
    "start_time": "2022-11-07T08:34:25.199Z"
   },
   {
    "duration": 6,
    "start_time": "2022-11-07T08:34:25.228Z"
   },
   {
    "duration": 6,
    "start_time": "2022-11-07T08:34:25.235Z"
   },
   {
    "duration": 21,
    "start_time": "2022-11-07T08:34:25.243Z"
   },
   {
    "duration": 111,
    "start_time": "2022-11-07T08:34:25.323Z"
   },
   {
    "duration": 90,
    "start_time": "2022-11-07T08:34:25.436Z"
   },
   {
    "duration": 125,
    "start_time": "2022-11-07T08:34:25.528Z"
   },
   {
    "duration": 45,
    "start_time": "2022-11-07T08:34:25.655Z"
   },
   {
    "duration": 10,
    "start_time": "2022-11-07T08:34:25.702Z"
   },
   {
    "duration": 30,
    "start_time": "2022-11-07T08:34:25.714Z"
   },
   {
    "duration": 36,
    "start_time": "2022-11-07T08:34:25.746Z"
   },
   {
    "duration": 106,
    "start_time": "2022-11-07T08:34:25.828Z"
   },
   {
    "duration": 225,
    "start_time": "2022-11-07T08:34:25.936Z"
   },
   {
    "duration": 17,
    "start_time": "2022-11-07T08:34:26.163Z"
   },
   {
    "duration": 7096,
    "start_time": "2022-11-07T08:34:26.182Z"
   },
   {
    "duration": 20840,
    "start_time": "2022-11-07T08:34:33.280Z"
   },
   {
    "duration": 3,
    "start_time": "2022-11-07T08:37:29.480Z"
   },
   {
    "duration": 1377,
    "start_time": "2022-11-07T08:54:21.148Z"
   },
   {
    "duration": 55,
    "start_time": "2022-11-07T08:54:22.527Z"
   },
   {
    "duration": 14,
    "start_time": "2022-11-07T08:54:22.584Z"
   },
   {
    "duration": 4,
    "start_time": "2022-11-07T08:54:22.599Z"
   },
   {
    "duration": 7,
    "start_time": "2022-11-07T08:54:22.607Z"
   },
   {
    "duration": 25,
    "start_time": "2022-11-07T08:54:22.615Z"
   },
   {
    "duration": 181,
    "start_time": "2022-11-07T08:54:22.642Z"
   },
   {
    "duration": 168,
    "start_time": "2022-11-07T08:54:22.825Z"
   },
   {
    "duration": 5,
    "start_time": "2022-11-07T08:54:22.995Z"
   },
   {
    "duration": 23,
    "start_time": "2022-11-07T08:54:23.002Z"
   },
   {
    "duration": 10,
    "start_time": "2022-11-07T08:54:23.027Z"
   },
   {
    "duration": 10,
    "start_time": "2022-11-07T08:54:23.038Z"
   },
   {
    "duration": 18,
    "start_time": "2022-11-07T08:54:23.050Z"
   },
   {
    "duration": 5,
    "start_time": "2022-11-07T08:54:23.072Z"
   },
   {
    "duration": 25,
    "start_time": "2022-11-07T08:54:23.079Z"
   },
   {
    "duration": 16,
    "start_time": "2022-11-07T08:54:23.106Z"
   },
   {
    "duration": 23,
    "start_time": "2022-11-07T08:54:23.123Z"
   },
   {
    "duration": 19,
    "start_time": "2022-11-07T08:54:23.148Z"
   },
   {
    "duration": 23,
    "start_time": "2022-11-07T08:54:23.169Z"
   },
   {
    "duration": 11,
    "start_time": "2022-11-07T08:54:23.194Z"
   },
   {
    "duration": 12,
    "start_time": "2022-11-07T08:54:23.206Z"
   },
   {
    "duration": 11,
    "start_time": "2022-11-07T08:54:23.220Z"
   },
   {
    "duration": 6,
    "start_time": "2022-11-07T08:54:23.234Z"
   },
   {
    "duration": 16,
    "start_time": "2022-11-07T08:54:23.242Z"
   },
   {
    "duration": 22,
    "start_time": "2022-11-07T08:54:23.260Z"
   },
   {
    "duration": 11,
    "start_time": "2022-11-07T08:54:23.285Z"
   },
   {
    "duration": 12,
    "start_time": "2022-11-07T08:54:23.298Z"
   },
   {
    "duration": 13,
    "start_time": "2022-11-07T08:54:23.312Z"
   },
   {
    "duration": 20,
    "start_time": "2022-11-07T08:54:23.327Z"
   },
   {
    "duration": 21,
    "start_time": "2022-11-07T08:54:23.349Z"
   },
   {
    "duration": 51,
    "start_time": "2022-11-07T08:54:23.371Z"
   },
   {
    "duration": 9,
    "start_time": "2022-11-07T08:54:23.424Z"
   },
   {
    "duration": 198,
    "start_time": "2022-11-07T08:54:23.435Z"
   },
   {
    "duration": 19,
    "start_time": "2022-11-07T08:54:23.635Z"
   },
   {
    "duration": 13,
    "start_time": "2022-11-07T08:54:23.655Z"
   },
   {
    "duration": 12,
    "start_time": "2022-11-07T08:54:23.670Z"
   },
   {
    "duration": 26,
    "start_time": "2022-11-07T08:54:23.684Z"
   },
   {
    "duration": 9,
    "start_time": "2022-11-07T08:54:23.713Z"
   },
   {
    "duration": 27,
    "start_time": "2022-11-07T08:54:23.724Z"
   },
   {
    "duration": 138,
    "start_time": "2022-11-07T08:54:23.753Z"
   },
   {
    "duration": 42,
    "start_time": "2022-11-07T08:54:23.895Z"
   },
   {
    "duration": 5,
    "start_time": "2022-11-07T08:54:23.939Z"
   },
   {
    "duration": 24,
    "start_time": "2022-11-07T08:54:23.946Z"
   },
   {
    "duration": 38,
    "start_time": "2022-11-07T08:54:23.972Z"
   },
   {
    "duration": 15,
    "start_time": "2022-11-07T08:54:24.012Z"
   },
   {
    "duration": 14,
    "start_time": "2022-11-07T08:54:24.029Z"
   },
   {
    "duration": 13,
    "start_time": "2022-11-07T08:54:24.045Z"
   },
   {
    "duration": 60,
    "start_time": "2022-11-07T08:54:24.060Z"
   },
   {
    "duration": 117,
    "start_time": "2022-11-07T08:54:24.121Z"
   },
   {
    "duration": 187,
    "start_time": "2022-11-07T08:54:24.241Z"
   },
   {
    "duration": 11,
    "start_time": "2022-11-07T08:54:24.430Z"
   },
   {
    "duration": 19,
    "start_time": "2022-11-07T08:54:24.443Z"
   },
   {
    "duration": 8,
    "start_time": "2022-11-07T08:54:24.463Z"
   },
   {
    "duration": 27,
    "start_time": "2022-11-07T08:54:24.474Z"
   },
   {
    "duration": 42,
    "start_time": "2022-11-07T08:54:24.520Z"
   },
   {
    "duration": 64,
    "start_time": "2022-11-07T08:54:24.563Z"
   },
   {
    "duration": 113,
    "start_time": "2022-11-07T08:54:24.629Z"
   },
   {
    "duration": 184,
    "start_time": "2022-11-07T08:54:24.744Z"
   },
   {
    "duration": 56,
    "start_time": "2022-11-07T08:54:24.931Z"
   },
   {
    "duration": 20,
    "start_time": "2022-11-07T08:54:24.989Z"
   },
   {
    "duration": 8004,
    "start_time": "2022-11-07T08:54:25.020Z"
   },
   {
    "duration": 20810,
    "start_time": "2022-11-07T08:54:33.026Z"
   },
   {
    "duration": 144,
    "start_time": "2022-11-07T09:02:16.541Z"
   },
   {
    "duration": 46,
    "start_time": "2022-11-07T09:06:03.774Z"
   },
   {
    "duration": 20700,
    "start_time": "2022-11-07T09:06:26.018Z"
   },
   {
    "duration": 7138,
    "start_time": "2022-11-07T09:08:48.888Z"
   },
   {
    "duration": 21728,
    "start_time": "2022-11-07T09:13:06.283Z"
   },
   {
    "duration": 21509,
    "start_time": "2022-11-07T09:14:25.793Z"
   },
   {
    "duration": 22279,
    "start_time": "2022-11-07T09:22:03.260Z"
   },
   {
    "duration": 10,
    "start_time": "2022-11-07T09:26:27.816Z"
   },
   {
    "duration": 44,
    "start_time": "2022-11-07T09:27:40.569Z"
   },
   {
    "duration": 96,
    "start_time": "2022-11-07T09:28:01.326Z"
   },
   {
    "duration": 11,
    "start_time": "2022-11-07T09:28:24.223Z"
   },
   {
    "duration": 10,
    "start_time": "2022-11-07T09:28:44.980Z"
   },
   {
    "duration": 14,
    "start_time": "2022-11-07T09:29:53.265Z"
   },
   {
    "duration": 11,
    "start_time": "2022-11-07T09:35:01.016Z"
   },
   {
    "duration": 79,
    "start_time": "2022-11-07T09:35:41.351Z"
   },
   {
    "duration": 1490,
    "start_time": "2022-11-07T09:36:16.687Z"
   },
   {
    "duration": 58,
    "start_time": "2022-11-07T09:36:18.179Z"
   },
   {
    "duration": 13,
    "start_time": "2022-11-07T09:36:18.239Z"
   },
   {
    "duration": 47,
    "start_time": "2022-11-07T09:36:18.254Z"
   },
   {
    "duration": 38,
    "start_time": "2022-11-07T09:36:18.303Z"
   },
   {
    "duration": 57,
    "start_time": "2022-11-07T09:36:18.343Z"
   },
   {
    "duration": 168,
    "start_time": "2022-11-07T09:36:18.402Z"
   },
   {
    "duration": 171,
    "start_time": "2022-11-07T09:36:18.572Z"
   },
   {
    "duration": 6,
    "start_time": "2022-11-07T09:36:18.745Z"
   },
   {
    "duration": 44,
    "start_time": "2022-11-07T09:36:18.755Z"
   },
   {
    "duration": 31,
    "start_time": "2022-11-07T09:36:18.800Z"
   },
   {
    "duration": 31,
    "start_time": "2022-11-07T09:36:18.832Z"
   },
   {
    "duration": 37,
    "start_time": "2022-11-07T09:36:18.865Z"
   },
   {
    "duration": 39,
    "start_time": "2022-11-07T09:36:18.903Z"
   },
   {
    "duration": 60,
    "start_time": "2022-11-07T09:36:18.944Z"
   },
   {
    "duration": 26,
    "start_time": "2022-11-07T09:36:19.006Z"
   },
   {
    "duration": 46,
    "start_time": "2022-11-07T09:36:19.034Z"
   },
   {
    "duration": 33,
    "start_time": "2022-11-07T09:36:19.083Z"
   },
   {
    "duration": 24,
    "start_time": "2022-11-07T09:36:19.118Z"
   },
   {
    "duration": 48,
    "start_time": "2022-11-07T09:36:19.145Z"
   },
   {
    "duration": 42,
    "start_time": "2022-11-07T09:36:19.195Z"
   },
   {
    "duration": 10,
    "start_time": "2022-11-07T09:36:19.239Z"
   },
   {
    "duration": 48,
    "start_time": "2022-11-07T09:36:19.251Z"
   },
   {
    "duration": 44,
    "start_time": "2022-11-07T09:36:19.302Z"
   },
   {
    "duration": 51,
    "start_time": "2022-11-07T09:36:19.348Z"
   },
   {
    "duration": 37,
    "start_time": "2022-11-07T09:36:19.401Z"
   },
   {
    "duration": 31,
    "start_time": "2022-11-07T09:36:19.440Z"
   },
   {
    "duration": 39,
    "start_time": "2022-11-07T09:36:19.476Z"
   },
   {
    "duration": 47,
    "start_time": "2022-11-07T09:36:19.517Z"
   },
   {
    "duration": 45,
    "start_time": "2022-11-07T09:36:19.565Z"
   },
   {
    "duration": 56,
    "start_time": "2022-11-07T09:36:19.611Z"
   },
   {
    "duration": 57,
    "start_time": "2022-11-07T09:36:19.668Z"
   },
   {
    "duration": 125,
    "start_time": "2022-11-07T09:36:19.727Z"
   },
   {
    "duration": 12,
    "start_time": "2022-11-07T09:36:19.854Z"
   },
   {
    "duration": 18,
    "start_time": "2022-11-07T09:36:19.868Z"
   },
   {
    "duration": 43,
    "start_time": "2022-11-07T09:36:19.888Z"
   },
   {
    "duration": 34,
    "start_time": "2022-11-07T09:36:19.933Z"
   },
   {
    "duration": 3,
    "start_time": "2022-11-07T09:36:19.969Z"
   },
   {
    "duration": 28,
    "start_time": "2022-11-07T09:36:19.974Z"
   },
   {
    "duration": 161,
    "start_time": "2022-11-07T09:36:20.004Z"
   },
   {
    "duration": 38,
    "start_time": "2022-11-07T09:36:20.166Z"
   },
   {
    "duration": 16,
    "start_time": "2022-11-07T09:36:20.207Z"
   },
   {
    "duration": 15,
    "start_time": "2022-11-07T09:36:20.224Z"
   },
   {
    "duration": 25,
    "start_time": "2022-11-07T09:36:20.241Z"
   },
   {
    "duration": 13,
    "start_time": "2022-11-07T09:36:20.268Z"
   },
   {
    "duration": 29,
    "start_time": "2022-11-07T09:36:20.283Z"
   },
   {
    "duration": 16,
    "start_time": "2022-11-07T09:36:20.314Z"
   },
   {
    "duration": 27,
    "start_time": "2022-11-07T09:36:20.332Z"
   },
   {
    "duration": 178,
    "start_time": "2022-11-07T09:36:20.360Z"
   },
   {
    "duration": 100,
    "start_time": "2022-11-07T09:36:20.621Z"
   },
   {
    "duration": 8,
    "start_time": "2022-11-07T09:36:20.723Z"
   },
   {
    "duration": 20,
    "start_time": "2022-11-07T09:36:20.732Z"
   },
   {
    "duration": 8,
    "start_time": "2022-11-07T09:36:20.754Z"
   },
   {
    "duration": 26,
    "start_time": "2022-11-07T09:36:20.764Z"
   },
   {
    "duration": 129,
    "start_time": "2022-11-07T09:36:20.791Z"
   },
   {
    "duration": 6,
    "start_time": "2022-11-07T09:36:20.922Z"
   },
   {
    "duration": 124,
    "start_time": "2022-11-07T09:36:20.930Z"
   },
   {
    "duration": 167,
    "start_time": "2022-11-07T09:36:21.057Z"
   },
   {
    "duration": 16,
    "start_time": "2022-11-07T09:36:21.226Z"
   },
   {
    "duration": 194,
    "start_time": "2022-11-07T09:36:21.244Z"
   },
   {
    "duration": 397,
    "start_time": "2022-11-07T09:36:21.524Z"
   },
   {
    "duration": 0,
    "start_time": "2022-11-07T09:36:21.922Z"
   },
   {
    "duration": 0,
    "start_time": "2022-11-07T09:36:21.924Z"
   },
   {
    "duration": 0,
    "start_time": "2022-11-07T09:36:21.925Z"
   },
   {
    "duration": 0,
    "start_time": "2022-11-07T09:36:21.926Z"
   },
   {
    "duration": 14,
    "start_time": "2022-11-07T09:39:31.955Z"
   },
   {
    "duration": 14,
    "start_time": "2022-11-07T09:39:38.007Z"
   },
   {
    "duration": 566,
    "start_time": "2022-11-07T09:39:54.855Z"
   },
   {
    "duration": 1115,
    "start_time": "2022-11-07T09:40:24.806Z"
   },
   {
    "duration": 2438,
    "start_time": "2022-11-07T09:40:40.990Z"
   },
   {
    "duration": 1429,
    "start_time": "2022-11-07T09:41:14.498Z"
   },
   {
    "duration": 740,
    "start_time": "2022-11-07T09:41:21.786Z"
   },
   {
    "duration": 75,
    "start_time": "2022-11-07T09:44:59.820Z"
   },
   {
    "duration": 11,
    "start_time": "2022-11-07T09:46:46.204Z"
   },
   {
    "duration": 4,
    "start_time": "2022-11-07T09:47:20.953Z"
   },
   {
    "duration": 13,
    "start_time": "2022-11-07T09:47:42.175Z"
   },
   {
    "duration": 14,
    "start_time": "2022-11-07T09:48:42.428Z"
   },
   {
    "duration": 4,
    "start_time": "2022-11-07T09:48:59.559Z"
   },
   {
    "duration": 125,
    "start_time": "2022-11-07T09:49:08.604Z"
   },
   {
    "duration": 11,
    "start_time": "2022-11-07T09:51:13.277Z"
   },
   {
    "duration": 8,
    "start_time": "2022-11-07T09:51:19.534Z"
   },
   {
    "duration": 205,
    "start_time": "2022-11-07T09:51:20.121Z"
   },
   {
    "duration": 9,
    "start_time": "2022-11-07T09:54:45.430Z"
   },
   {
    "duration": 126,
    "start_time": "2022-11-07T09:54:57.677Z"
   },
   {
    "duration": 14,
    "start_time": "2022-11-07T09:55:06.869Z"
   },
   {
    "duration": 12,
    "start_time": "2022-11-07T09:58:12.837Z"
   },
   {
    "duration": 4,
    "start_time": "2022-11-07T09:58:43.976Z"
   },
   {
    "duration": 14,
    "start_time": "2022-11-07T09:58:59.087Z"
   },
   {
    "duration": 5,
    "start_time": "2022-11-07T09:59:25.155Z"
   },
   {
    "duration": 125,
    "start_time": "2022-11-07T10:02:25.230Z"
   },
   {
    "duration": 85,
    "start_time": "2022-11-07T10:06:48.036Z"
   },
   {
    "duration": 49,
    "start_time": "2022-11-07T10:08:10.651Z"
   },
   {
    "duration": 15,
    "start_time": "2022-11-07T10:14:58.941Z"
   },
   {
    "duration": 1581,
    "start_time": "2022-11-07T10:15:08.793Z"
   },
   {
    "duration": 61,
    "start_time": "2022-11-07T10:15:10.376Z"
   },
   {
    "duration": 14,
    "start_time": "2022-11-07T10:15:10.439Z"
   },
   {
    "duration": 15,
    "start_time": "2022-11-07T10:15:10.455Z"
   },
   {
    "duration": 12,
    "start_time": "2022-11-07T10:15:10.473Z"
   },
   {
    "duration": 21,
    "start_time": "2022-11-07T10:15:10.487Z"
   },
   {
    "duration": 180,
    "start_time": "2022-11-07T10:15:10.510Z"
   },
   {
    "duration": 162,
    "start_time": "2022-11-07T10:15:10.691Z"
   },
   {
    "duration": 5,
    "start_time": "2022-11-07T10:15:10.855Z"
   },
   {
    "duration": 23,
    "start_time": "2022-11-07T10:15:10.863Z"
   },
   {
    "duration": 14,
    "start_time": "2022-11-07T10:15:10.888Z"
   },
   {
    "duration": 19,
    "start_time": "2022-11-07T10:15:10.903Z"
   },
   {
    "duration": 34,
    "start_time": "2022-11-07T10:15:10.924Z"
   },
   {
    "duration": 4,
    "start_time": "2022-11-07T10:15:10.960Z"
   },
   {
    "duration": 36,
    "start_time": "2022-11-07T10:15:10.965Z"
   },
   {
    "duration": 5,
    "start_time": "2022-11-07T10:15:11.003Z"
   },
   {
    "duration": 8,
    "start_time": "2022-11-07T10:15:11.010Z"
   },
   {
    "duration": 25,
    "start_time": "2022-11-07T10:15:11.019Z"
   },
   {
    "duration": 14,
    "start_time": "2022-11-07T10:15:11.046Z"
   },
   {
    "duration": 11,
    "start_time": "2022-11-07T10:15:11.061Z"
   },
   {
    "duration": 10,
    "start_time": "2022-11-07T10:15:11.074Z"
   },
   {
    "duration": 8,
    "start_time": "2022-11-07T10:15:11.086Z"
   },
   {
    "duration": 12,
    "start_time": "2022-11-07T10:15:11.095Z"
   },
   {
    "duration": 8,
    "start_time": "2022-11-07T10:15:11.109Z"
   },
   {
    "duration": 24,
    "start_time": "2022-11-07T10:15:11.119Z"
   },
   {
    "duration": 16,
    "start_time": "2022-11-07T10:15:11.144Z"
   },
   {
    "duration": 12,
    "start_time": "2022-11-07T10:15:11.161Z"
   },
   {
    "duration": 11,
    "start_time": "2022-11-07T10:15:11.178Z"
   },
   {
    "duration": 18,
    "start_time": "2022-11-07T10:15:11.191Z"
   },
   {
    "duration": 41,
    "start_time": "2022-11-07T10:15:11.211Z"
   },
   {
    "duration": 40,
    "start_time": "2022-11-07T10:15:11.254Z"
   },
   {
    "duration": 39,
    "start_time": "2022-11-07T10:15:11.296Z"
   },
   {
    "duration": 109,
    "start_time": "2022-11-07T10:15:11.338Z"
   },
   {
    "duration": 22,
    "start_time": "2022-11-07T10:15:11.449Z"
   },
   {
    "duration": 26,
    "start_time": "2022-11-07T10:15:11.473Z"
   },
   {
    "duration": 13,
    "start_time": "2022-11-07T10:15:11.500Z"
   },
   {
    "duration": 27,
    "start_time": "2022-11-07T10:15:11.515Z"
   },
   {
    "duration": 17,
    "start_time": "2022-11-07T10:15:11.544Z"
   },
   {
    "duration": 21,
    "start_time": "2022-11-07T10:15:11.563Z"
   },
   {
    "duration": 151,
    "start_time": "2022-11-07T10:15:11.586Z"
   },
   {
    "duration": 37,
    "start_time": "2022-11-07T10:15:11.739Z"
   },
   {
    "duration": 4,
    "start_time": "2022-11-07T10:15:11.778Z"
   },
   {
    "duration": 11,
    "start_time": "2022-11-07T10:15:11.783Z"
   },
   {
    "duration": 14,
    "start_time": "2022-11-07T10:15:11.795Z"
   },
   {
    "duration": 9,
    "start_time": "2022-11-07T10:15:11.811Z"
   },
   {
    "duration": 15,
    "start_time": "2022-11-07T10:15:11.824Z"
   },
   {
    "duration": 27,
    "start_time": "2022-11-07T10:15:11.841Z"
   },
   {
    "duration": 57,
    "start_time": "2022-11-07T10:15:11.869Z"
   },
   {
    "duration": 114,
    "start_time": "2022-11-07T10:15:11.928Z"
   },
   {
    "duration": 119,
    "start_time": "2022-11-07T10:15:12.123Z"
   },
   {
    "duration": 49,
    "start_time": "2022-11-07T10:15:12.244Z"
   },
   {
    "duration": 19,
    "start_time": "2022-11-07T10:15:12.295Z"
   },
   {
    "duration": 9,
    "start_time": "2022-11-07T10:15:12.315Z"
   },
   {
    "duration": 30,
    "start_time": "2022-11-07T10:15:12.326Z"
   },
   {
    "duration": 66,
    "start_time": "2022-11-07T10:15:12.358Z"
   },
   {
    "duration": 9,
    "start_time": "2022-11-07T10:15:12.426Z"
   },
   {
    "duration": 121,
    "start_time": "2022-11-07T10:15:12.437Z"
   },
   {
    "duration": 67,
    "start_time": "2022-11-07T10:15:12.560Z"
   },
   {
    "duration": 122,
    "start_time": "2022-11-07T10:15:12.628Z"
   },
   {
    "duration": 971,
    "start_time": "2022-11-07T10:15:12.752Z"
   },
   {
    "duration": 225,
    "start_time": "2022-11-07T10:15:13.725Z"
   },
   {
    "duration": 7,
    "start_time": "2022-11-07T10:15:13.951Z"
   },
   {
    "duration": 376,
    "start_time": "2022-11-07T10:15:13.960Z"
   },
   {
    "duration": 5,
    "start_time": "2022-11-07T10:15:14.338Z"
   },
   {
    "duration": 122,
    "start_time": "2022-11-07T10:15:14.344Z"
   },
   {
    "duration": 57,
    "start_time": "2022-11-07T10:15:14.468Z"
   },
   {
    "duration": 26,
    "start_time": "2022-11-07T10:15:14.527Z"
   },
   {
    "duration": 8196,
    "start_time": "2022-11-07T10:15:14.555Z"
   },
   {
    "duration": 21979,
    "start_time": "2022-11-07T10:15:22.753Z"
   },
   {
    "duration": 4,
    "start_time": "2022-11-07T10:15:44.734Z"
   },
   {
    "duration": 128,
    "start_time": "2022-11-07T10:15:44.739Z"
   },
   {
    "duration": 10,
    "start_time": "2022-11-07T10:19:38.689Z"
   },
   {
    "duration": 22,
    "start_time": "2022-11-07T10:22:19.588Z"
   },
   {
    "duration": 1504,
    "start_time": "2022-11-07T10:28:11.826Z"
   },
   {
    "duration": 123,
    "start_time": "2022-11-07T10:28:13.332Z"
   },
   {
    "duration": 0,
    "start_time": "2022-11-07T10:28:13.459Z"
   },
   {
    "duration": 0,
    "start_time": "2022-11-07T10:28:13.460Z"
   },
   {
    "duration": 0,
    "start_time": "2022-11-07T10:28:13.461Z"
   },
   {
    "duration": 0,
    "start_time": "2022-11-07T10:28:13.462Z"
   },
   {
    "duration": 1,
    "start_time": "2022-11-07T10:28:13.462Z"
   },
   {
    "duration": 0,
    "start_time": "2022-11-07T10:28:13.464Z"
   },
   {
    "duration": 0,
    "start_time": "2022-11-07T10:28:13.465Z"
   },
   {
    "duration": 0,
    "start_time": "2022-11-07T10:28:13.466Z"
   },
   {
    "duration": 0,
    "start_time": "2022-11-07T10:28:13.467Z"
   },
   {
    "duration": 0,
    "start_time": "2022-11-07T10:28:13.468Z"
   },
   {
    "duration": 0,
    "start_time": "2022-11-07T10:28:13.469Z"
   },
   {
    "duration": 0,
    "start_time": "2022-11-07T10:28:13.470Z"
   },
   {
    "duration": 0,
    "start_time": "2022-11-07T10:28:13.471Z"
   },
   {
    "duration": 0,
    "start_time": "2022-11-07T10:28:13.472Z"
   },
   {
    "duration": 0,
    "start_time": "2022-11-07T10:28:13.473Z"
   },
   {
    "duration": 0,
    "start_time": "2022-11-07T10:28:13.474Z"
   },
   {
    "duration": 0,
    "start_time": "2022-11-07T10:28:13.475Z"
   },
   {
    "duration": 0,
    "start_time": "2022-11-07T10:28:13.476Z"
   },
   {
    "duration": 0,
    "start_time": "2022-11-07T10:28:13.477Z"
   },
   {
    "duration": 0,
    "start_time": "2022-11-07T10:28:13.478Z"
   },
   {
    "duration": 0,
    "start_time": "2022-11-07T10:28:13.479Z"
   },
   {
    "duration": 0,
    "start_time": "2022-11-07T10:28:13.480Z"
   },
   {
    "duration": 0,
    "start_time": "2022-11-07T10:28:13.481Z"
   },
   {
    "duration": 0,
    "start_time": "2022-11-07T10:28:13.482Z"
   },
   {
    "duration": 0,
    "start_time": "2022-11-07T10:28:13.520Z"
   },
   {
    "duration": 0,
    "start_time": "2022-11-07T10:28:13.521Z"
   },
   {
    "duration": 0,
    "start_time": "2022-11-07T10:28:13.522Z"
   },
   {
    "duration": 0,
    "start_time": "2022-11-07T10:28:13.523Z"
   },
   {
    "duration": 0,
    "start_time": "2022-11-07T10:28:13.526Z"
   },
   {
    "duration": 0,
    "start_time": "2022-11-07T10:28:13.527Z"
   },
   {
    "duration": 0,
    "start_time": "2022-11-07T10:28:13.528Z"
   },
   {
    "duration": 0,
    "start_time": "2022-11-07T10:28:13.529Z"
   },
   {
    "duration": 0,
    "start_time": "2022-11-07T10:28:13.530Z"
   },
   {
    "duration": 0,
    "start_time": "2022-11-07T10:28:13.532Z"
   },
   {
    "duration": 0,
    "start_time": "2022-11-07T10:28:13.532Z"
   },
   {
    "duration": 0,
    "start_time": "2022-11-07T10:28:13.533Z"
   },
   {
    "duration": 0,
    "start_time": "2022-11-07T10:28:13.534Z"
   },
   {
    "duration": 0,
    "start_time": "2022-11-07T10:28:13.535Z"
   },
   {
    "duration": 0,
    "start_time": "2022-11-07T10:28:13.536Z"
   },
   {
    "duration": 0,
    "start_time": "2022-11-07T10:28:13.537Z"
   },
   {
    "duration": 0,
    "start_time": "2022-11-07T10:28:13.538Z"
   },
   {
    "duration": 0,
    "start_time": "2022-11-07T10:28:13.539Z"
   },
   {
    "duration": 0,
    "start_time": "2022-11-07T10:28:13.540Z"
   },
   {
    "duration": 0,
    "start_time": "2022-11-07T10:28:13.541Z"
   },
   {
    "duration": 0,
    "start_time": "2022-11-07T10:28:13.542Z"
   },
   {
    "duration": 0,
    "start_time": "2022-11-07T10:28:13.543Z"
   },
   {
    "duration": 0,
    "start_time": "2022-11-07T10:28:13.543Z"
   },
   {
    "duration": 0,
    "start_time": "2022-11-07T10:28:13.544Z"
   },
   {
    "duration": 0,
    "start_time": "2022-11-07T10:28:13.545Z"
   },
   {
    "duration": 0,
    "start_time": "2022-11-07T10:28:13.546Z"
   },
   {
    "duration": 0,
    "start_time": "2022-11-07T10:28:13.547Z"
   },
   {
    "duration": 0,
    "start_time": "2022-11-07T10:28:13.548Z"
   },
   {
    "duration": 0,
    "start_time": "2022-11-07T10:28:13.549Z"
   },
   {
    "duration": 0,
    "start_time": "2022-11-07T10:28:13.550Z"
   },
   {
    "duration": 0,
    "start_time": "2022-11-07T10:28:13.551Z"
   },
   {
    "duration": 0,
    "start_time": "2022-11-07T10:28:13.552Z"
   },
   {
    "duration": 0,
    "start_time": "2022-11-07T10:28:13.553Z"
   },
   {
    "duration": 0,
    "start_time": "2022-11-07T10:28:13.554Z"
   },
   {
    "duration": 0,
    "start_time": "2022-11-07T10:28:13.555Z"
   },
   {
    "duration": 0,
    "start_time": "2022-11-07T10:28:13.556Z"
   },
   {
    "duration": 0,
    "start_time": "2022-11-07T10:28:13.557Z"
   },
   {
    "duration": 0,
    "start_time": "2022-11-07T10:28:13.558Z"
   },
   {
    "duration": 0,
    "start_time": "2022-11-07T10:28:13.559Z"
   },
   {
    "duration": 0,
    "start_time": "2022-11-07T10:28:13.560Z"
   },
   {
    "duration": 0,
    "start_time": "2022-11-07T10:28:13.561Z"
   },
   {
    "duration": 0,
    "start_time": "2022-11-07T10:28:13.562Z"
   },
   {
    "duration": 0,
    "start_time": "2022-11-07T10:28:13.563Z"
   },
   {
    "duration": 0,
    "start_time": "2022-11-07T10:28:13.564Z"
   },
   {
    "duration": 1585,
    "start_time": "2022-11-07T10:28:39.761Z"
   },
   {
    "duration": 133,
    "start_time": "2022-11-07T10:28:41.348Z"
   },
   {
    "duration": 0,
    "start_time": "2022-11-07T10:28:41.484Z"
   },
   {
    "duration": 0,
    "start_time": "2022-11-07T10:28:41.485Z"
   },
   {
    "duration": 0,
    "start_time": "2022-11-07T10:28:41.486Z"
   },
   {
    "duration": 0,
    "start_time": "2022-11-07T10:28:41.488Z"
   },
   {
    "duration": 0,
    "start_time": "2022-11-07T10:28:41.488Z"
   },
   {
    "duration": 0,
    "start_time": "2022-11-07T10:28:41.490Z"
   },
   {
    "duration": 0,
    "start_time": "2022-11-07T10:28:41.491Z"
   },
   {
    "duration": 0,
    "start_time": "2022-11-07T10:28:41.492Z"
   },
   {
    "duration": 0,
    "start_time": "2022-11-07T10:28:41.494Z"
   },
   {
    "duration": 0,
    "start_time": "2022-11-07T10:28:41.495Z"
   },
   {
    "duration": 0,
    "start_time": "2022-11-07T10:28:41.496Z"
   },
   {
    "duration": 0,
    "start_time": "2022-11-07T10:28:41.497Z"
   },
   {
    "duration": 0,
    "start_time": "2022-11-07T10:28:41.521Z"
   },
   {
    "duration": 0,
    "start_time": "2022-11-07T10:28:41.523Z"
   },
   {
    "duration": 0,
    "start_time": "2022-11-07T10:28:41.524Z"
   },
   {
    "duration": 0,
    "start_time": "2022-11-07T10:28:41.525Z"
   },
   {
    "duration": 0,
    "start_time": "2022-11-07T10:28:41.526Z"
   },
   {
    "duration": 0,
    "start_time": "2022-11-07T10:28:41.527Z"
   },
   {
    "duration": 0,
    "start_time": "2022-11-07T10:28:41.529Z"
   },
   {
    "duration": 0,
    "start_time": "2022-11-07T10:28:41.530Z"
   },
   {
    "duration": 0,
    "start_time": "2022-11-07T10:28:41.531Z"
   },
   {
    "duration": 0,
    "start_time": "2022-11-07T10:28:41.532Z"
   },
   {
    "duration": 0,
    "start_time": "2022-11-07T10:28:41.533Z"
   },
   {
    "duration": 0,
    "start_time": "2022-11-07T10:28:41.534Z"
   },
   {
    "duration": 0,
    "start_time": "2022-11-07T10:28:41.536Z"
   },
   {
    "duration": 0,
    "start_time": "2022-11-07T10:28:41.537Z"
   },
   {
    "duration": 0,
    "start_time": "2022-11-07T10:28:41.538Z"
   },
   {
    "duration": 0,
    "start_time": "2022-11-07T10:28:41.539Z"
   },
   {
    "duration": 0,
    "start_time": "2022-11-07T10:28:41.540Z"
   },
   {
    "duration": 0,
    "start_time": "2022-11-07T10:28:41.541Z"
   },
   {
    "duration": 0,
    "start_time": "2022-11-07T10:28:41.544Z"
   },
   {
    "duration": 0,
    "start_time": "2022-11-07T10:28:41.545Z"
   },
   {
    "duration": 0,
    "start_time": "2022-11-07T10:28:41.547Z"
   },
   {
    "duration": 0,
    "start_time": "2022-11-07T10:28:41.548Z"
   },
   {
    "duration": 0,
    "start_time": "2022-11-07T10:28:41.549Z"
   },
   {
    "duration": 0,
    "start_time": "2022-11-07T10:28:41.551Z"
   },
   {
    "duration": 0,
    "start_time": "2022-11-07T10:28:41.552Z"
   },
   {
    "duration": 0,
    "start_time": "2022-11-07T10:28:41.553Z"
   },
   {
    "duration": 0,
    "start_time": "2022-11-07T10:28:41.554Z"
   },
   {
    "duration": 0,
    "start_time": "2022-11-07T10:28:41.556Z"
   },
   {
    "duration": 0,
    "start_time": "2022-11-07T10:28:41.557Z"
   },
   {
    "duration": 0,
    "start_time": "2022-11-07T10:28:41.559Z"
   },
   {
    "duration": 0,
    "start_time": "2022-11-07T10:28:41.560Z"
   },
   {
    "duration": 0,
    "start_time": "2022-11-07T10:28:41.561Z"
   },
   {
    "duration": 0,
    "start_time": "2022-11-07T10:28:41.621Z"
   },
   {
    "duration": 0,
    "start_time": "2022-11-07T10:28:41.623Z"
   },
   {
    "duration": 0,
    "start_time": "2022-11-07T10:28:41.624Z"
   },
   {
    "duration": 0,
    "start_time": "2022-11-07T10:28:41.625Z"
   },
   {
    "duration": 0,
    "start_time": "2022-11-07T10:28:41.626Z"
   },
   {
    "duration": 0,
    "start_time": "2022-11-07T10:28:41.628Z"
   },
   {
    "duration": 0,
    "start_time": "2022-11-07T10:28:41.630Z"
   },
   {
    "duration": 0,
    "start_time": "2022-11-07T10:28:41.631Z"
   },
   {
    "duration": 0,
    "start_time": "2022-11-07T10:28:41.632Z"
   },
   {
    "duration": 0,
    "start_time": "2022-11-07T10:28:41.633Z"
   },
   {
    "duration": 0,
    "start_time": "2022-11-07T10:28:41.634Z"
   },
   {
    "duration": 0,
    "start_time": "2022-11-07T10:28:41.635Z"
   },
   {
    "duration": 0,
    "start_time": "2022-11-07T10:28:41.636Z"
   },
   {
    "duration": 0,
    "start_time": "2022-11-07T10:28:41.637Z"
   },
   {
    "duration": 0,
    "start_time": "2022-11-07T10:28:41.639Z"
   },
   {
    "duration": 0,
    "start_time": "2022-11-07T10:28:41.640Z"
   },
   {
    "duration": 0,
    "start_time": "2022-11-07T10:28:41.641Z"
   },
   {
    "duration": 0,
    "start_time": "2022-11-07T10:28:41.643Z"
   },
   {
    "duration": 0,
    "start_time": "2022-11-07T10:28:41.644Z"
   },
   {
    "duration": 0,
    "start_time": "2022-11-07T10:28:41.645Z"
   },
   {
    "duration": 0,
    "start_time": "2022-11-07T10:28:41.646Z"
   },
   {
    "duration": 0,
    "start_time": "2022-11-07T10:28:41.647Z"
   },
   {
    "duration": 0,
    "start_time": "2022-11-07T10:28:41.649Z"
   },
   {
    "duration": 0,
    "start_time": "2022-11-07T10:28:41.650Z"
   },
   {
    "duration": 1432,
    "start_time": "2022-11-08T10:53:38.270Z"
   },
   {
    "duration": 77,
    "start_time": "2022-11-08T10:53:39.704Z"
   },
   {
    "duration": 11,
    "start_time": "2022-11-08T10:53:39.782Z"
   },
   {
    "duration": 12,
    "start_time": "2022-11-08T10:53:39.794Z"
   },
   {
    "duration": 15,
    "start_time": "2022-11-08T10:53:39.808Z"
   },
   {
    "duration": 14,
    "start_time": "2022-11-08T10:53:39.825Z"
   },
   {
    "duration": 117,
    "start_time": "2022-11-08T10:53:39.841Z"
   },
   {
    "duration": 121,
    "start_time": "2022-11-08T10:53:39.959Z"
   },
   {
    "duration": 5,
    "start_time": "2022-11-08T10:53:40.081Z"
   },
   {
    "duration": 5,
    "start_time": "2022-11-08T10:53:40.088Z"
   },
   {
    "duration": 6,
    "start_time": "2022-11-08T10:53:40.095Z"
   },
   {
    "duration": 5,
    "start_time": "2022-11-08T10:53:40.102Z"
   },
   {
    "duration": 13,
    "start_time": "2022-11-08T10:53:40.108Z"
   },
   {
    "duration": 3,
    "start_time": "2022-11-08T10:53:40.122Z"
   },
   {
    "duration": 42,
    "start_time": "2022-11-08T10:53:40.126Z"
   },
   {
    "duration": 5,
    "start_time": "2022-11-08T10:53:40.170Z"
   },
   {
    "duration": 13,
    "start_time": "2022-11-08T10:53:40.176Z"
   },
   {
    "duration": 9,
    "start_time": "2022-11-08T10:53:40.190Z"
   },
   {
    "duration": 7,
    "start_time": "2022-11-08T10:53:40.200Z"
   },
   {
    "duration": 6,
    "start_time": "2022-11-08T10:53:40.209Z"
   },
   {
    "duration": 6,
    "start_time": "2022-11-08T10:53:40.216Z"
   },
   {
    "duration": 9,
    "start_time": "2022-11-08T10:53:40.223Z"
   },
   {
    "duration": 7,
    "start_time": "2022-11-08T10:53:40.233Z"
   },
   {
    "duration": 3,
    "start_time": "2022-11-08T10:53:40.255Z"
   },
   {
    "duration": 6,
    "start_time": "2022-11-08T10:53:40.260Z"
   },
   {
    "duration": 4,
    "start_time": "2022-11-08T10:53:40.267Z"
   },
   {
    "duration": 29,
    "start_time": "2022-11-08T10:53:40.273Z"
   },
   {
    "duration": 11,
    "start_time": "2022-11-08T10:53:40.305Z"
   },
   {
    "duration": 18,
    "start_time": "2022-11-08T10:53:40.317Z"
   },
   {
    "duration": 23,
    "start_time": "2022-11-08T10:53:40.336Z"
   },
   {
    "duration": 32,
    "start_time": "2022-11-08T10:53:40.360Z"
   },
   {
    "duration": 7,
    "start_time": "2022-11-08T10:53:40.394Z"
   },
   {
    "duration": 154,
    "start_time": "2022-11-08T10:53:40.402Z"
   },
   {
    "duration": 3,
    "start_time": "2022-11-08T10:53:40.557Z"
   },
   {
    "duration": 15,
    "start_time": "2022-11-08T10:53:40.561Z"
   },
   {
    "duration": 19,
    "start_time": "2022-11-08T10:53:40.577Z"
   },
   {
    "duration": 3,
    "start_time": "2022-11-08T10:53:40.597Z"
   },
   {
    "duration": 14,
    "start_time": "2022-11-08T10:53:40.601Z"
   },
   {
    "duration": 108,
    "start_time": "2022-11-08T10:53:40.616Z"
   },
   {
    "duration": 34,
    "start_time": "2022-11-08T10:53:40.725Z"
   },
   {
    "duration": 3,
    "start_time": "2022-11-08T10:53:40.761Z"
   },
   {
    "duration": 16,
    "start_time": "2022-11-08T10:53:40.765Z"
   },
   {
    "duration": 6,
    "start_time": "2022-11-08T10:53:40.782Z"
   },
   {
    "duration": 5,
    "start_time": "2022-11-08T10:53:40.789Z"
   },
   {
    "duration": 4,
    "start_time": "2022-11-08T10:53:40.796Z"
   },
   {
    "duration": 5,
    "start_time": "2022-11-08T10:53:40.802Z"
   },
   {
    "duration": 58,
    "start_time": "2022-11-08T10:53:40.809Z"
   },
   {
    "duration": 186,
    "start_time": "2022-11-08T10:53:40.869Z"
   },
   {
    "duration": 9,
    "start_time": "2022-11-08T10:53:41.057Z"
   },
   {
    "duration": 95,
    "start_time": "2022-11-08T10:53:41.069Z"
   },
   {
    "duration": 15,
    "start_time": "2022-11-08T10:53:41.166Z"
   },
   {
    "duration": 6,
    "start_time": "2022-11-08T10:53:41.183Z"
   },
   {
    "duration": 23,
    "start_time": "2022-11-08T10:53:41.191Z"
   },
   {
    "duration": 49,
    "start_time": "2022-11-08T10:53:41.215Z"
   },
   {
    "duration": 8,
    "start_time": "2022-11-08T10:53:41.355Z"
   },
   {
    "duration": 191,
    "start_time": "2022-11-08T10:53:41.365Z"
   },
   {
    "duration": 5,
    "start_time": "2022-11-08T10:53:41.557Z"
   },
   {
    "duration": 113,
    "start_time": "2022-11-08T10:53:41.564Z"
   },
   {
    "duration": 1088,
    "start_time": "2022-11-08T10:53:41.679Z"
   },
   {
    "duration": 226,
    "start_time": "2022-11-08T10:53:42.863Z"
   },
   {
    "duration": 8,
    "start_time": "2022-11-08T10:53:43.091Z"
   },
   {
    "duration": 335,
    "start_time": "2022-11-08T10:53:43.101Z"
   },
   {
    "duration": 4,
    "start_time": "2022-11-08T10:53:43.437Z"
   },
   {
    "duration": 126,
    "start_time": "2022-11-08T10:53:43.443Z"
   },
   {
    "duration": 40,
    "start_time": "2022-11-08T10:53:43.571Z"
   },
   {
    "duration": 16,
    "start_time": "2022-11-08T10:53:43.612Z"
   },
   {
    "duration": 6379,
    "start_time": "2022-11-08T10:53:43.629Z"
   },
   {
    "duration": 17832,
    "start_time": "2022-11-08T10:53:50.010Z"
   },
   {
    "duration": 3,
    "start_time": "2022-11-08T10:54:07.844Z"
   },
   {
    "duration": 117,
    "start_time": "2022-11-08T10:54:07.855Z"
   },
   {
    "duration": 8,
    "start_time": "2022-11-08T11:00:29.534Z"
   },
   {
    "duration": 551,
    "start_time": "2022-11-08T11:01:32.362Z"
   },
   {
    "duration": 8,
    "start_time": "2022-11-08T11:06:52.258Z"
   },
   {
    "duration": 3,
    "start_time": "2022-11-08T11:07:31.563Z"
   },
   {
    "duration": 106,
    "start_time": "2022-11-08T11:07:32.753Z"
   },
   {
    "duration": 1274,
    "start_time": "2022-11-08T11:11:55.182Z"
   },
   {
    "duration": 42,
    "start_time": "2022-11-08T11:11:56.458Z"
   },
   {
    "duration": 11,
    "start_time": "2022-11-08T11:11:56.502Z"
   },
   {
    "duration": 13,
    "start_time": "2022-11-08T11:11:56.514Z"
   },
   {
    "duration": 7,
    "start_time": "2022-11-08T11:11:56.529Z"
   },
   {
    "duration": 16,
    "start_time": "2022-11-08T11:11:56.537Z"
   },
   {
    "duration": 133,
    "start_time": "2022-11-08T11:11:56.555Z"
   },
   {
    "duration": 126,
    "start_time": "2022-11-08T11:11:56.690Z"
   },
   {
    "duration": 4,
    "start_time": "2022-11-08T11:11:56.817Z"
   },
   {
    "duration": 5,
    "start_time": "2022-11-08T11:11:56.823Z"
   },
   {
    "duration": 9,
    "start_time": "2022-11-08T11:11:56.829Z"
   },
   {
    "duration": 20,
    "start_time": "2022-11-08T11:11:56.841Z"
   },
   {
    "duration": 15,
    "start_time": "2022-11-08T11:11:56.862Z"
   },
   {
    "duration": 10,
    "start_time": "2022-11-08T11:11:56.879Z"
   },
   {
    "duration": 20,
    "start_time": "2022-11-08T11:11:56.890Z"
   },
   {
    "duration": 11,
    "start_time": "2022-11-08T11:11:56.911Z"
   },
   {
    "duration": 6,
    "start_time": "2022-11-08T11:11:56.923Z"
   },
   {
    "duration": 7,
    "start_time": "2022-11-08T11:11:56.930Z"
   },
   {
    "duration": 8,
    "start_time": "2022-11-08T11:11:56.938Z"
   },
   {
    "duration": 9,
    "start_time": "2022-11-08T11:11:56.947Z"
   },
   {
    "duration": 23,
    "start_time": "2022-11-08T11:11:56.957Z"
   },
   {
    "duration": 5,
    "start_time": "2022-11-08T11:11:56.981Z"
   },
   {
    "duration": 7,
    "start_time": "2022-11-08T11:11:56.988Z"
   },
   {
    "duration": 5,
    "start_time": "2022-11-08T11:11:56.997Z"
   },
   {
    "duration": 10,
    "start_time": "2022-11-08T11:11:57.003Z"
   },
   {
    "duration": 16,
    "start_time": "2022-11-08T11:11:57.014Z"
   },
   {
    "duration": 18,
    "start_time": "2022-11-08T11:11:57.031Z"
   },
   {
    "duration": 9,
    "start_time": "2022-11-08T11:11:57.053Z"
   },
   {
    "duration": 14,
    "start_time": "2022-11-08T11:11:57.063Z"
   },
   {
    "duration": 17,
    "start_time": "2022-11-08T11:11:57.079Z"
   },
   {
    "duration": 46,
    "start_time": "2022-11-08T11:11:57.097Z"
   },
   {
    "duration": 14,
    "start_time": "2022-11-08T11:11:57.145Z"
   },
   {
    "duration": 104,
    "start_time": "2022-11-08T11:11:57.161Z"
   },
   {
    "duration": 95,
    "start_time": "2022-11-08T11:11:57.266Z"
   },
   {
    "duration": 18,
    "start_time": "2022-11-08T11:11:57.363Z"
   },
   {
    "duration": 27,
    "start_time": "2022-11-08T11:11:57.383Z"
   },
   {
    "duration": 2,
    "start_time": "2022-11-08T11:11:57.412Z"
   },
   {
    "duration": 13,
    "start_time": "2022-11-08T11:11:57.416Z"
   },
   {
    "duration": 95,
    "start_time": "2022-11-08T11:11:57.431Z"
   },
   {
    "duration": 35,
    "start_time": "2022-11-08T11:11:57.527Z"
   },
   {
    "duration": 4,
    "start_time": "2022-11-08T11:11:57.564Z"
   },
   {
    "duration": 14,
    "start_time": "2022-11-08T11:11:57.569Z"
   },
   {
    "duration": 16,
    "start_time": "2022-11-08T11:11:57.585Z"
   },
   {
    "duration": 14,
    "start_time": "2022-11-08T11:11:57.603Z"
   },
   {
    "duration": 25,
    "start_time": "2022-11-08T11:11:57.619Z"
   },
   {
    "duration": 12,
    "start_time": "2022-11-08T11:11:57.646Z"
   },
   {
    "duration": 40,
    "start_time": "2022-11-08T11:11:57.660Z"
   },
   {
    "duration": 157,
    "start_time": "2022-11-08T11:11:57.701Z"
   },
   {
    "duration": 97,
    "start_time": "2022-11-08T11:11:57.860Z"
   },
   {
    "duration": 11,
    "start_time": "2022-11-08T11:11:57.958Z"
   },
   {
    "duration": 25,
    "start_time": "2022-11-08T11:11:58.055Z"
   },
   {
    "duration": 13,
    "start_time": "2022-11-08T11:11:58.081Z"
   },
   {
    "duration": 24,
    "start_time": "2022-11-08T11:11:58.095Z"
   },
   {
    "duration": 35,
    "start_time": "2022-11-08T11:11:58.121Z"
   },
   {
    "duration": 5,
    "start_time": "2022-11-08T11:11:58.158Z"
   },
   {
    "duration": 292,
    "start_time": "2022-11-08T11:11:58.164Z"
   },
   {
    "duration": 101,
    "start_time": "2022-11-08T11:11:58.457Z"
   },
   {
    "duration": 36,
    "start_time": "2022-11-08T11:11:58.560Z"
   },
   {
    "duration": 966,
    "start_time": "2022-11-08T11:11:58.599Z"
   },
   {
    "duration": 311,
    "start_time": "2022-11-08T11:11:59.567Z"
   },
   {
    "duration": 13,
    "start_time": "2022-11-08T11:11:59.879Z"
   },
   {
    "duration": 322,
    "start_time": "2022-11-08T11:11:59.893Z"
   },
   {
    "duration": 47,
    "start_time": "2022-11-08T11:12:00.217Z"
   },
   {
    "duration": 16,
    "start_time": "2022-11-08T11:12:00.266Z"
   },
   {
    "duration": 5937,
    "start_time": "2022-11-08T11:12:00.284Z"
   },
   {
    "duration": 17647,
    "start_time": "2022-11-08T11:12:06.223Z"
   },
   {
    "duration": 4,
    "start_time": "2022-11-08T11:12:23.871Z"
   },
   {
    "duration": 488,
    "start_time": "2022-11-08T11:12:23.876Z"
   },
   {
    "duration": 3,
    "start_time": "2022-11-08T11:12:24.365Z"
   },
   {
    "duration": 114,
    "start_time": "2022-11-08T11:12:24.369Z"
   },
   {
    "duration": 1315,
    "start_time": "2022-11-08T11:42:26.250Z"
   },
   {
    "duration": 42,
    "start_time": "2022-11-08T11:42:27.567Z"
   },
   {
    "duration": 11,
    "start_time": "2022-11-08T11:42:27.610Z"
   },
   {
    "duration": 22,
    "start_time": "2022-11-08T11:42:27.622Z"
   },
   {
    "duration": 29,
    "start_time": "2022-11-08T11:42:27.646Z"
   },
   {
    "duration": 37,
    "start_time": "2022-11-08T11:42:27.676Z"
   },
   {
    "duration": 133,
    "start_time": "2022-11-08T11:42:27.714Z"
   },
   {
    "duration": 124,
    "start_time": "2022-11-08T11:42:27.848Z"
   },
   {
    "duration": 5,
    "start_time": "2022-11-08T11:42:27.974Z"
   },
   {
    "duration": 13,
    "start_time": "2022-11-08T11:42:27.982Z"
   },
   {
    "duration": 23,
    "start_time": "2022-11-08T11:42:27.996Z"
   },
   {
    "duration": 20,
    "start_time": "2022-11-08T11:42:28.020Z"
   },
   {
    "duration": 28,
    "start_time": "2022-11-08T11:42:28.041Z"
   },
   {
    "duration": 3,
    "start_time": "2022-11-08T11:42:28.070Z"
   },
   {
    "duration": 23,
    "start_time": "2022-11-08T11:42:28.074Z"
   },
   {
    "duration": 3,
    "start_time": "2022-11-08T11:42:28.098Z"
   },
   {
    "duration": 32,
    "start_time": "2022-11-08T11:42:28.102Z"
   },
   {
    "duration": 10,
    "start_time": "2022-11-08T11:42:28.135Z"
   },
   {
    "duration": 7,
    "start_time": "2022-11-08T11:42:28.146Z"
   },
   {
    "duration": 23,
    "start_time": "2022-11-08T11:42:28.154Z"
   },
   {
    "duration": 5,
    "start_time": "2022-11-08T11:42:28.178Z"
   },
   {
    "duration": 6,
    "start_time": "2022-11-08T11:42:28.184Z"
   },
   {
    "duration": 11,
    "start_time": "2022-11-08T11:42:28.191Z"
   },
   {
    "duration": 4,
    "start_time": "2022-11-08T11:42:28.203Z"
   },
   {
    "duration": 13,
    "start_time": "2022-11-08T11:42:28.208Z"
   },
   {
    "duration": 21,
    "start_time": "2022-11-08T11:42:28.223Z"
   },
   {
    "duration": 8,
    "start_time": "2022-11-08T11:42:28.245Z"
   },
   {
    "duration": 16,
    "start_time": "2022-11-08T11:42:28.256Z"
   },
   {
    "duration": 12,
    "start_time": "2022-11-08T11:42:28.273Z"
   },
   {
    "duration": 20,
    "start_time": "2022-11-08T11:42:28.287Z"
   },
   {
    "duration": 31,
    "start_time": "2022-11-08T11:42:28.308Z"
   },
   {
    "duration": 24,
    "start_time": "2022-11-08T11:42:28.340Z"
   },
   {
    "duration": 122,
    "start_time": "2022-11-08T11:42:28.365Z"
   },
   {
    "duration": 9,
    "start_time": "2022-11-08T11:42:28.489Z"
   },
   {
    "duration": 68,
    "start_time": "2022-11-08T11:42:28.499Z"
   },
   {
    "duration": 19,
    "start_time": "2022-11-08T11:42:28.569Z"
   },
   {
    "duration": 2,
    "start_time": "2022-11-08T11:42:28.589Z"
   },
   {
    "duration": 17,
    "start_time": "2022-11-08T11:42:28.593Z"
   },
   {
    "duration": 104,
    "start_time": "2022-11-08T11:42:28.612Z"
   },
   {
    "duration": 29,
    "start_time": "2022-11-08T11:42:28.717Z"
   },
   {
    "duration": 12,
    "start_time": "2022-11-08T11:42:28.747Z"
   },
   {
    "duration": 10,
    "start_time": "2022-11-08T11:42:28.761Z"
   },
   {
    "duration": 15,
    "start_time": "2022-11-08T11:42:28.772Z"
   },
   {
    "duration": 9,
    "start_time": "2022-11-08T11:42:28.789Z"
   },
   {
    "duration": 10,
    "start_time": "2022-11-08T11:42:28.799Z"
   },
   {
    "duration": 5,
    "start_time": "2022-11-08T11:42:28.810Z"
   },
   {
    "duration": 55,
    "start_time": "2022-11-08T11:42:28.817Z"
   },
   {
    "duration": 193,
    "start_time": "2022-11-08T11:42:28.873Z"
   },
   {
    "duration": 96,
    "start_time": "2022-11-08T11:42:29.068Z"
   },
   {
    "duration": 14,
    "start_time": "2022-11-08T11:42:29.166Z"
   },
   {
    "duration": 13,
    "start_time": "2022-11-08T11:42:29.181Z"
   },
   {
    "duration": 6,
    "start_time": "2022-11-08T11:42:29.195Z"
   },
   {
    "duration": 11,
    "start_time": "2022-11-08T11:42:29.202Z"
   },
   {
    "duration": 48,
    "start_time": "2022-11-08T11:42:29.214Z"
   },
   {
    "duration": 5,
    "start_time": "2022-11-08T11:42:29.263Z"
   },
   {
    "duration": 194,
    "start_time": "2022-11-08T11:42:29.270Z"
   },
   {
    "duration": 91,
    "start_time": "2022-11-08T11:42:29.468Z"
   },
   {
    "duration": 18,
    "start_time": "2022-11-08T11:42:29.560Z"
   },
   {
    "duration": 791,
    "start_time": "2022-11-08T11:42:29.581Z"
   },
   {
    "duration": 265,
    "start_time": "2022-11-08T11:42:30.377Z"
   },
   {
    "duration": 22,
    "start_time": "2022-11-08T11:42:30.643Z"
   },
   {
    "duration": 274,
    "start_time": "2022-11-08T11:42:30.758Z"
   },
   {
    "duration": 44,
    "start_time": "2022-11-08T11:42:31.034Z"
   },
   {
    "duration": 19,
    "start_time": "2022-11-08T11:42:31.080Z"
   },
   {
    "duration": 6277,
    "start_time": "2022-11-08T11:42:31.100Z"
   },
   {
    "duration": 18589,
    "start_time": "2022-11-08T11:42:37.379Z"
   },
   {
    "duration": 4,
    "start_time": "2022-11-08T11:42:55.969Z"
   },
   {
    "duration": 439,
    "start_time": "2022-11-08T11:42:55.974Z"
   },
   {
    "duration": 3,
    "start_time": "2022-11-08T11:42:56.415Z"
   },
   {
    "duration": 108,
    "start_time": "2022-11-08T11:42:56.419Z"
   },
   {
    "duration": 1332,
    "start_time": "2022-11-08T12:03:58.677Z"
   },
   {
    "duration": 42,
    "start_time": "2022-11-08T12:04:00.011Z"
   },
   {
    "duration": 18,
    "start_time": "2022-11-08T12:04:00.054Z"
   },
   {
    "duration": 14,
    "start_time": "2022-11-08T12:04:00.078Z"
   },
   {
    "duration": 11,
    "start_time": "2022-11-08T12:04:00.095Z"
   },
   {
    "duration": 14,
    "start_time": "2022-11-08T12:04:00.107Z"
   },
   {
    "duration": 131,
    "start_time": "2022-11-08T12:04:00.122Z"
   },
   {
    "duration": 137,
    "start_time": "2022-11-08T12:04:00.255Z"
   },
   {
    "duration": 4,
    "start_time": "2022-11-08T12:04:00.394Z"
   },
   {
    "duration": 24,
    "start_time": "2022-11-08T12:04:00.399Z"
   },
   {
    "duration": 26,
    "start_time": "2022-11-08T12:04:00.424Z"
   },
   {
    "duration": 46,
    "start_time": "2022-11-08T12:04:00.452Z"
   },
   {
    "duration": 35,
    "start_time": "2022-11-08T12:04:00.500Z"
   },
   {
    "duration": 5,
    "start_time": "2022-11-08T12:04:00.538Z"
   },
   {
    "duration": 56,
    "start_time": "2022-11-08T12:04:00.544Z"
   },
   {
    "duration": 21,
    "start_time": "2022-11-08T12:04:00.601Z"
   },
   {
    "duration": 35,
    "start_time": "2022-11-08T12:04:00.623Z"
   },
   {
    "duration": 48,
    "start_time": "2022-11-08T12:04:00.659Z"
   },
   {
    "duration": 17,
    "start_time": "2022-11-08T12:04:00.708Z"
   },
   {
    "duration": 15,
    "start_time": "2022-11-08T12:04:00.726Z"
   },
   {
    "duration": 32,
    "start_time": "2022-11-08T12:04:00.743Z"
   },
   {
    "duration": 21,
    "start_time": "2022-11-08T12:04:00.777Z"
   },
   {
    "duration": 19,
    "start_time": "2022-11-08T12:04:00.800Z"
   },
   {
    "duration": 13,
    "start_time": "2022-11-08T12:04:00.820Z"
   },
   {
    "duration": 25,
    "start_time": "2022-11-08T12:04:00.834Z"
   },
   {
    "duration": 34,
    "start_time": "2022-11-08T12:04:00.868Z"
   },
   {
    "duration": 15,
    "start_time": "2022-11-08T12:04:00.903Z"
   },
   {
    "duration": 45495,
    "start_time": "2022-11-08T12:04:00.919Z"
   },
   {
    "duration": 11,
    "start_time": "2022-11-08T12:04:46.415Z"
   },
   {
    "duration": 38,
    "start_time": "2022-11-08T12:04:46.427Z"
   },
   {
    "duration": 38,
    "start_time": "2022-11-08T12:04:46.466Z"
   },
   {
    "duration": 7,
    "start_time": "2022-11-08T12:04:46.505Z"
   },
   {
    "duration": 175,
    "start_time": "2022-11-08T12:04:46.514Z"
   },
   {
    "duration": 22,
    "start_time": "2022-11-08T12:04:46.690Z"
   },
   {
    "duration": 16,
    "start_time": "2022-11-08T12:04:46.713Z"
   },
   {
    "duration": 22,
    "start_time": "2022-11-08T12:04:46.730Z"
   },
   {
    "duration": 18,
    "start_time": "2022-11-08T12:04:46.753Z"
   },
   {
    "duration": 16,
    "start_time": "2022-11-08T12:04:46.781Z"
   },
   {
    "duration": 113,
    "start_time": "2022-11-08T12:04:46.799Z"
   },
   {
    "duration": 29,
    "start_time": "2022-11-08T12:04:46.913Z"
   },
   {
    "duration": 3,
    "start_time": "2022-11-08T12:04:46.945Z"
   },
   {
    "duration": 14,
    "start_time": "2022-11-08T12:04:46.949Z"
   },
   {
    "duration": 25,
    "start_time": "2022-11-08T12:04:46.966Z"
   },
   {
    "duration": 5,
    "start_time": "2022-11-08T12:04:46.993Z"
   },
   {
    "duration": 7,
    "start_time": "2022-11-08T12:04:46.999Z"
   },
   {
    "duration": 5,
    "start_time": "2022-11-08T12:04:47.007Z"
   },
   {
    "duration": 41,
    "start_time": "2022-11-08T12:04:47.014Z"
   },
   {
    "duration": 112,
    "start_time": "2022-11-08T12:04:47.056Z"
   },
   {
    "duration": 95,
    "start_time": "2022-11-08T12:04:47.170Z"
   },
   {
    "duration": 32,
    "start_time": "2022-11-08T12:04:47.266Z"
   },
   {
    "duration": 59,
    "start_time": "2022-11-08T12:04:47.300Z"
   },
   {
    "duration": 11,
    "start_time": "2022-11-08T12:04:47.361Z"
   },
   {
    "duration": 29,
    "start_time": "2022-11-08T12:04:47.373Z"
   },
   {
    "duration": 26,
    "start_time": "2022-11-08T12:04:47.403Z"
   },
   {
    "duration": 9,
    "start_time": "2022-11-08T12:04:47.457Z"
   },
   {
    "duration": 127,
    "start_time": "2022-11-08T12:04:47.467Z"
   },
   {
    "duration": 4,
    "start_time": "2022-11-08T12:04:47.597Z"
   },
   {
    "duration": 136,
    "start_time": "2022-11-08T12:04:47.660Z"
   },
   {
    "duration": 758,
    "start_time": "2022-11-08T12:04:47.799Z"
   },
   {
    "duration": 195,
    "start_time": "2022-11-08T12:04:48.570Z"
   },
   {
    "duration": 15,
    "start_time": "2022-11-08T12:04:48.767Z"
   },
   {
    "duration": 270,
    "start_time": "2022-11-08T12:04:48.784Z"
   },
   {
    "duration": 44,
    "start_time": "2022-11-08T12:04:49.061Z"
   },
   {
    "duration": 16,
    "start_time": "2022-11-08T12:04:49.107Z"
   },
   {
    "duration": 6384,
    "start_time": "2022-11-08T12:04:49.124Z"
   },
   {
    "duration": 18943,
    "start_time": "2022-11-08T12:04:55.510Z"
   },
   {
    "duration": 446,
    "start_time": "2022-11-08T12:05:14.456Z"
   },
   {
    "duration": 4,
    "start_time": "2022-11-08T12:05:14.903Z"
   },
   {
    "duration": 116,
    "start_time": "2022-11-08T12:05:14.908Z"
   },
   {
    "duration": 95,
    "start_time": "2022-11-08T12:05:15.026Z"
   },
   {
    "duration": 1326,
    "start_time": "2022-11-08T12:11:51.358Z"
   },
   {
    "duration": 48,
    "start_time": "2022-11-08T12:11:52.685Z"
   },
   {
    "duration": 10,
    "start_time": "2022-11-08T12:11:52.735Z"
   },
   {
    "duration": 4,
    "start_time": "2022-11-08T12:11:52.747Z"
   },
   {
    "duration": 5,
    "start_time": "2022-11-08T12:11:52.752Z"
   },
   {
    "duration": 14,
    "start_time": "2022-11-08T12:11:52.758Z"
   },
   {
    "duration": 130,
    "start_time": "2022-11-08T12:11:52.774Z"
   },
   {
    "duration": 130,
    "start_time": "2022-11-08T12:11:52.905Z"
   },
   {
    "duration": 18,
    "start_time": "2022-11-08T12:11:53.037Z"
   },
   {
    "duration": 3,
    "start_time": "2022-11-08T12:11:53.057Z"
   },
   {
    "duration": 9,
    "start_time": "2022-11-08T12:11:53.061Z"
   },
   {
    "duration": 6,
    "start_time": "2022-11-08T12:11:53.071Z"
   },
   {
    "duration": 15,
    "start_time": "2022-11-08T12:11:53.079Z"
   },
   {
    "duration": 3,
    "start_time": "2022-11-08T12:11:53.096Z"
   },
   {
    "duration": 13,
    "start_time": "2022-11-08T12:11:53.101Z"
   },
   {
    "duration": 4,
    "start_time": "2022-11-08T12:11:53.115Z"
   },
   {
    "duration": 14,
    "start_time": "2022-11-08T12:11:53.120Z"
   },
   {
    "duration": 6,
    "start_time": "2022-11-08T12:11:53.135Z"
   },
   {
    "duration": 4,
    "start_time": "2022-11-08T12:11:53.155Z"
   },
   {
    "duration": 7,
    "start_time": "2022-11-08T12:11:53.160Z"
   },
   {
    "duration": 6,
    "start_time": "2022-11-08T12:11:53.169Z"
   },
   {
    "duration": 4,
    "start_time": "2022-11-08T12:11:53.177Z"
   },
   {
    "duration": 6,
    "start_time": "2022-11-08T12:11:53.182Z"
   },
   {
    "duration": 5,
    "start_time": "2022-11-08T12:11:53.189Z"
   },
   {
    "duration": 12,
    "start_time": "2022-11-08T12:11:53.195Z"
   },
   {
    "duration": 7,
    "start_time": "2022-11-08T12:11:53.208Z"
   },
   {
    "duration": 12,
    "start_time": "2022-11-08T12:11:53.216Z"
   },
   {
    "duration": 41655,
    "start_time": "2022-11-08T12:11:53.231Z"
   },
   {
    "duration": 11,
    "start_time": "2022-11-08T12:12:34.888Z"
   },
   {
    "duration": 21,
    "start_time": "2022-11-08T12:12:34.901Z"
   },
   {
    "duration": 40,
    "start_time": "2022-11-08T12:12:34.924Z"
   },
   {
    "duration": 15,
    "start_time": "2022-11-08T12:12:34.966Z"
   },
   {
    "duration": 22,
    "start_time": "2022-11-08T12:12:35.055Z"
   },
   {
    "duration": 76,
    "start_time": "2022-11-08T12:12:35.079Z"
   },
   {
    "duration": 10,
    "start_time": "2022-11-08T12:12:35.157Z"
   },
   {
    "duration": 38,
    "start_time": "2022-11-08T12:12:35.168Z"
   },
   {
    "duration": 3,
    "start_time": "2022-11-08T12:12:35.207Z"
   },
   {
    "duration": 16,
    "start_time": "2022-11-08T12:12:35.212Z"
   },
   {
    "duration": 106,
    "start_time": "2022-11-08T12:12:35.230Z"
   },
   {
    "duration": 41,
    "start_time": "2022-11-08T12:12:35.337Z"
   },
   {
    "duration": 4,
    "start_time": "2022-11-08T12:12:35.380Z"
   },
   {
    "duration": 9,
    "start_time": "2022-11-08T12:12:35.385Z"
   },
   {
    "duration": 8,
    "start_time": "2022-11-08T12:12:35.396Z"
   },
   {
    "duration": 6,
    "start_time": "2022-11-08T12:12:35.405Z"
   },
   {
    "duration": 11,
    "start_time": "2022-11-08T12:12:35.413Z"
   },
   {
    "duration": 5,
    "start_time": "2022-11-08T12:12:35.425Z"
   },
   {
    "duration": 129,
    "start_time": "2022-11-08T12:12:35.431Z"
   },
   {
    "duration": 112,
    "start_time": "2022-11-08T12:12:35.563Z"
   },
   {
    "duration": 9,
    "start_time": "2022-11-08T12:12:35.678Z"
   },
   {
    "duration": 12,
    "start_time": "2022-11-08T12:12:35.756Z"
   },
   {
    "duration": 119,
    "start_time": "2022-11-08T12:12:35.770Z"
   },
   {
    "duration": 6,
    "start_time": "2022-11-08T12:12:35.891Z"
   },
   {
    "duration": 17,
    "start_time": "2022-11-08T12:12:35.899Z"
   },
   {
    "duration": 50,
    "start_time": "2022-11-08T12:12:35.918Z"
   },
   {
    "duration": 91,
    "start_time": "2022-11-08T12:12:35.970Z"
   },
   {
    "duration": 96,
    "start_time": "2022-11-08T12:12:36.063Z"
   },
   {
    "duration": 10,
    "start_time": "2022-11-08T12:12:36.161Z"
   },
   {
    "duration": 128,
    "start_time": "2022-11-08T12:12:36.172Z"
   },
   {
    "duration": 759,
    "start_time": "2022-11-08T12:12:36.302Z"
   },
   {
    "duration": 238,
    "start_time": "2022-11-08T12:12:37.066Z"
   },
   {
    "duration": 6,
    "start_time": "2022-11-08T12:12:37.305Z"
   },
   {
    "duration": 268,
    "start_time": "2022-11-08T12:12:37.312Z"
   },
   {
    "duration": 41,
    "start_time": "2022-11-08T12:12:37.581Z"
   },
   {
    "duration": 18,
    "start_time": "2022-11-08T12:12:37.623Z"
   },
   {
    "duration": 6548,
    "start_time": "2022-11-08T12:12:37.643Z"
   },
   {
    "duration": 19548,
    "start_time": "2022-11-08T12:12:44.193Z"
   },
   {
    "duration": 464,
    "start_time": "2022-11-08T12:13:03.743Z"
   },
   {
    "duration": 4,
    "start_time": "2022-11-08T12:13:04.208Z"
   },
   {
    "duration": 117,
    "start_time": "2022-11-08T12:13:04.213Z"
   },
   {
    "duration": 80,
    "start_time": "2022-11-08T12:13:04.331Z"
   },
   {
    "duration": 1621,
    "start_time": "2022-11-08T15:17:01.991Z"
   },
   {
    "duration": 87,
    "start_time": "2022-11-08T15:17:03.614Z"
   },
   {
    "duration": 14,
    "start_time": "2022-11-08T15:17:03.702Z"
   },
   {
    "duration": 5,
    "start_time": "2022-11-08T15:17:03.718Z"
   },
   {
    "duration": 8,
    "start_time": "2022-11-08T15:17:03.725Z"
   },
   {
    "duration": 23,
    "start_time": "2022-11-08T15:17:03.734Z"
   },
   {
    "duration": 148,
    "start_time": "2022-11-08T15:17:03.759Z"
   },
   {
    "duration": 173,
    "start_time": "2022-11-08T15:17:03.908Z"
   },
   {
    "duration": 5,
    "start_time": "2022-11-08T15:17:04.083Z"
   },
   {
    "duration": 14,
    "start_time": "2022-11-08T15:17:04.090Z"
   },
   {
    "duration": 13,
    "start_time": "2022-11-08T15:17:04.106Z"
   },
   {
    "duration": 13,
    "start_time": "2022-11-08T15:17:04.121Z"
   },
   {
    "duration": 23,
    "start_time": "2022-11-08T15:17:04.136Z"
   },
   {
    "duration": 10,
    "start_time": "2022-11-08T15:17:04.161Z"
   },
   {
    "duration": 20,
    "start_time": "2022-11-08T15:17:04.173Z"
   },
   {
    "duration": 15,
    "start_time": "2022-11-08T15:17:04.195Z"
   },
   {
    "duration": 26,
    "start_time": "2022-11-08T15:17:04.211Z"
   },
   {
    "duration": 11,
    "start_time": "2022-11-08T15:17:04.239Z"
   },
   {
    "duration": 7,
    "start_time": "2022-11-08T15:17:04.252Z"
   },
   {
    "duration": 7,
    "start_time": "2022-11-08T15:17:04.261Z"
   },
   {
    "duration": 8,
    "start_time": "2022-11-08T15:17:04.270Z"
   },
   {
    "duration": 6,
    "start_time": "2022-11-08T15:17:04.279Z"
   },
   {
    "duration": 8,
    "start_time": "2022-11-08T15:17:04.287Z"
   },
   {
    "duration": 4,
    "start_time": "2022-11-08T15:17:04.297Z"
   },
   {
    "duration": 5,
    "start_time": "2022-11-08T15:17:04.330Z"
   },
   {
    "duration": 7,
    "start_time": "2022-11-08T15:17:04.337Z"
   },
   {
    "duration": 6,
    "start_time": "2022-11-08T15:17:04.345Z"
   },
   {
    "duration": 45607,
    "start_time": "2022-11-08T15:17:04.355Z"
   },
   {
    "duration": 12,
    "start_time": "2022-11-08T15:17:49.964Z"
   },
   {
    "duration": 20,
    "start_time": "2022-11-08T15:17:49.978Z"
   },
   {
    "duration": 61,
    "start_time": "2022-11-08T15:17:50.000Z"
   },
   {
    "duration": 75,
    "start_time": "2022-11-08T15:17:50.063Z"
   },
   {
    "duration": 12,
    "start_time": "2022-11-08T15:17:50.230Z"
   },
   {
    "duration": 5,
    "start_time": "2022-11-08T15:17:50.244Z"
   },
   {
    "duration": 14,
    "start_time": "2022-11-08T15:17:50.251Z"
   },
   {
    "duration": 33,
    "start_time": "2022-11-08T15:17:50.267Z"
   },
   {
    "duration": 4,
    "start_time": "2022-11-08T15:17:50.302Z"
   },
   {
    "duration": 24,
    "start_time": "2022-11-08T15:17:50.308Z"
   },
   {
    "duration": 130,
    "start_time": "2022-11-08T15:17:50.334Z"
   },
   {
    "duration": 34,
    "start_time": "2022-11-08T15:17:50.465Z"
   },
   {
    "duration": 4,
    "start_time": "2022-11-08T15:17:50.501Z"
   },
   {
    "duration": 10,
    "start_time": "2022-11-08T15:17:50.506Z"
   },
   {
    "duration": 6,
    "start_time": "2022-11-08T15:17:50.531Z"
   },
   {
    "duration": 9,
    "start_time": "2022-11-08T15:17:50.538Z"
   },
   {
    "duration": 9,
    "start_time": "2022-11-08T15:17:50.548Z"
   },
   {
    "duration": 6,
    "start_time": "2022-11-08T15:17:50.559Z"
   },
   {
    "duration": 66,
    "start_time": "2022-11-08T15:17:50.566Z"
   },
   {
    "duration": 111,
    "start_time": "2022-11-08T15:17:50.635Z"
   },
   {
    "duration": 181,
    "start_time": "2022-11-08T15:17:50.749Z"
   },
   {
    "duration": 12,
    "start_time": "2022-11-08T15:17:50.931Z"
   },
   {
    "duration": 18,
    "start_time": "2022-11-08T15:17:50.945Z"
   },
   {
    "duration": 8,
    "start_time": "2022-11-08T15:17:50.965Z"
   },
   {
    "duration": 22,
    "start_time": "2022-11-08T15:17:50.975Z"
   },
   {
    "duration": 50,
    "start_time": "2022-11-08T15:17:50.999Z"
   },
   {
    "duration": 8,
    "start_time": "2022-11-08T15:17:51.130Z"
   },
   {
    "duration": 110,
    "start_time": "2022-11-08T15:17:51.140Z"
   },
   {
    "duration": 81,
    "start_time": "2022-11-08T15:17:51.252Z"
   },
   {
    "duration": 111,
    "start_time": "2022-11-08T15:17:51.335Z"
   },
   {
    "duration": 1587,
    "start_time": "2022-11-08T15:17:51.448Z"
   },
   {
    "duration": 215,
    "start_time": "2022-11-08T15:17:53.037Z"
   },
   {
    "duration": 8,
    "start_time": "2022-11-08T15:17:53.254Z"
   },
   {
    "duration": 277,
    "start_time": "2022-11-08T15:17:53.264Z"
   },
   {
    "duration": 52,
    "start_time": "2022-11-08T15:17:53.542Z"
   },
   {
    "duration": 40,
    "start_time": "2022-11-08T15:17:53.596Z"
   },
   {
    "duration": 1371,
    "start_time": "2022-11-08T15:47:11.879Z"
   },
   {
    "duration": 51,
    "start_time": "2022-11-08T15:47:13.252Z"
   },
   {
    "duration": 16,
    "start_time": "2022-11-08T15:47:13.305Z"
   },
   {
    "duration": 4,
    "start_time": "2022-11-08T15:47:13.323Z"
   },
   {
    "duration": 5,
    "start_time": "2022-11-08T15:47:13.331Z"
   },
   {
    "duration": 18,
    "start_time": "2022-11-08T15:47:13.337Z"
   },
   {
    "duration": 161,
    "start_time": "2022-11-08T15:47:13.357Z"
   },
   {
    "duration": 156,
    "start_time": "2022-11-08T15:47:13.520Z"
   },
   {
    "duration": 5,
    "start_time": "2022-11-08T15:47:13.678Z"
   },
   {
    "duration": 5,
    "start_time": "2022-11-08T15:47:13.685Z"
   },
   {
    "duration": 7,
    "start_time": "2022-11-08T15:47:13.692Z"
   },
   {
    "duration": 8,
    "start_time": "2022-11-08T15:47:13.700Z"
   },
   {
    "duration": 25,
    "start_time": "2022-11-08T15:47:13.710Z"
   },
   {
    "duration": 4,
    "start_time": "2022-11-08T15:47:13.738Z"
   },
   {
    "duration": 30,
    "start_time": "2022-11-08T15:47:13.744Z"
   },
   {
    "duration": 3,
    "start_time": "2022-11-08T15:47:13.777Z"
   },
   {
    "duration": 6,
    "start_time": "2022-11-08T15:47:13.782Z"
   },
   {
    "duration": 7,
    "start_time": "2022-11-08T15:47:13.790Z"
   },
   {
    "duration": 8,
    "start_time": "2022-11-08T15:47:13.798Z"
   },
   {
    "duration": 23,
    "start_time": "2022-11-08T15:47:13.808Z"
   },
   {
    "duration": 5,
    "start_time": "2022-11-08T15:47:13.833Z"
   },
   {
    "duration": 5,
    "start_time": "2022-11-08T15:47:13.839Z"
   },
   {
    "duration": 6,
    "start_time": "2022-11-08T15:47:13.846Z"
   },
   {
    "duration": 5,
    "start_time": "2022-11-08T15:47:13.853Z"
   },
   {
    "duration": 7,
    "start_time": "2022-11-08T15:47:13.859Z"
   },
   {
    "duration": 6,
    "start_time": "2022-11-08T15:47:13.867Z"
   },
   {
    "duration": 6,
    "start_time": "2022-11-08T15:47:13.874Z"
   },
   {
    "duration": 47676,
    "start_time": "2022-11-08T15:47:13.882Z"
   },
   {
    "duration": 17,
    "start_time": "2022-11-08T15:48:01.561Z"
   },
   {
    "duration": 57,
    "start_time": "2022-11-08T15:48:01.580Z"
   },
   {
    "duration": 86,
    "start_time": "2022-11-08T15:48:01.639Z"
   },
   {
    "duration": 17,
    "start_time": "2022-11-08T15:48:01.727Z"
   },
   {
    "duration": 111,
    "start_time": "2022-11-08T15:48:01.835Z"
   },
   {
    "duration": 23,
    "start_time": "2022-11-08T15:48:01.947Z"
   },
   {
    "duration": 24,
    "start_time": "2022-11-08T15:48:01.972Z"
   },
   {
    "duration": 41,
    "start_time": "2022-11-08T15:48:01.998Z"
   },
   {
    "duration": 10,
    "start_time": "2022-11-08T15:48:02.041Z"
   },
   {
    "duration": 38,
    "start_time": "2022-11-08T15:48:02.052Z"
   },
   {
    "duration": 152,
    "start_time": "2022-11-08T15:48:02.091Z"
   },
   {
    "duration": 43,
    "start_time": "2022-11-08T15:48:02.245Z"
   },
   {
    "duration": 5,
    "start_time": "2022-11-08T15:48:02.295Z"
   },
   {
    "duration": 70,
    "start_time": "2022-11-08T15:48:02.302Z"
   },
   {
    "duration": 32,
    "start_time": "2022-11-08T15:48:02.374Z"
   },
   {
    "duration": 26,
    "start_time": "2022-11-08T15:48:02.408Z"
   },
   {
    "duration": 18,
    "start_time": "2022-11-08T15:48:02.436Z"
   },
   {
    "duration": 30,
    "start_time": "2022-11-08T15:48:02.456Z"
   },
   {
    "duration": 33,
    "start_time": "2022-11-08T15:48:02.487Z"
   },
   {
    "duration": 206,
    "start_time": "2022-11-08T15:48:02.534Z"
   },
   {
    "duration": 93,
    "start_time": "2022-11-08T15:48:02.744Z"
   },
   {
    "duration": 106,
    "start_time": "2022-11-08T15:48:02.840Z"
   },
   {
    "duration": 33,
    "start_time": "2022-11-08T15:48:02.947Z"
   },
   {
    "duration": 16,
    "start_time": "2022-11-08T15:48:02.981Z"
   },
   {
    "duration": 22,
    "start_time": "2022-11-08T15:48:02.999Z"
   },
   {
    "duration": 53,
    "start_time": "2022-11-08T15:48:03.023Z"
   },
   {
    "duration": 56,
    "start_time": "2022-11-08T15:48:03.078Z"
   },
   {
    "duration": 125,
    "start_time": "2022-11-08T15:48:03.137Z"
   },
   {
    "duration": 71,
    "start_time": "2022-11-08T15:48:03.264Z"
   },
   {
    "duration": 134,
    "start_time": "2022-11-08T15:48:03.338Z"
   },
   {
    "duration": 1560,
    "start_time": "2022-11-08T15:48:03.474Z"
   },
   {
    "duration": 137,
    "start_time": "2022-11-08T15:48:05.130Z"
   },
   {
    "duration": 6,
    "start_time": "2022-11-08T15:48:05.268Z"
   },
   {
    "duration": 292,
    "start_time": "2022-11-08T15:48:05.276Z"
   },
   {
    "duration": 68,
    "start_time": "2022-11-08T15:48:05.571Z"
   },
   {
    "duration": 21,
    "start_time": "2022-11-08T15:48:05.641Z"
   },
   {
    "duration": 1393,
    "start_time": "2022-11-08T15:55:41.940Z"
   },
   {
    "duration": 48,
    "start_time": "2022-11-08T15:55:43.335Z"
   },
   {
    "duration": 14,
    "start_time": "2022-11-08T15:55:43.384Z"
   },
   {
    "duration": 5,
    "start_time": "2022-11-08T15:55:43.400Z"
   },
   {
    "duration": 10,
    "start_time": "2022-11-08T15:55:43.406Z"
   },
   {
    "duration": 29,
    "start_time": "2022-11-08T15:55:43.418Z"
   },
   {
    "duration": 161,
    "start_time": "2022-11-08T15:55:43.448Z"
   },
   {
    "duration": 157,
    "start_time": "2022-11-08T15:55:43.610Z"
   },
   {
    "duration": 4,
    "start_time": "2022-11-08T15:55:43.768Z"
   },
   {
    "duration": 16,
    "start_time": "2022-11-08T15:55:43.775Z"
   },
   {
    "duration": 9,
    "start_time": "2022-11-08T15:55:43.793Z"
   },
   {
    "duration": 16,
    "start_time": "2022-11-08T15:55:43.803Z"
   },
   {
    "duration": 15,
    "start_time": "2022-11-08T15:55:43.820Z"
   },
   {
    "duration": 4,
    "start_time": "2022-11-08T15:55:43.836Z"
   },
   {
    "duration": 25,
    "start_time": "2022-11-08T15:55:43.841Z"
   },
   {
    "duration": 4,
    "start_time": "2022-11-08T15:55:43.868Z"
   },
   {
    "duration": 9,
    "start_time": "2022-11-08T15:55:43.874Z"
   },
   {
    "duration": 6,
    "start_time": "2022-11-08T15:55:43.885Z"
   },
   {
    "duration": 7,
    "start_time": "2022-11-08T15:55:43.893Z"
   },
   {
    "duration": 6,
    "start_time": "2022-11-08T15:55:43.901Z"
   },
   {
    "duration": 22,
    "start_time": "2022-11-08T15:55:43.909Z"
   },
   {
    "duration": 13,
    "start_time": "2022-11-08T15:55:43.933Z"
   },
   {
    "duration": 8,
    "start_time": "2022-11-08T15:55:43.948Z"
   },
   {
    "duration": 22,
    "start_time": "2022-11-08T15:55:43.958Z"
   },
   {
    "duration": 16,
    "start_time": "2022-11-08T15:55:43.982Z"
   },
   {
    "duration": 10,
    "start_time": "2022-11-08T15:55:44.000Z"
   },
   {
    "duration": 14,
    "start_time": "2022-11-08T15:55:44.013Z"
   },
   {
    "duration": 46170,
    "start_time": "2022-11-08T15:55:44.032Z"
   },
   {
    "duration": 14,
    "start_time": "2022-11-08T15:56:30.204Z"
   },
   {
    "duration": 38,
    "start_time": "2022-11-08T15:56:30.220Z"
   },
   {
    "duration": 44,
    "start_time": "2022-11-08T15:56:30.259Z"
   },
   {
    "duration": 30,
    "start_time": "2022-11-08T15:56:30.304Z"
   },
   {
    "duration": 196,
    "start_time": "2022-11-08T15:56:30.336Z"
   },
   {
    "duration": 57,
    "start_time": "2022-11-08T15:56:30.534Z"
   },
   {
    "duration": 48,
    "start_time": "2022-11-08T15:56:30.593Z"
   },
   {
    "duration": 44,
    "start_time": "2022-11-08T15:56:30.643Z"
   },
   {
    "duration": 14,
    "start_time": "2022-11-08T15:56:30.689Z"
   },
   {
    "duration": 41,
    "start_time": "2022-11-08T15:56:30.705Z"
   },
   {
    "duration": 167,
    "start_time": "2022-11-08T15:56:30.747Z"
   },
   {
    "duration": 43,
    "start_time": "2022-11-08T15:56:30.916Z"
   },
   {
    "duration": 13,
    "start_time": "2022-11-08T15:56:30.961Z"
   },
   {
    "duration": 33,
    "start_time": "2022-11-08T15:56:30.976Z"
   },
   {
    "duration": 22,
    "start_time": "2022-11-08T15:56:31.010Z"
   },
   {
    "duration": 31,
    "start_time": "2022-11-08T15:56:31.033Z"
   },
   {
    "duration": 15,
    "start_time": "2022-11-08T15:56:31.066Z"
   },
   {
    "duration": 11,
    "start_time": "2022-11-08T15:56:31.083Z"
   },
   {
    "duration": 38,
    "start_time": "2022-11-08T15:56:31.096Z"
   },
   {
    "duration": 211,
    "start_time": "2022-11-08T15:56:31.136Z"
   },
   {
    "duration": 196,
    "start_time": "2022-11-08T15:56:31.350Z"
   },
   {
    "duration": 21,
    "start_time": "2022-11-08T15:56:31.547Z"
   },
   {
    "duration": 34,
    "start_time": "2022-11-08T15:56:31.570Z"
   },
   {
    "duration": 23,
    "start_time": "2022-11-08T15:56:31.605Z"
   },
   {
    "duration": 36,
    "start_time": "2022-11-08T15:56:31.630Z"
   },
   {
    "duration": 64,
    "start_time": "2022-11-08T15:56:31.668Z"
   },
   {
    "duration": 100,
    "start_time": "2022-11-08T15:56:31.735Z"
   },
   {
    "duration": 126,
    "start_time": "2022-11-08T15:56:31.837Z"
   },
   {
    "duration": 71,
    "start_time": "2022-11-08T15:56:31.966Z"
   },
   {
    "duration": 128,
    "start_time": "2022-11-08T15:56:32.039Z"
   },
   {
    "duration": 1668,
    "start_time": "2022-11-08T15:56:32.169Z"
   },
   {
    "duration": 242,
    "start_time": "2022-11-08T15:56:33.839Z"
   },
   {
    "duration": 50,
    "start_time": "2022-11-08T15:56:34.084Z"
   },
   {
    "duration": 250,
    "start_time": "2022-11-08T15:56:34.137Z"
   },
   {
    "duration": 50,
    "start_time": "2022-11-08T15:56:34.389Z"
   },
   {
    "duration": 19,
    "start_time": "2022-11-08T15:56:34.440Z"
   },
   {
    "duration": 41384,
    "start_time": "2022-11-08T15:56:34.460Z"
   },
   {
    "duration": 21964,
    "start_time": "2022-11-08T15:57:15.846Z"
   },
   {
    "duration": 537,
    "start_time": "2022-11-08T15:57:37.812Z"
   },
   {
    "duration": 4,
    "start_time": "2022-11-08T15:57:38.350Z"
   },
   {
    "duration": 134,
    "start_time": "2022-11-08T15:57:38.355Z"
   },
   {
    "duration": 146316,
    "start_time": "2022-11-08T15:59:03.296Z"
   },
   {
    "duration": 114028,
    "start_time": "2022-11-08T16:02:06.986Z"
   },
   {
    "duration": 23,
    "start_time": "2022-11-08T16:13:19.575Z"
   },
   {
    "duration": 24,
    "start_time": "2022-11-08T16:14:52.492Z"
   },
   {
    "duration": 40,
    "start_time": "2022-11-08T16:17:02.278Z"
   },
   {
    "duration": 24,
    "start_time": "2022-11-08T16:17:49.312Z"
   },
   {
    "duration": 42,
    "start_time": "2022-11-08T16:20:02.723Z"
   },
   {
    "duration": 78353,
    "start_time": "2022-11-08T16:22:56.618Z"
   },
   {
    "duration": 1504,
    "start_time": "2022-11-08T16:27:34.163Z"
   },
   {
    "duration": 74,
    "start_time": "2022-11-08T16:27:35.669Z"
   },
   {
    "duration": 14,
    "start_time": "2022-11-08T16:27:35.745Z"
   },
   {
    "duration": 4,
    "start_time": "2022-11-08T16:27:35.761Z"
   },
   {
    "duration": 10,
    "start_time": "2022-11-08T16:27:35.766Z"
   },
   {
    "duration": 17,
    "start_time": "2022-11-08T16:27:35.778Z"
   },
   {
    "duration": 157,
    "start_time": "2022-11-08T16:27:35.796Z"
   },
   {
    "duration": 190,
    "start_time": "2022-11-08T16:27:35.955Z"
   },
   {
    "duration": 5,
    "start_time": "2022-11-08T16:27:36.146Z"
   },
   {
    "duration": 9,
    "start_time": "2022-11-08T16:27:36.154Z"
   },
   {
    "duration": 13,
    "start_time": "2022-11-08T16:27:36.165Z"
   },
   {
    "duration": 20,
    "start_time": "2022-11-08T16:27:36.180Z"
   },
   {
    "duration": 29,
    "start_time": "2022-11-08T16:27:36.201Z"
   },
   {
    "duration": 4,
    "start_time": "2022-11-08T16:27:36.232Z"
   },
   {
    "duration": 20,
    "start_time": "2022-11-08T16:27:36.237Z"
   },
   {
    "duration": 25,
    "start_time": "2022-11-08T16:27:36.258Z"
   },
   {
    "duration": 30,
    "start_time": "2022-11-08T16:27:36.285Z"
   },
   {
    "duration": 16,
    "start_time": "2022-11-08T16:27:36.317Z"
   },
   {
    "duration": 11,
    "start_time": "2022-11-08T16:27:36.334Z"
   },
   {
    "duration": 16,
    "start_time": "2022-11-08T16:27:36.346Z"
   },
   {
    "duration": 14,
    "start_time": "2022-11-08T16:27:36.364Z"
   },
   {
    "duration": 7,
    "start_time": "2022-11-08T16:27:36.380Z"
   },
   {
    "duration": 22,
    "start_time": "2022-11-08T16:27:36.389Z"
   },
   {
    "duration": 10,
    "start_time": "2022-11-08T16:27:36.412Z"
   },
   {
    "duration": 15,
    "start_time": "2022-11-08T16:27:36.424Z"
   },
   {
    "duration": 52,
    "start_time": "2022-11-08T16:27:36.441Z"
   },
   {
    "duration": 41,
    "start_time": "2022-11-08T16:27:36.495Z"
   },
   {
    "duration": 46697,
    "start_time": "2022-11-08T16:27:36.541Z"
   },
   {
    "duration": 12,
    "start_time": "2022-11-08T16:28:23.240Z"
   },
   {
    "duration": 24,
    "start_time": "2022-11-08T16:28:23.254Z"
   },
   {
    "duration": 71,
    "start_time": "2022-11-08T16:28:23.279Z"
   },
   {
    "duration": 9,
    "start_time": "2022-11-08T16:28:23.351Z"
   },
   {
    "duration": 108,
    "start_time": "2022-11-08T16:28:23.430Z"
   },
   {
    "duration": 8,
    "start_time": "2022-11-08T16:28:23.539Z"
   },
   {
    "duration": 12,
    "start_time": "2022-11-08T16:28:23.549Z"
   },
   {
    "duration": 35,
    "start_time": "2022-11-08T16:28:23.563Z"
   },
   {
    "duration": 6,
    "start_time": "2022-11-08T16:28:23.603Z"
   },
   {
    "duration": 32,
    "start_time": "2022-11-08T16:28:23.611Z"
   },
   {
    "duration": 131,
    "start_time": "2022-11-08T16:28:23.645Z"
   },
   {
    "duration": 35,
    "start_time": "2022-11-08T16:28:23.778Z"
   },
   {
    "duration": 18,
    "start_time": "2022-11-08T16:28:23.815Z"
   },
   {
    "duration": 7,
    "start_time": "2022-11-08T16:28:23.834Z"
   },
   {
    "duration": 6,
    "start_time": "2022-11-08T16:28:23.843Z"
   },
   {
    "duration": 7,
    "start_time": "2022-11-08T16:28:23.851Z"
   },
   {
    "duration": 5,
    "start_time": "2022-11-08T16:28:23.859Z"
   },
   {
    "duration": 6,
    "start_time": "2022-11-08T16:28:23.866Z"
   },
   {
    "duration": 157,
    "start_time": "2022-11-08T16:28:23.874Z"
   },
   {
    "duration": 26,
    "start_time": "2022-11-08T16:28:24.034Z"
   },
   {
    "duration": 75,
    "start_time": "2022-11-08T16:28:24.063Z"
   },
   {
    "duration": 102,
    "start_time": "2022-11-08T16:28:24.140Z"
   },
   {
    "duration": 18,
    "start_time": "2022-11-08T16:28:24.243Z"
   },
   {
    "duration": 7,
    "start_time": "2022-11-08T16:28:24.263Z"
   },
   {
    "duration": 15,
    "start_time": "2022-11-08T16:28:24.271Z"
   },
   {
    "duration": 51,
    "start_time": "2022-11-08T16:28:24.287Z"
   },
   {
    "duration": 90,
    "start_time": "2022-11-08T16:28:24.341Z"
   },
   {
    "duration": 115,
    "start_time": "2022-11-08T16:28:24.433Z"
   },
   {
    "duration": 85,
    "start_time": "2022-11-08T16:28:24.552Z"
   },
   {
    "duration": 104,
    "start_time": "2022-11-08T16:28:24.639Z"
   },
   {
    "duration": 1491,
    "start_time": "2022-11-08T16:28:24.745Z"
   },
   {
    "duration": 306,
    "start_time": "2022-11-08T16:28:26.238Z"
   },
   {
    "duration": 6,
    "start_time": "2022-11-08T16:28:26.546Z"
   },
   {
    "duration": 300,
    "start_time": "2022-11-08T16:28:26.554Z"
   },
   {
    "duration": 76,
    "start_time": "2022-11-08T16:28:26.855Z"
   },
   {
    "duration": 136,
    "start_time": "2022-11-08T16:28:26.934Z"
   },
   {
    "duration": 20,
    "start_time": "2022-11-08T16:28:27.072Z"
   },
   {
    "duration": 58,
    "start_time": "2022-11-08T16:28:27.094Z"
   },
   {
    "duration": 116657,
    "start_time": "2022-11-08T16:28:27.154Z"
   },
   {
    "duration": 42056,
    "start_time": "2022-11-08T16:30:23.813Z"
   },
   {
    "duration": 79459,
    "start_time": "2022-11-08T16:31:05.871Z"
   },
   {
    "duration": 192,
    "start_time": "2022-11-08T16:32:25.331Z"
   },
   {
    "duration": 7,
    "start_time": "2022-11-08T16:32:25.525Z"
   },
   {
    "duration": 149,
    "start_time": "2022-11-08T16:32:25.534Z"
   },
   {
    "duration": 71,
    "start_time": "2022-11-08T16:42:16.514Z"
   },
   {
    "duration": 1464,
    "start_time": "2022-11-08T16:47:49.553Z"
   },
   {
    "duration": 50,
    "start_time": "2022-11-08T16:47:51.018Z"
   },
   {
    "duration": 13,
    "start_time": "2022-11-08T16:47:51.070Z"
   },
   {
    "duration": 16,
    "start_time": "2022-11-08T16:47:51.085Z"
   },
   {
    "duration": 28,
    "start_time": "2022-11-08T16:47:51.103Z"
   },
   {
    "duration": 44,
    "start_time": "2022-11-08T16:47:51.132Z"
   },
   {
    "duration": 186,
    "start_time": "2022-11-08T16:47:51.178Z"
   },
   {
    "duration": 168,
    "start_time": "2022-11-08T16:47:51.366Z"
   },
   {
    "duration": 5,
    "start_time": "2022-11-08T16:47:51.535Z"
   },
   {
    "duration": 30,
    "start_time": "2022-11-08T16:47:51.542Z"
   },
   {
    "duration": 35,
    "start_time": "2022-11-08T16:47:51.574Z"
   },
   {
    "duration": 33,
    "start_time": "2022-11-08T16:47:51.611Z"
   },
   {
    "duration": 41,
    "start_time": "2022-11-08T16:47:51.646Z"
   },
   {
    "duration": 15,
    "start_time": "2022-11-08T16:47:51.689Z"
   },
   {
    "duration": 23,
    "start_time": "2022-11-08T16:47:51.706Z"
   },
   {
    "duration": 32,
    "start_time": "2022-11-08T16:47:51.731Z"
   },
   {
    "duration": 31,
    "start_time": "2022-11-08T16:47:51.764Z"
   },
   {
    "duration": 31,
    "start_time": "2022-11-08T16:47:51.797Z"
   },
   {
    "duration": 17,
    "start_time": "2022-11-08T16:47:51.830Z"
   },
   {
    "duration": 13,
    "start_time": "2022-11-08T16:47:51.848Z"
   },
   {
    "duration": 21,
    "start_time": "2022-11-08T16:47:51.863Z"
   },
   {
    "duration": 22,
    "start_time": "2022-11-08T16:47:51.885Z"
   },
   {
    "duration": 37,
    "start_time": "2022-11-08T16:47:51.909Z"
   },
   {
    "duration": 36,
    "start_time": "2022-11-08T16:47:51.947Z"
   },
   {
    "duration": 39,
    "start_time": "2022-11-08T16:47:51.985Z"
   },
   {
    "duration": 22,
    "start_time": "2022-11-08T16:47:52.026Z"
   },
   {
    "duration": 28,
    "start_time": "2022-11-08T16:47:52.050Z"
   },
   {
    "duration": 46976,
    "start_time": "2022-11-08T16:47:52.082Z"
   },
   {
    "duration": 13,
    "start_time": "2022-11-08T16:48:39.060Z"
   },
   {
    "duration": 23,
    "start_time": "2022-11-08T16:48:39.074Z"
   },
   {
    "duration": 50,
    "start_time": "2022-11-08T16:48:39.098Z"
   },
   {
    "duration": 8,
    "start_time": "2022-11-08T16:48:39.149Z"
   },
   {
    "duration": 102,
    "start_time": "2022-11-08T16:48:39.231Z"
   },
   {
    "duration": 6,
    "start_time": "2022-11-08T16:48:39.334Z"
   },
   {
    "duration": 11,
    "start_time": "2022-11-08T16:48:39.341Z"
   },
   {
    "duration": 23,
    "start_time": "2022-11-08T16:48:39.354Z"
   },
   {
    "duration": 3,
    "start_time": "2022-11-08T16:48:39.378Z"
   },
   {
    "duration": 15,
    "start_time": "2022-11-08T16:48:39.383Z"
   },
   {
    "duration": 149,
    "start_time": "2022-11-08T16:48:39.399Z"
   },
   {
    "duration": 41,
    "start_time": "2022-11-08T16:48:39.550Z"
   },
   {
    "duration": 5,
    "start_time": "2022-11-08T16:48:39.593Z"
   },
   {
    "duration": 9,
    "start_time": "2022-11-08T16:48:39.600Z"
   },
   {
    "duration": 6,
    "start_time": "2022-11-08T16:48:39.631Z"
   },
   {
    "duration": 7,
    "start_time": "2022-11-08T16:48:39.638Z"
   },
   {
    "duration": 5,
    "start_time": "2022-11-08T16:48:39.646Z"
   },
   {
    "duration": 7,
    "start_time": "2022-11-08T16:48:39.653Z"
   },
   {
    "duration": 74,
    "start_time": "2022-11-08T16:48:39.662Z"
   },
   {
    "duration": 193,
    "start_time": "2022-11-08T16:48:39.738Z"
   },
   {
    "duration": 100,
    "start_time": "2022-11-08T16:48:39.933Z"
   },
   {
    "duration": 8,
    "start_time": "2022-11-08T16:48:40.035Z"
   },
   {
    "duration": 23,
    "start_time": "2022-11-08T16:48:40.044Z"
   },
   {
    "duration": 6,
    "start_time": "2022-11-08T16:48:40.069Z"
   },
   {
    "duration": 14,
    "start_time": "2022-11-08T16:48:40.077Z"
   },
   {
    "duration": 62,
    "start_time": "2022-11-08T16:48:40.092Z"
   },
   {
    "duration": 81,
    "start_time": "2022-11-08T16:48:40.158Z"
   },
   {
    "duration": 24,
    "start_time": "2022-11-08T16:48:40.330Z"
   },
   {
    "duration": 76,
    "start_time": "2022-11-08T16:48:40.356Z"
   },
   {
    "duration": 106,
    "start_time": "2022-11-08T16:48:40.434Z"
   },
   {
    "duration": 1590,
    "start_time": "2022-11-08T16:48:40.542Z"
   },
   {
    "duration": 207,
    "start_time": "2022-11-08T16:48:42.134Z"
   },
   {
    "duration": 7,
    "start_time": "2022-11-08T16:48:42.343Z"
   },
   {
    "duration": 299,
    "start_time": "2022-11-08T16:48:42.353Z"
   },
   {
    "duration": 79,
    "start_time": "2022-11-08T16:48:42.653Z"
   },
   {
    "duration": 140,
    "start_time": "2022-11-08T16:48:42.736Z"
   },
   {
    "duration": 19,
    "start_time": "2022-11-08T16:48:42.878Z"
   },
   {
    "duration": 58,
    "start_time": "2022-11-08T16:48:42.899Z"
   },
   {
    "duration": 115837,
    "start_time": "2022-11-08T16:48:42.959Z"
   },
   {
    "duration": 41739,
    "start_time": "2022-11-08T16:50:38.798Z"
   },
   {
    "duration": 79095,
    "start_time": "2022-11-08T16:51:20.538Z"
   },
   {
    "duration": 0,
    "start_time": "2022-11-08T16:52:39.635Z"
   },
   {
    "duration": 0,
    "start_time": "2022-11-08T16:52:39.636Z"
   },
   {
    "duration": 0,
    "start_time": "2022-11-08T16:52:39.637Z"
   },
   {
    "duration": 79660,
    "start_time": "2022-11-08T16:56:34.262Z"
   },
   {
    "duration": 202,
    "start_time": "2022-11-08T17:14:10.389Z"
   },
   {
    "duration": 5,
    "start_time": "2022-11-08T17:14:10.593Z"
   },
   {
    "duration": 151,
    "start_time": "2022-11-08T17:14:10.599Z"
   },
   {
    "duration": 187,
    "start_time": "2022-11-08T17:14:58.749Z"
   },
   {
    "duration": 5,
    "start_time": "2022-11-08T17:14:58.938Z"
   },
   {
    "duration": 185,
    "start_time": "2022-11-08T17:14:58.945Z"
   },
   {
    "duration": 1495,
    "start_time": "2022-11-08T17:15:38.882Z"
   },
   {
    "duration": 50,
    "start_time": "2022-11-08T17:15:40.380Z"
   },
   {
    "duration": 15,
    "start_time": "2022-11-08T17:15:40.432Z"
   },
   {
    "duration": 21,
    "start_time": "2022-11-08T17:15:40.450Z"
   },
   {
    "duration": 8,
    "start_time": "2022-11-08T17:15:40.473Z"
   },
   {
    "duration": 17,
    "start_time": "2022-11-08T17:15:40.482Z"
   },
   {
    "duration": 170,
    "start_time": "2022-11-08T17:15:40.500Z"
   },
   {
    "duration": 169,
    "start_time": "2022-11-08T17:15:40.671Z"
   },
   {
    "duration": 5,
    "start_time": "2022-11-08T17:15:40.842Z"
   },
   {
    "duration": 5,
    "start_time": "2022-11-08T17:15:40.850Z"
   },
   {
    "duration": 6,
    "start_time": "2022-11-08T17:15:40.857Z"
   },
   {
    "duration": 10,
    "start_time": "2022-11-08T17:15:40.865Z"
   },
   {
    "duration": 17,
    "start_time": "2022-11-08T17:15:40.877Z"
   },
   {
    "duration": 5,
    "start_time": "2022-11-08T17:15:40.896Z"
   },
   {
    "duration": 40,
    "start_time": "2022-11-08T17:15:40.902Z"
   },
   {
    "duration": 4,
    "start_time": "2022-11-08T17:15:40.943Z"
   },
   {
    "duration": 9,
    "start_time": "2022-11-08T17:15:40.949Z"
   },
   {
    "duration": 7,
    "start_time": "2022-11-08T17:15:40.960Z"
   },
   {
    "duration": 7,
    "start_time": "2022-11-08T17:15:40.969Z"
   },
   {
    "duration": 11,
    "start_time": "2022-11-08T17:15:40.978Z"
   },
   {
    "duration": 7,
    "start_time": "2022-11-08T17:15:40.991Z"
   },
   {
    "duration": 6,
    "start_time": "2022-11-08T17:15:41.000Z"
   },
   {
    "duration": 28,
    "start_time": "2022-11-08T17:15:41.008Z"
   },
   {
    "duration": 5,
    "start_time": "2022-11-08T17:15:41.038Z"
   },
   {
    "duration": 11,
    "start_time": "2022-11-08T17:15:41.045Z"
   },
   {
    "duration": 7,
    "start_time": "2022-11-08T17:15:41.058Z"
   },
   {
    "duration": 11,
    "start_time": "2022-11-08T17:15:41.066Z"
   },
   {
    "duration": 47401,
    "start_time": "2022-11-08T17:15:41.081Z"
   },
   {
    "duration": 13,
    "start_time": "2022-11-08T17:16:28.484Z"
   },
   {
    "duration": 36,
    "start_time": "2022-11-08T17:16:28.498Z"
   },
   {
    "duration": 36,
    "start_time": "2022-11-08T17:16:28.535Z"
   },
   {
    "duration": 64,
    "start_time": "2022-11-08T17:16:28.573Z"
   },
   {
    "duration": 97,
    "start_time": "2022-11-08T17:16:28.640Z"
   },
   {
    "duration": 7,
    "start_time": "2022-11-08T17:16:28.738Z"
   },
   {
    "duration": 12,
    "start_time": "2022-11-08T17:16:28.746Z"
   },
   {
    "duration": 27,
    "start_time": "2022-11-08T17:16:28.760Z"
   },
   {
    "duration": 3,
    "start_time": "2022-11-08T17:16:28.789Z"
   },
   {
    "duration": 39,
    "start_time": "2022-11-08T17:16:28.793Z"
   },
   {
    "duration": 126,
    "start_time": "2022-11-08T17:16:28.834Z"
   },
   {
    "duration": 37,
    "start_time": "2022-11-08T17:16:28.961Z"
   },
   {
    "duration": 4,
    "start_time": "2022-11-08T17:16:29.001Z"
   },
   {
    "duration": 24,
    "start_time": "2022-11-08T17:16:29.008Z"
   },
   {
    "duration": 7,
    "start_time": "2022-11-08T17:16:29.034Z"
   },
   {
    "duration": 11,
    "start_time": "2022-11-08T17:16:29.042Z"
   },
   {
    "duration": 11,
    "start_time": "2022-11-08T17:16:29.054Z"
   },
   {
    "duration": 8,
    "start_time": "2022-11-08T17:16:29.067Z"
   },
   {
    "duration": 56,
    "start_time": "2022-11-08T17:16:29.076Z"
   },
   {
    "duration": 117,
    "start_time": "2022-11-08T17:16:29.135Z"
   },
   {
    "duration": 177,
    "start_time": "2022-11-08T17:16:29.254Z"
   },
   {
    "duration": 8,
    "start_time": "2022-11-08T17:16:29.433Z"
   },
   {
    "duration": 19,
    "start_time": "2022-11-08T17:16:29.442Z"
   },
   {
    "duration": 12,
    "start_time": "2022-11-08T17:16:29.462Z"
   },
   {
    "duration": 21,
    "start_time": "2022-11-08T17:16:29.475Z"
   },
   {
    "duration": 51,
    "start_time": "2022-11-08T17:16:29.498Z"
   },
   {
    "duration": 86,
    "start_time": "2022-11-08T17:16:29.551Z"
   },
   {
    "duration": 109,
    "start_time": "2022-11-08T17:16:29.639Z"
   },
   {
    "duration": 91,
    "start_time": "2022-11-08T17:16:29.750Z"
   },
   {
    "duration": 18,
    "start_time": "2022-11-08T17:16:29.933Z"
   },
   {
    "duration": 1605,
    "start_time": "2022-11-08T17:16:30.032Z"
   },
   {
    "duration": 225,
    "start_time": "2022-11-08T17:16:31.640Z"
   },
   {
    "duration": 67,
    "start_time": "2022-11-08T17:16:31.867Z"
   },
   {
    "duration": 250,
    "start_time": "2022-11-08T17:16:31.937Z"
   },
   {
    "duration": 43,
    "start_time": "2022-11-08T17:16:32.189Z"
   },
   {
    "duration": 136,
    "start_time": "2022-11-08T17:16:32.235Z"
   },
   {
    "duration": 62,
    "start_time": "2022-11-08T17:16:32.373Z"
   },
   {
    "duration": 40,
    "start_time": "2022-11-08T17:16:32.437Z"
   },
   {
    "duration": 116270,
    "start_time": "2022-11-08T17:16:32.479Z"
   },
   {
    "duration": 42853,
    "start_time": "2022-11-08T17:18:28.751Z"
   },
   {
    "duration": 78985,
    "start_time": "2022-11-08T17:19:11.605Z"
   },
   {
    "duration": 210,
    "start_time": "2022-11-08T17:20:30.592Z"
   },
   {
    "duration": 5,
    "start_time": "2022-11-08T17:20:30.804Z"
   },
   {
    "duration": 199,
    "start_time": "2022-11-08T17:20:30.810Z"
   },
   {
    "duration": 186,
    "start_time": "2022-11-08T17:27:36.791Z"
   },
   {
    "duration": 110,
    "start_time": "2022-11-08T17:30:01.592Z"
   },
   {
    "duration": 1903,
    "start_time": "2022-11-08T17:35:14.889Z"
   },
   {
    "duration": 48,
    "start_time": "2022-11-08T17:35:16.795Z"
   },
   {
    "duration": 14,
    "start_time": "2022-11-08T17:35:16.844Z"
   },
   {
    "duration": 4,
    "start_time": "2022-11-08T17:35:16.860Z"
   },
   {
    "duration": 10,
    "start_time": "2022-11-08T17:35:16.865Z"
   },
   {
    "duration": 17,
    "start_time": "2022-11-08T17:35:16.877Z"
   },
   {
    "duration": 163,
    "start_time": "2022-11-08T17:35:16.896Z"
   },
   {
    "duration": 140,
    "start_time": "2022-11-08T17:35:17.061Z"
   },
   {
    "duration": 5,
    "start_time": "2022-11-08T17:35:17.203Z"
   },
   {
    "duration": 19,
    "start_time": "2022-11-08T17:35:17.212Z"
   },
   {
    "duration": 4,
    "start_time": "2022-11-08T17:35:17.232Z"
   },
   {
    "duration": 9,
    "start_time": "2022-11-08T17:35:17.238Z"
   },
   {
    "duration": 15,
    "start_time": "2022-11-08T17:35:17.249Z"
   },
   {
    "duration": 4,
    "start_time": "2022-11-08T17:35:17.265Z"
   },
   {
    "duration": 19,
    "start_time": "2022-11-08T17:35:17.270Z"
   },
   {
    "duration": 4,
    "start_time": "2022-11-08T17:35:17.290Z"
   },
   {
    "duration": 7,
    "start_time": "2022-11-08T17:35:17.296Z"
   },
   {
    "duration": 5,
    "start_time": "2022-11-08T17:35:17.331Z"
   },
   {
    "duration": 7,
    "start_time": "2022-11-08T17:35:17.337Z"
   },
   {
    "duration": 5,
    "start_time": "2022-11-08T17:35:17.346Z"
   },
   {
    "duration": 6,
    "start_time": "2022-11-08T17:35:17.353Z"
   },
   {
    "duration": 5,
    "start_time": "2022-11-08T17:35:17.360Z"
   },
   {
    "duration": 5,
    "start_time": "2022-11-08T17:35:17.367Z"
   },
   {
    "duration": 5,
    "start_time": "2022-11-08T17:35:17.373Z"
   },
   {
    "duration": 7,
    "start_time": "2022-11-08T17:35:17.380Z"
   },
   {
    "duration": 17,
    "start_time": "2022-11-08T17:35:17.388Z"
   },
   {
    "duration": 4,
    "start_time": "2022-11-08T17:35:17.431Z"
   },
   {
    "duration": 46824,
    "start_time": "2022-11-08T17:35:17.439Z"
   },
   {
    "duration": 14,
    "start_time": "2022-11-08T17:36:04.264Z"
   },
   {
    "duration": 24,
    "start_time": "2022-11-08T17:36:04.279Z"
   },
   {
    "duration": 53,
    "start_time": "2022-11-08T17:36:04.304Z"
   },
   {
    "duration": 75,
    "start_time": "2022-11-08T17:36:04.358Z"
   },
   {
    "duration": 109,
    "start_time": "2022-11-08T17:36:04.434Z"
   },
   {
    "duration": 5,
    "start_time": "2022-11-08T17:36:04.545Z"
   },
   {
    "duration": 15,
    "start_time": "2022-11-08T17:36:04.552Z"
   },
   {
    "duration": 24,
    "start_time": "2022-11-08T17:36:04.569Z"
   },
   {
    "duration": 4,
    "start_time": "2022-11-08T17:36:04.595Z"
   },
   {
    "duration": 32,
    "start_time": "2022-11-08T17:36:04.600Z"
   },
   {
    "duration": 129,
    "start_time": "2022-11-08T17:36:04.634Z"
   },
   {
    "duration": 37,
    "start_time": "2022-11-08T17:36:04.765Z"
   },
   {
    "duration": 4,
    "start_time": "2022-11-08T17:36:04.804Z"
   },
   {
    "duration": 24,
    "start_time": "2022-11-08T17:36:04.809Z"
   },
   {
    "duration": 9,
    "start_time": "2022-11-08T17:36:04.835Z"
   },
   {
    "duration": 5,
    "start_time": "2022-11-08T17:36:04.846Z"
   },
   {
    "duration": 11,
    "start_time": "2022-11-08T17:36:04.852Z"
   },
   {
    "duration": 12,
    "start_time": "2022-11-08T17:36:04.864Z"
   },
   {
    "duration": 56,
    "start_time": "2022-11-08T17:36:04.877Z"
   },
   {
    "duration": 118,
    "start_time": "2022-11-08T17:36:04.935Z"
   },
   {
    "duration": 80,
    "start_time": "2022-11-08T17:36:05.055Z"
   },
   {
    "duration": 104,
    "start_time": "2022-11-08T17:36:05.139Z"
   },
   {
    "duration": 20,
    "start_time": "2022-11-08T17:36:05.244Z"
   },
   {
    "duration": 8,
    "start_time": "2022-11-08T17:36:05.265Z"
   },
   {
    "duration": 19,
    "start_time": "2022-11-08T17:36:05.275Z"
   },
   {
    "duration": 48,
    "start_time": "2022-11-08T17:36:05.296Z"
   },
   {
    "duration": 89,
    "start_time": "2022-11-08T17:36:05.346Z"
   },
   {
    "duration": 114,
    "start_time": "2022-11-08T17:36:05.437Z"
   },
   {
    "duration": 83,
    "start_time": "2022-11-08T17:36:05.554Z"
   },
   {
    "duration": 115,
    "start_time": "2022-11-08T17:36:05.639Z"
   },
   {
    "duration": 1674,
    "start_time": "2022-11-08T17:36:05.756Z"
   },
   {
    "duration": 132,
    "start_time": "2022-11-08T17:36:07.432Z"
   },
   {
    "duration": 7,
    "start_time": "2022-11-08T17:36:07.565Z"
   },
   {
    "duration": 282,
    "start_time": "2022-11-08T17:36:07.575Z"
   },
   {
    "duration": 77,
    "start_time": "2022-11-08T17:36:07.859Z"
   },
   {
    "duration": 134,
    "start_time": "2022-11-08T17:36:07.938Z"
   },
   {
    "duration": 21,
    "start_time": "2022-11-08T17:36:08.073Z"
   },
   {
    "duration": 63,
    "start_time": "2022-11-08T17:36:08.096Z"
   },
   {
    "duration": 114445,
    "start_time": "2022-11-08T17:36:08.161Z"
   },
   {
    "duration": 41633,
    "start_time": "2022-11-08T17:38:02.607Z"
   },
   {
    "duration": 77949,
    "start_time": "2022-11-08T17:38:44.242Z"
   },
   {
    "duration": 192,
    "start_time": "2022-11-08T17:40:02.192Z"
   },
   {
    "duration": 198,
    "start_time": "2022-11-08T17:40:02.385Z"
   },
   {
    "duration": 4,
    "start_time": "2022-11-08T17:40:02.584Z"
   },
   {
    "duration": 144,
    "start_time": "2022-11-08T17:40:02.590Z"
   },
   {
    "duration": 91,
    "start_time": "2022-11-08T17:44:30.364Z"
   },
   {
    "duration": 74,
    "start_time": "2022-11-08T17:47:50.505Z"
   },
   {
    "duration": 196,
    "start_time": "2022-11-08T17:57:38.043Z"
   },
   {
    "duration": 1521,
    "start_time": "2022-11-08T18:01:07.017Z"
   },
   {
    "duration": 50,
    "start_time": "2022-11-08T18:01:08.540Z"
   },
   {
    "duration": 16,
    "start_time": "2022-11-08T18:01:08.591Z"
   },
   {
    "duration": 3,
    "start_time": "2022-11-08T18:01:08.609Z"
   },
   {
    "duration": 6,
    "start_time": "2022-11-08T18:01:08.614Z"
   },
   {
    "duration": 22,
    "start_time": "2022-11-08T18:01:08.622Z"
   },
   {
    "duration": 158,
    "start_time": "2022-11-08T18:01:08.646Z"
   },
   {
    "duration": 165,
    "start_time": "2022-11-08T18:01:08.805Z"
   },
   {
    "duration": 4,
    "start_time": "2022-11-08T18:01:08.972Z"
   },
   {
    "duration": 15,
    "start_time": "2022-11-08T18:01:08.979Z"
   },
   {
    "duration": 10,
    "start_time": "2022-11-08T18:01:08.996Z"
   },
   {
    "duration": 10,
    "start_time": "2022-11-08T18:01:09.008Z"
   },
   {
    "duration": 84,
    "start_time": "2022-11-08T18:01:09.019Z"
   },
   {
    "duration": 4,
    "start_time": "2022-11-08T18:01:09.104Z"
   },
   {
    "duration": 17,
    "start_time": "2022-11-08T18:01:09.109Z"
   },
   {
    "duration": 4,
    "start_time": "2022-11-08T18:01:09.127Z"
   },
   {
    "duration": 9,
    "start_time": "2022-11-08T18:01:09.132Z"
   },
   {
    "duration": 7,
    "start_time": "2022-11-08T18:01:09.142Z"
   },
   {
    "duration": 6,
    "start_time": "2022-11-08T18:01:09.150Z"
   },
   {
    "duration": 8,
    "start_time": "2022-11-08T18:01:09.158Z"
   },
   {
    "duration": 14,
    "start_time": "2022-11-08T18:01:09.167Z"
   },
   {
    "duration": 8,
    "start_time": "2022-11-08T18:01:09.183Z"
   },
   {
    "duration": 7,
    "start_time": "2022-11-08T18:01:09.192Z"
   },
   {
    "duration": 5,
    "start_time": "2022-11-08T18:01:09.201Z"
   },
   {
    "duration": 8,
    "start_time": "2022-11-08T18:01:09.207Z"
   },
   {
    "duration": 3,
    "start_time": "2022-11-08T18:01:09.230Z"
   },
   {
    "duration": 8,
    "start_time": "2022-11-08T18:01:09.235Z"
   },
   {
    "duration": 47154,
    "start_time": "2022-11-08T18:01:09.248Z"
   },
   {
    "duration": 13,
    "start_time": "2022-11-08T18:01:56.405Z"
   },
   {
    "duration": 170,
    "start_time": "2022-11-08T18:01:56.421Z"
   },
   {
    "duration": 41,
    "start_time": "2022-11-08T18:01:56.593Z"
   },
   {
    "duration": 8,
    "start_time": "2022-11-08T18:01:56.635Z"
   },
   {
    "duration": 195,
    "start_time": "2022-11-08T18:01:56.645Z"
   },
   {
    "duration": 8,
    "start_time": "2022-11-08T18:01:56.841Z"
   },
   {
    "duration": 13,
    "start_time": "2022-11-08T18:01:56.850Z"
   },
   {
    "duration": 27,
    "start_time": "2022-11-08T18:01:56.864Z"
   },
   {
    "duration": 3,
    "start_time": "2022-11-08T18:01:56.892Z"
   },
   {
    "duration": 34,
    "start_time": "2022-11-08T18:01:56.897Z"
   },
   {
    "duration": 128,
    "start_time": "2022-11-08T18:01:56.932Z"
   },
   {
    "duration": 35,
    "start_time": "2022-11-08T18:01:57.062Z"
   },
   {
    "duration": 4,
    "start_time": "2022-11-08T18:01:57.100Z"
   },
   {
    "duration": 25,
    "start_time": "2022-11-08T18:01:57.105Z"
   },
   {
    "duration": 6,
    "start_time": "2022-11-08T18:01:57.132Z"
   },
   {
    "duration": 6,
    "start_time": "2022-11-08T18:01:57.140Z"
   },
   {
    "duration": 6,
    "start_time": "2022-11-08T18:01:57.147Z"
   },
   {
    "duration": 10,
    "start_time": "2022-11-08T18:01:57.154Z"
   },
   {
    "duration": 68,
    "start_time": "2022-11-08T18:01:57.165Z"
   },
   {
    "duration": 114,
    "start_time": "2022-11-08T18:01:57.236Z"
   },
   {
    "duration": 180,
    "start_time": "2022-11-08T18:01:57.352Z"
   },
   {
    "duration": 10,
    "start_time": "2022-11-08T18:01:57.534Z"
   },
   {
    "duration": 16,
    "start_time": "2022-11-08T18:01:57.546Z"
   },
   {
    "duration": 11,
    "start_time": "2022-11-08T18:01:57.564Z"
   },
   {
    "duration": 20,
    "start_time": "2022-11-08T18:01:57.576Z"
   },
   {
    "duration": 58,
    "start_time": "2022-11-08T18:01:57.598Z"
   },
   {
    "duration": 98,
    "start_time": "2022-11-08T18:01:57.734Z"
   },
   {
    "duration": 20,
    "start_time": "2022-11-08T18:01:57.833Z"
   },
   {
    "duration": 7,
    "start_time": "2022-11-08T18:01:57.932Z"
   },
   {
    "duration": 13,
    "start_time": "2022-11-08T18:01:58.031Z"
   },
   {
    "duration": 1395,
    "start_time": "2022-11-08T18:01:58.046Z"
   },
   {
    "duration": 251,
    "start_time": "2022-11-08T18:01:59.533Z"
   },
   {
    "duration": 5,
    "start_time": "2022-11-08T18:01:59.786Z"
   },
   {
    "duration": 224,
    "start_time": "2022-11-08T18:01:59.832Z"
   },
   {
    "duration": 74,
    "start_time": "2022-11-08T18:02:00.058Z"
   },
   {
    "duration": 139,
    "start_time": "2022-11-08T18:02:00.134Z"
   },
   {
    "duration": 21,
    "start_time": "2022-11-08T18:02:00.274Z"
   },
   {
    "duration": 58,
    "start_time": "2022-11-08T18:02:00.297Z"
   },
   {
    "duration": 115771,
    "start_time": "2022-11-08T18:02:00.357Z"
   },
   {
    "duration": 42081,
    "start_time": "2022-11-08T18:03:56.129Z"
   },
   {
    "duration": 79054,
    "start_time": "2022-11-08T18:04:38.211Z"
   },
   {
    "duration": 187,
    "start_time": "2022-11-08T18:05:57.267Z"
   },
   {
    "duration": 203,
    "start_time": "2022-11-08T18:05:57.456Z"
   },
   {
    "duration": 5,
    "start_time": "2022-11-08T18:05:57.664Z"
   },
   {
    "duration": 156,
    "start_time": "2022-11-08T18:05:57.671Z"
   },
   {
    "duration": 1522,
    "start_time": "2022-11-08T18:12:36.682Z"
   },
   {
    "duration": 51,
    "start_time": "2022-11-08T18:12:38.206Z"
   },
   {
    "duration": 15,
    "start_time": "2022-11-08T18:12:38.258Z"
   },
   {
    "duration": 5,
    "start_time": "2022-11-08T18:12:38.275Z"
   },
   {
    "duration": 9,
    "start_time": "2022-11-08T18:12:38.282Z"
   },
   {
    "duration": 39,
    "start_time": "2022-11-08T18:12:38.293Z"
   },
   {
    "duration": 157,
    "start_time": "2022-11-08T18:12:38.333Z"
   },
   {
    "duration": 165,
    "start_time": "2022-11-08T18:12:38.491Z"
   },
   {
    "duration": 5,
    "start_time": "2022-11-08T18:12:38.658Z"
   },
   {
    "duration": 17,
    "start_time": "2022-11-08T18:12:38.665Z"
   },
   {
    "duration": 15,
    "start_time": "2022-11-08T18:12:38.684Z"
   },
   {
    "duration": 8,
    "start_time": "2022-11-08T18:12:38.701Z"
   },
   {
    "duration": 19,
    "start_time": "2022-11-08T18:12:38.711Z"
   },
   {
    "duration": 10,
    "start_time": "2022-11-08T18:12:38.732Z"
   },
   {
    "duration": 27,
    "start_time": "2022-11-08T18:12:38.744Z"
   },
   {
    "duration": 14,
    "start_time": "2022-11-08T18:12:38.773Z"
   },
   {
    "duration": 12,
    "start_time": "2022-11-08T18:12:38.788Z"
   },
   {
    "duration": 13,
    "start_time": "2022-11-08T18:12:38.802Z"
   },
   {
    "duration": 36,
    "start_time": "2022-11-08T18:12:38.817Z"
   },
   {
    "duration": 14,
    "start_time": "2022-11-08T18:12:38.856Z"
   },
   {
    "duration": 33,
    "start_time": "2022-11-08T18:12:38.872Z"
   },
   {
    "duration": 22,
    "start_time": "2022-11-08T18:12:38.906Z"
   },
   {
    "duration": 27,
    "start_time": "2022-11-08T18:12:38.929Z"
   },
   {
    "duration": 23,
    "start_time": "2022-11-08T18:12:38.957Z"
   },
   {
    "duration": 14,
    "start_time": "2022-11-08T18:12:38.981Z"
   },
   {
    "duration": 31,
    "start_time": "2022-11-08T18:12:38.997Z"
   },
   {
    "duration": 16,
    "start_time": "2022-11-08T18:12:39.030Z"
   },
   {
    "duration": 47465,
    "start_time": "2022-11-08T18:12:39.050Z"
   },
   {
    "duration": 18,
    "start_time": "2022-11-08T18:13:26.517Z"
   },
   {
    "duration": 23,
    "start_time": "2022-11-08T18:13:26.536Z"
   },
   {
    "duration": 37,
    "start_time": "2022-11-08T18:13:26.561Z"
   },
   {
    "duration": 11,
    "start_time": "2022-11-08T18:13:26.631Z"
   },
   {
    "duration": 188,
    "start_time": "2022-11-08T18:13:26.644Z"
   },
   {
    "duration": 4,
    "start_time": "2022-11-08T18:13:26.834Z"
   },
   {
    "duration": 12,
    "start_time": "2022-11-08T18:13:26.840Z"
   },
   {
    "duration": 37,
    "start_time": "2022-11-08T18:13:26.854Z"
   },
   {
    "duration": 4,
    "start_time": "2022-11-08T18:13:26.894Z"
   },
   {
    "duration": 41,
    "start_time": "2022-11-08T18:13:26.900Z"
   },
   {
    "duration": 132,
    "start_time": "2022-11-08T18:13:26.944Z"
   },
   {
    "duration": 42,
    "start_time": "2022-11-08T18:13:27.080Z"
   },
   {
    "duration": 7,
    "start_time": "2022-11-08T18:13:27.124Z"
   },
   {
    "duration": 17,
    "start_time": "2022-11-08T18:13:27.133Z"
   },
   {
    "duration": 9,
    "start_time": "2022-11-08T18:13:27.152Z"
   },
   {
    "duration": 5,
    "start_time": "2022-11-08T18:13:27.163Z"
   },
   {
    "duration": 5,
    "start_time": "2022-11-08T18:13:27.170Z"
   },
   {
    "duration": 7,
    "start_time": "2022-11-08T18:13:27.177Z"
   },
   {
    "duration": 146,
    "start_time": "2022-11-08T18:13:27.185Z"
   },
   {
    "duration": 115,
    "start_time": "2022-11-08T18:13:27.334Z"
   },
   {
    "duration": 84,
    "start_time": "2022-11-08T18:13:27.452Z"
   },
   {
    "duration": 98,
    "start_time": "2022-11-08T18:13:27.538Z"
   },
   {
    "duration": 16,
    "start_time": "2022-11-08T18:13:27.638Z"
   },
   {
    "duration": 5,
    "start_time": "2022-11-08T18:13:27.656Z"
   },
   {
    "duration": 15,
    "start_time": "2022-11-08T18:13:27.662Z"
   },
   {
    "duration": 155,
    "start_time": "2022-11-08T18:13:27.679Z"
   },
   {
    "duration": 97,
    "start_time": "2022-11-08T18:13:27.837Z"
   },
   {
    "duration": 25,
    "start_time": "2022-11-08T18:13:27.937Z"
   },
   {
    "duration": 9,
    "start_time": "2022-11-08T18:13:28.032Z"
   },
   {
    "duration": 14,
    "start_time": "2022-11-08T18:13:28.131Z"
   },
   {
    "duration": 1392,
    "start_time": "2022-11-08T18:13:28.147Z"
   },
   {
    "duration": 224,
    "start_time": "2022-11-08T18:13:29.634Z"
   },
   {
    "duration": 9,
    "start_time": "2022-11-08T18:13:29.860Z"
   },
   {
    "duration": 291,
    "start_time": "2022-11-08T18:13:29.871Z"
   },
   {
    "duration": 72,
    "start_time": "2022-11-08T18:13:30.164Z"
   },
   {
    "duration": 146,
    "start_time": "2022-11-08T18:13:30.239Z"
   },
   {
    "duration": 21,
    "start_time": "2022-11-08T18:13:30.387Z"
   },
   {
    "duration": 53,
    "start_time": "2022-11-08T18:13:30.409Z"
   },
   {
    "duration": 120762,
    "start_time": "2022-11-08T18:13:30.463Z"
   },
   {
    "duration": 42680,
    "start_time": "2022-11-08T18:15:31.231Z"
   },
   {
    "duration": 80660,
    "start_time": "2022-11-08T18:16:13.913Z"
   },
   {
    "duration": 197,
    "start_time": "2022-11-08T18:17:34.574Z"
   },
   {
    "duration": 196,
    "start_time": "2022-11-08T18:17:34.773Z"
   },
   {
    "duration": 5,
    "start_time": "2022-11-08T18:17:34.971Z"
   },
   {
    "duration": 150,
    "start_time": "2022-11-08T18:17:34.978Z"
   },
   {
    "duration": 119133,
    "start_time": "2022-11-08T18:20:33.620Z"
   },
   {
    "duration": 42865,
    "start_time": "2022-11-08T18:22:32.756Z"
   },
   {
    "duration": 80196,
    "start_time": "2022-11-08T18:23:15.630Z"
   },
   {
    "duration": 199,
    "start_time": "2022-11-08T18:24:35.832Z"
   },
   {
    "duration": 198,
    "start_time": "2022-11-08T18:24:36.033Z"
   },
   {
    "duration": 5,
    "start_time": "2022-11-08T18:24:36.233Z"
   },
   {
    "duration": 145,
    "start_time": "2022-11-08T18:24:36.240Z"
   }
  ],
  "kernelspec": {
   "display_name": "Python 3 (ipykernel)",
   "language": "python",
   "name": "python3"
  },
  "language_info": {
   "codemirror_mode": {
    "name": "ipython",
    "version": 3
   },
   "file_extension": ".py",
   "mimetype": "text/x-python",
   "name": "python",
   "nbconvert_exporter": "python",
   "pygments_lexer": "ipython3",
   "version": "3.9.5"
  },
  "toc": {
   "base_numbering": 1,
   "nav_menu": {},
   "number_sections": true,
   "sideBar": true,
   "skip_h1_title": true,
   "title_cell": "Содержание",
   "title_sidebar": "Contents",
   "toc_cell": true,
   "toc_position": {
    "height": "calc(100% - 180px)",
    "left": "10px",
    "top": "150px",
    "width": "318px"
   },
   "toc_section_display": true,
   "toc_window_display": true
  }
 },
 "nbformat": 4,
 "nbformat_minor": 2
}
